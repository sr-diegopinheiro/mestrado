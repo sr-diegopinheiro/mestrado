{
 "cells": [
  {
   "cell_type": "markdown",
   "metadata": {},
   "source": [
    "TÓPICOS EM INTELIGÊNCIA COMPUTACIONAL - PROGRAMA DE PÓS-GRADUAÇÃO EM MODELAGEM COMPUTACIONAL DE SISTEMAS - 2021-2"
   ]
  },
  {
   "cell_type": "markdown",
   "metadata": {},
   "source": [
    "<img src=\"imagens/ppgmcs.png\" alt=\"tic\">"
   ]
  },
  {
   "cell_type": "markdown",
   "metadata": {},
   "source": [
    "---\n",
    "# Univerisdade Federal do Tocantins - UFT\n",
    "## Programa de Pós-graduação em Modelagem Computacional de Sistemas - PPGMCS"
   ]
  },
  {
   "cell_type": "markdown",
   "metadata": {},
   "source": [
    "---\n",
    "# Tópicos em Inteligência Computacional 2021-2\n",
    "### Professor: Marcelo Lisboa. <mlisboa@uft.edu.br>"
   ]
  },
  {
   "cell_type": "markdown",
   "metadata": {
    "colab_type": "text",
    "id": "Q8XbND3fl2N6"
   },
   "source": [
    "# Módulo 02 - NumPy\n",
    "\n",
    "> Em DataScience (DS) devem ser manipulados e transformados dados diversos quanto ao tipo e à origem. O armazenamento e manipulação eficiente de matrizes numéricas é absolutamente fundamental para fazer ciência de dados. \n",
    "\n",
    "> Nessa perspectiva será feita uma revisão especial das ferramentas personalizadas que o Python possui para lidar com matrizes numéricas: Os pacotes NumPy (Módulo 02) e Pandas (Módulo 03).\n",
    "\n",
    "> A biblioteca NumPy (abreviação de Python Numérico) fornece uma interface eficiente para armazenar e operar em buffers de dados densos. As matrizes NumPy são como o tipo *‘list’* do Python, no entanto, as matrizes NumPy fornecem um armazenamento mais eficiente e operações com dados à medida que as matrizes aumentam de tamanho. \n",
    "\n",
    "> As matrizes NumPy formam o **núcleo** de quase todo o **ecossistema** de ferramentas de DS em Python. Logo, saber lidar e usar o NumPy de forma eficaz será de grande importância para quem pretende lidar com DS nas mas diversas áreas de aplicação.\n",
    "\n",
    "> Maiores informações podem ser encontrada em https://numpy.org/"
   ]
  },
  {
   "cell_type": "markdown",
   "metadata": {
    "colab_type": "text",
    "id": "yKK0TaHNwocs"
   },
   "source": [
    "## Importando a biblioteca NumPy"
   ]
  },
  {
   "cell_type": "code",
   "execution_count": 1,
   "metadata": {
    "colab": {},
    "colab_type": "code",
    "id": "erMRiLMoh-dr"
   },
   "outputs": [],
   "source": [
    "# importando a biblioteca numpy\n",
    "import numpy as np"
   ]
  },
  {
   "cell_type": "code",
   "execution_count": 2,
   "metadata": {
    "colab": {},
    "colab_type": "code",
    "id": "aBuM68_ii3qe"
   },
   "outputs": [
    {
     "data": {
      "text/plain": [
       "'1.19.5'"
      ]
     },
     "execution_count": 2,
     "metadata": {},
     "output_type": "execute_result"
    }
   ],
   "source": [
    "# verficando a versão da biblioteca numpy\n",
    "np.__version__"
   ]
  },
  {
   "cell_type": "code",
   "execution_count": 3,
   "metadata": {
    "colab": {},
    "colab_type": "code",
    "id": "wUz5jBi4i3ly"
   },
   "outputs": [],
   "source": [
    "# help\n",
    "np?"
   ]
  },
  {
   "cell_type": "markdown",
   "metadata": {
    "colab_type": "text",
    "id": "qkchjJcvykWQ"
   },
   "source": [
    "## Listas em Numpy"
   ]
  },
  {
   "cell_type": "code",
   "execution_count": 4,
   "metadata": {
    "colab": {},
    "colab_type": "code",
    "id": "yNYpgEuiyUP_"
   },
   "outputs": [
    {
     "name": "stdout",
     "output_type": "stream",
     "text": [
      "L =  [0, 1, 2, 3, 4, 5, 6, 7, 8, 9]\n"
     ]
    }
   ],
   "source": [
    "# exemplo numpy-01\n",
    "# criando uma lista de inteiros\n",
    "L = list(range(10))\n",
    "print('L = ',L)"
   ]
  },
  {
   "cell_type": "code",
   "execution_count": 5,
   "metadata": {
    "colab": {},
    "colab_type": "code",
    "id": "dXhh17vwyUiy"
   },
   "outputs": [
    {
     "data": {
      "text/plain": [
       "int"
      ]
     },
     "execution_count": 5,
     "metadata": {},
     "output_type": "execute_result"
    }
   ],
   "source": [
    "# exemplo numpy-02\n",
    "# verificando o tipo\n",
    "type(L[0])"
   ]
  },
  {
   "cell_type": "code",
   "execution_count": 6,
   "metadata": {
    "colab": {},
    "colab_type": "code",
    "id": "DxyUkglxyUtO"
   },
   "outputs": [
    {
     "data": {
      "text/plain": [
       "['0', '1', '2', '3', '4', '5', '6', '7', '8', '9']"
      ]
     },
     "execution_count": 6,
     "metadata": {},
     "output_type": "execute_result"
    }
   ],
   "source": [
    "# exemplo numpy-03\n",
    "# criando uma lista de strings\n",
    "L1 =[str(c) for c in L]\n",
    "L1"
   ]
  },
  {
   "cell_type": "code",
   "execution_count": 7,
   "metadata": {
    "colab": {},
    "colab_type": "code",
    "id": "U9P0VhQuyU6N"
   },
   "outputs": [
    {
     "data": {
      "text/plain": [
       "str"
      ]
     },
     "execution_count": 7,
     "metadata": {},
     "output_type": "execute_result"
    }
   ],
   "source": [
    "# exemplo numpy-04\n",
    "# Verificando o tipo da string\n",
    "type(L1[0])"
   ]
  },
  {
   "cell_type": "code",
   "execution_count": 8,
   "metadata": {
    "colab": {},
    "colab_type": "code",
    "id": "fp6_TKT-yVEI"
   },
   "outputs": [
    {
     "name": "stdout",
     "output_type": "stream",
     "text": [
      "LH :  [<class 'bool'>, <class 'str'>, <class 'str'>, <class 'float'>, <class 'int'>, <class 'complex'>]\n"
     ]
    }
   ],
   "source": [
    "# exemplo numpy-05\n",
    "# criando lista heterogénea\n",
    "L2 = [False, \"J\", '2', 3.0, 0, 2-4j]\n",
    "L3 = [type(item) for item in L2]\n",
    "print('LH : ',L3)"
   ]
  },
  {
   "cell_type": "markdown",
   "metadata": {
    "colab_type": "text",
    "id": "xSMZ_S1z3bIq"
   },
   "source": [
    "## Arrays de Tipo Fixo\n",
    "Python oferece diversas opções para armazenar dados de forma eficiente, buffers de dados de tipo fixo. O módulo **array** (python >= 3.3) pode ser usado para criar arrays densos de tipo uniforme."
   ]
  },
  {
   "cell_type": "code",
   "execution_count": 9,
   "metadata": {
    "colab": {},
    "colab_type": "code",
    "id": "8rsygrGXyU3L"
   },
   "outputs": [
    {
     "name": "stdout",
     "output_type": "stream",
     "text": [
      "A :  array('i', [0, 1, 2, 3, 4, 5, 6, 7, 8, 9])\n"
     ]
    }
   ],
   "source": [
    "# exemplo numpy-06\n",
    "# criando array de tipo fixo\n",
    "import array \n",
    "L4 = list(range(10))\n",
    "A = array.array('i',L4)\n",
    "print('A : ',A)"
   ]
  },
  {
   "cell_type": "markdown",
   "metadata": {
    "colab_type": "text",
    "id": "iPo3yabu6oP_"
   },
   "source": [
    "No exemplo numpy-06, o índice **'i'** indica que o conteúdo é de inteiros. Se dos dados foram reais?, booleanos?, etc."
   ]
  },
  {
   "cell_type": "markdown",
   "metadata": {
    "colab_type": "text",
    "id": "_SaQXIVh8bn9"
   },
   "source": [
    "## Criando Listas de Listas Python"
   ]
  },
  {
   "cell_type": "code",
   "execution_count": 10,
   "metadata": {
    "colab": {},
    "colab_type": "code",
    "id": "RxSskQPSyU1B"
   },
   "outputs": [
    {
     "name": "stdout",
     "output_type": "stream",
     "text": [
      "I :  [1 3 5 7 9 0]\n"
     ]
    }
   ],
   "source": [
    "# exemplo numpy-07\n",
    "# criando um array de inteiros\n",
    "I = np.array([1, 3, 5, 7, 9, 0])\n",
    "print('I : ',I)"
   ]
  },
  {
   "cell_type": "code",
   "execution_count": 11,
   "metadata": {
    "colab": {},
    "colab_type": "code",
    "id": "jnHXvpbvyUyT"
   },
   "outputs": [
    {
     "name": "stdout",
     "output_type": "stream",
     "text": [
      "M :  [1.  3.5 5.  7.  9.  0. ]\n"
     ]
    }
   ],
   "source": [
    "# exemplo numpy-08\n",
    "# criando uma array de mixto\n",
    "M = np.array([1.0, 3.5, 5, 7, 9, 0])\n",
    "print('M : ',M)"
   ]
  },
  {
   "cell_type": "code",
   "execution_count": 12,
   "metadata": {
    "colab": {},
    "colab_type": "code",
    "id": "8c9J7irryUrB"
   },
   "outputs": [
    {
     "name": "stdout",
     "output_type": "stream",
     "text": [
      "I :  [1. 3. 5. 7. 9. 0.]\n"
     ]
    }
   ],
   "source": [
    "# exemplo numpy-09\n",
    "# Fixar o tipo de dados de uma array\n",
    "I1 = np.array([1, 3, 5, 7, 9, 0], dtype='float32')\n",
    "print(\"I : \",I1)"
   ]
  },
  {
   "cell_type": "code",
   "execution_count": 13,
   "metadata": {
    "colab": {},
    "colab_type": "code",
    "id": "mNH-ijbCyUn9"
   },
   "outputs": [
    {
     "name": "stdout",
     "output_type": "stream",
     "text": [
      "Multidimensional :  [[2 3 4]\n",
      " [4 5 6]\n",
      " [6 7 8]]\n"
     ]
    }
   ],
   "source": [
    "# exemplo numpy-10\n",
    "# criando um array multidimensional\n",
    "M1 = np.array([range(i, i + 3) for i in [2, 4, 6]])\n",
    "print('Multidimensional : ',M1)"
   ]
  },
  {
   "cell_type": "markdown",
   "metadata": {
    "colab_type": "text",
    "id": "Sw7KXV6JAhLm"
   },
   "source": [
    "## Criando Arrays de Zero"
   ]
  },
  {
   "cell_type": "code",
   "execution_count": 14,
   "metadata": {
    "colab": {},
    "colab_type": "code",
    "id": "jF752973yUgi"
   },
   "outputs": [
    {
     "name": "stdout",
     "output_type": "stream",
     "text": [
      "[0 0 0 0 0 0 0 0 0 0]\n",
      "tamanho do vetor Z= 10\n"
     ]
    }
   ],
   "source": [
    "# exemplo numpy-11\n",
    "# criando um array de zeros\n",
    "Z = np.zeros(10, dtype=int)\n",
    "print(Z)\n",
    "print(\"tamanho do vetor Z=\",len(Z))"
   ]
  },
  {
   "cell_type": "code",
   "execution_count": 15,
   "metadata": {
    "colab": {},
    "colab_type": "code",
    "id": "xKTq-PM8yUdI"
   },
   "outputs": [
    {
     "data": {
      "text/plain": [
       "array([[1., 1., 1., 1., 1.],\n",
       "       [1., 1., 1., 1., 1.],\n",
       "       [1., 1., 1., 1., 1.]])"
      ]
     },
     "execution_count": 15,
     "metadata": {},
     "output_type": "execute_result"
    }
   ],
   "source": [
    "# exemplo numpy-12\n",
    "# criando uma array de 3x5 de dados de tipo real (float)\n",
    "U = np.ones((3,5), dtype=float)\n",
    "U"
   ]
  },
  {
   "cell_type": "code",
   "execution_count": 16,
   "metadata": {
    "colab": {},
    "colab_type": "code",
    "id": "O6m1P4HfyUZT"
   },
   "outputs": [
    {
     "data": {
      "text/plain": [
       "array([[3.14, 3.14, 3.14, 3.14, 3.14],\n",
       "       [3.14, 3.14, 3.14, 3.14, 3.14],\n",
       "       [3.14, 3.14, 3.14, 3.14, 3.14]])"
      ]
     },
     "execution_count": 16,
     "metadata": {},
     "output_type": "execute_result"
    }
   ],
   "source": [
    "# exemplo numpy-13\n",
    "# criando uma array de 3x5 de dados com 3.14\n",
    "U1 = np.full((3,5), 3.14)\n",
    "U1"
   ]
  },
  {
   "cell_type": "code",
   "execution_count": 17,
   "metadata": {
    "colab": {},
    "colab_type": "code",
    "id": "0r34__QpyUXX"
   },
   "outputs": [
    {
     "data": {
      "text/plain": [
       "array([ 0,  2,  4,  6,  8, 10, 12, 14, 16, 18])"
      ]
     },
     "execution_count": 17,
     "metadata": {},
     "output_type": "execute_result"
    }
   ],
   "source": [
    "# exemplo numpy-14\n",
    "# criar uma array com valores de uma sequência linear de 0 a 20\n",
    "# com incremento (paso) 2.\n",
    "Ar = np.arange(0,20,2)\n",
    "Ar"
   ]
  },
  {
   "cell_type": "code",
   "execution_count": 18,
   "metadata": {
    "colab": {},
    "colab_type": "code",
    "id": "mTLuIK7CyUUZ"
   },
   "outputs": [
    {
     "name": "stdout",
     "output_type": "stream",
     "text": [
      "L :  [0.   0.25 0.5  0.75 1.  ]\n"
     ]
    }
   ],
   "source": [
    "# exemplo numpy-15\n",
    "# criar uma array de 5 valores espaciados entre 0 e 1.\n",
    "lin = np.linspace(0,1,5)\n",
    "print('L : ',lin)"
   ]
  },
  {
   "cell_type": "code",
   "execution_count": 19,
   "metadata": {
    "colab": {},
    "colab_type": "code",
    "id": "IdqfQylKyUMo"
   },
   "outputs": [
    {
     "data": {
      "text/plain": [
       "array([[0.23342388, 0.64576118, 0.26226328, 0.70417851, 0.65858496,\n",
       "        0.51958143, 0.70019161],\n",
       "       [0.4506861 , 0.27073438, 0.1683649 , 0.36489883, 0.76781943,\n",
       "        0.34032013, 0.97455169],\n",
       "       [0.1136125 , 0.71229558, 0.43007735, 0.08317934, 0.02774848,\n",
       "        0.73947851, 0.56150233],\n",
       "       [0.05019938, 0.55057575, 0.79526842, 0.6350528 , 0.11833491,\n",
       "        0.03830087, 0.62554687]])"
      ]
     },
     "execution_count": 19,
     "metadata": {},
     "output_type": "execute_result"
    }
   ],
   "source": [
    "# exemplo numpy-16\n",
    "# criar uma array 4x7 de distribuição uniforme (0,1)\n",
    "R = np.random.random((4,7))\n",
    "R"
   ]
  },
  {
   "cell_type": "code",
   "execution_count": 20,
   "metadata": {
    "colab": {},
    "colab_type": "code",
    "id": "hQmo6H17yUKG"
   },
   "outputs": [
    {
     "data": {
      "text/plain": [
       "array([[ 0.39745738,  0.4143695 , -1.13600609,  0.02313077, -0.38745117],\n",
       "       [ 0.133222  ,  0.5756032 ,  0.70208228, -0.83325873, -1.06332077],\n",
       "       [-0.23537741, -0.27108017, -1.11272407,  0.50688984, -0.41355309],\n",
       "       [ 0.07618584, -0.77098071, -0.52744243,  0.9731167 ,  0.2143356 ],\n",
       "       [-1.03428048, -0.30896159,  0.22740676, -0.52353367,  0.08456091]])"
      ]
     },
     "execution_count": 20,
     "metadata": {},
     "output_type": "execute_result"
    }
   ],
   "source": [
    "# exemplo numpy-17\n",
    "# criar uma array 5x5 de distribuição normal com valores aleatórios\n",
    "# com media 0 e desvio padrão 1.\n",
    "R1 = np.random.normal(0,1,(5,5))\n",
    "R1"
   ]
  },
  {
   "cell_type": "code",
   "execution_count": 21,
   "metadata": {
    "colab": {},
    "colab_type": "code",
    "id": "ZeefYKbyyUF9"
   },
   "outputs": [
    {
     "data": {
      "text/plain": [
       "array([[1, 3, 2, 3],\n",
       "       [4, 0, 1, 2],\n",
       "       [0, 1, 1, 0],\n",
       "       [4, 4, 0, 2]])"
      ]
     },
     "execution_count": 21,
     "metadata": {},
     "output_type": "execute_result"
    }
   ],
   "source": [
    "# exemplo numpy-18\n",
    "# criar uma array 4x4 de inteiros aleatórios no intervalo [0,5]\n",
    "R2 = np.random.randint(0,5,(4,4))\n",
    "R2"
   ]
  },
  {
   "cell_type": "code",
   "execution_count": 22,
   "metadata": {
    "colab": {},
    "colab_type": "code",
    "id": "tNUpP6JNuJR8"
   },
   "outputs": [
    {
     "data": {
      "text/plain": [
       "array([[1., 0., 0., 0., 0.],\n",
       "       [0., 1., 0., 0., 0.],\n",
       "       [0., 0., 1., 0., 0.],\n",
       "       [0., 0., 0., 1., 0.],\n",
       "       [0., 0., 0., 0., 1.]])"
      ]
     },
     "execution_count": 22,
     "metadata": {},
     "output_type": "execute_result"
    }
   ],
   "source": [
    "# exemplo numpy-19\n",
    "# criar uma matriz identidade de 5x5\n",
    "Mi = np.eye(5)\n",
    "Mi"
   ]
  },
  {
   "cell_type": "markdown",
   "metadata": {
    "colab_type": "text",
    "id": "ilMuVojFyDEa"
   },
   "source": [
    "## Tipos de Dados Padrão no NumPy"
   ]
  },
  {
   "cell_type": "code",
   "execution_count": 23,
   "metadata": {
    "colab": {},
    "colab_type": "code",
    "id": "yUar42zBuJaC"
   },
   "outputs": [
    {
     "data": {
      "text/plain": [
       "array([0, 0, 0, 0, 0, 0, 0, 0], dtype=int16)"
      ]
     },
     "execution_count": 23,
     "metadata": {},
     "output_type": "execute_result"
    }
   ],
   "source": [
    "# exemplo numpy-20\n",
    "# Array de zeros\n",
    "T1 = np.zeros(8,dtype='int16')\n",
    "T1"
   ]
  },
  {
   "cell_type": "code",
   "execution_count": 24,
   "metadata": {
    "colab": {},
    "colab_type": "code",
    "id": "wpWwANi9uJXB"
   },
   "outputs": [
    {
     "data": {
      "text/plain": [
       "array([0, 0, 0, 0, 0, 0, 0, 0], dtype=int16)"
      ]
     },
     "execution_count": 24,
     "metadata": {},
     "output_type": "execute_result"
    }
   ],
   "source": [
    "# exemplo numpy-21\n",
    "# Array de zeros\n",
    "T2 = np.zeros(8,dtype=np.int16)\n",
    "T2"
   ]
  },
  {
   "cell_type": "markdown",
   "metadata": {
    "colab_type": "text",
    "id": "OOmeNmSIAcki"
   },
   "source": [
    "Os diversos tipos de dados padrão NumPy podem ser encontrados em https://numpy.org/devdocs/user/basics.types.html"
   ]
  },
  {
   "cell_type": "markdown",
   "metadata": {
    "colab_type": "text",
    "id": "_Dv0j8tBB6uD"
   },
   "source": [
    "## Noções Básicas de Arrays (matrizes) NumPy\n",
    "Manipulação de matrizes NumPy para acessar dados e sub-matrizes, para dividir, redimensionar e unir matrizes."
   ]
  },
  {
   "cell_type": "markdown",
   "metadata": {
    "colab_type": "text",
    "id": "Dj9lkhGeEFzc"
   },
   "source": [
    "### Atributos de Matrizes NumPy"
   ]
  },
  {
   "cell_type": "code",
   "execution_count": 25,
   "metadata": {
    "colab": {},
    "colab_type": "code",
    "id": "IEAnf_m4uJOW"
   },
   "outputs": [
    {
     "name": "stdout",
     "output_type": "stream",
     "text": [
      "x1 :  [0 1 0 3 5]\n",
      "x2 :  [[3 4 9 8 0]\n",
      " [5 3 7 6 8]\n",
      " [6 2 4 9 1]\n",
      " [7 8 1 4 2]]\n",
      "x3 :  [[[3 0 1 6 4 3]\n",
      "  [7 6 4 7 7 4]\n",
      "  [5 6 1 7 7 2]\n",
      "  [5 0 8 5 6 5]\n",
      "  [9 7 0 9 9 0]]\n",
      "\n",
      " [[5 1 6 1 6 0]\n",
      "  [9 6 3 7 9 2]\n",
      "  [6 1 4 1 2 1]\n",
      "  [9 5 9 3 8 4]\n",
      "  [4 1 5 0 1 3]]\n",
      "\n",
      " [[7 5 5 3 2 6]\n",
      "  [5 5 4 7 4 2]\n",
      "  [0 6 4 7 2 0]\n",
      "  [2 3 4 8 7 7]\n",
      "  [1 8 3 8 9 7]]]\n",
      "x3 ndim :  3\n",
      "x3 shape :  (3, 5, 6)\n",
      "x3 size :  90\n"
     ]
    }
   ],
   "source": [
    "# exemplo numpy-22\n",
    "# Atributos: ndim, shape, size.\n",
    "x1 = np.random.randint(10, size=5) # 1-D\n",
    "x2 = np.random.randint(10, size=(4, 5)) # 2-D\n",
    "x3 = np.random.randint(10, size=(3, 5, 6)) # 3-D\n",
    "print(\"x1 : \", x1)\n",
    "print(\"x2 : \", x2)\n",
    "print(\"x3 : \", x3)\n",
    "# atributos: ndim (numero de dim), shape (tamanho de cada dimensões), \n",
    "# size (tamanho total da matriz)\n",
    "print(\"x3 ndim : \", x3.ndim)\n",
    "print(\"x3 shape : \", x3.shape)\n",
    "print(\"x3 size : \", x3.size)"
   ]
  },
  {
   "cell_type": "code",
   "execution_count": 26,
   "metadata": {
    "colab": {},
    "colab_type": "code",
    "id": "Qhj8AdRBuJK-"
   },
   "outputs": [
    {
     "name": "stdout",
     "output_type": "stream",
     "text": [
      "dtype: int32\n"
     ]
    }
   ],
   "source": [
    "# exemplo numpy-23\n",
    "# atributo : dtype\n",
    "print(\"dtype:\", x3.dtype)"
   ]
  },
  {
   "cell_type": "code",
   "execution_count": 27,
   "metadata": {
    "colab": {},
    "colab_type": "code",
    "id": "I0VH4utMuJH0"
   },
   "outputs": [
    {
     "name": "stdout",
     "output_type": "stream",
     "text": [
      "itemsize:  4 bytes\n",
      "nbytes:  360 bytes\n"
     ]
    }
   ],
   "source": [
    "# exemplo numpy-24\n",
    "# atributos : itemsize e nbytes (itemsize = nbytes!!!)\n",
    "print(\"itemsize: \", x3.itemsize, \"bytes\")\n",
    "print(\"nbytes: \", x3.nbytes, \"bytes\")"
   ]
  },
  {
   "cell_type": "markdown",
   "metadata": {
    "colab_type": "text",
    "id": "STIohHfIJw17"
   },
   "source": [
    "### Indexação de Matrizes: Acessando Elementos Simples"
   ]
  },
  {
   "cell_type": "code",
   "execution_count": 28,
   "metadata": {
    "colab": {},
    "colab_type": "code",
    "id": "G5YjgHFiuJE5"
   },
   "outputs": [
    {
     "name": "stdout",
     "output_type": "stream",
     "text": [
      "Elementos :  0\n"
     ]
    }
   ],
   "source": [
    "# exemplo numpy-25\n",
    "# Usando índice para acessar elementos da array: array[indice]\n",
    "elemento = x1[0] \n",
    "print('Elementos : ',elemento)"
   ]
  },
  {
   "cell_type": "code",
   "execution_count": 29,
   "metadata": {
    "colab": {},
    "colab_type": "code",
    "id": "9_uRjUNXuJBy"
   },
   "outputs": [
    {
     "name": "stdout",
     "output_type": "stream",
     "text": [
      "5\n"
     ]
    }
   ],
   "source": [
    "# exemplo numpy-26\n",
    "# Para indexar a partir do final da matriz, se pode usar índices negativos.\n",
    "N = np.array([0, 1, 2, 3, 4, 5])\n",
    "N1 = N[-1]\n",
    "print(N1)"
   ]
  },
  {
   "cell_type": "code",
   "execution_count": 30,
   "metadata": {
    "colab": {},
    "colab_type": "code",
    "id": "W47I6B1PuI_S"
   },
   "outputs": [
    {
     "name": "stdout",
     "output_type": "stream",
     "text": [
      "D :  (4, 5)\n",
      "x1[2,2] =  4\n"
     ]
    }
   ],
   "source": [
    "# exemplo numpy-27\n",
    "# acessar elementos de uma array multidimensional [i,j], i,j = 0..N\n",
    "print('D : ',x2.shape)\n",
    "print('x1[2,2] = ',x2[2,2]) # elemento na linha = 2 e coluna = 2"
   ]
  },
  {
   "cell_type": "code",
   "execution_count": 31,
   "metadata": {
    "colab": {},
    "colab_type": "code",
    "id": "c5b8KbNRuI7i"
   },
   "outputs": [
    {
     "name": "stdout",
     "output_type": "stream",
     "text": [
      "D:  (3, 4)\n",
      "[[ 0  1  2  3]\n",
      " [ 4  5  6  7]\n",
      " [ 8  9 -1 11]]\n"
     ]
    }
   ],
   "source": [
    "# exemplo numpy-28\n",
    "# mudando um elemento de uma matriz\n",
    "Mat = np.array([[0,1,2,3],[4, 5, 6, 7],[8, 9, 10,11]])\n",
    "# dimensão da matriz\n",
    "Dim = print('D: ',Mat.shape)\n",
    "# mudando um elemento\n",
    "Mat[2,2]= -1\n",
    "print(Mat)"
   ]
  },
  {
   "cell_type": "markdown",
   "metadata": {
    "colab_type": "text",
    "id": "xYMdbk2Vm6CH"
   },
   "source": [
    "### Fatiar Matrizes. Acessando Submatrizes\n",
    "A sintaxe para dividir uma matriz NumPy segue o padrão de uma lista em Python. Para acessar uma  divisão ou fatia ou parte de uma matriz (submatriz) X, usa-se a seguinte sintaxe:\n",
    "\n",
    "**X[inicio:fim:paso]** ou **X[start:stop:step]**"
   ]
  },
  {
   "cell_type": "code",
   "execution_count": 32,
   "metadata": {
    "colab": {},
    "colab_type": "code",
    "id": "QRzY0Ax0uI2W"
   },
   "outputs": [
    {
     "data": {
      "text/plain": [
       "array([0, 1, 2, 3, 4, 5, 6, 7, 8, 9])"
      ]
     },
     "execution_count": 32,
     "metadata": {},
     "output_type": "execute_result"
    }
   ],
   "source": [
    "# exemplo numpy-29\n",
    "# uma submatriz unidimensional\n",
    "X = np.arange(10)\n",
    "X"
   ]
  },
  {
   "cell_type": "code",
   "execution_count": 33,
   "metadata": {
    "colab": {},
    "colab_type": "code",
    "id": "VWa6927Em8GD"
   },
   "outputs": [
    {
     "name": "stdout",
     "output_type": "stream",
     "text": [
      "[0 1 2 3]\n"
     ]
    }
   ],
   "source": [
    "# exemplo numpy-30\n",
    "# os 4 elementos iniciais\n",
    "x4 = X[:4]\n",
    "print(x4)"
   ]
  },
  {
   "cell_type": "code",
   "execution_count": 34,
   "metadata": {
    "colab": {},
    "colab_type": "code",
    "id": "7XuTrUkVm8Cx"
   },
   "outputs": [
    {
     "name": "stdout",
     "output_type": "stream",
     "text": [
      "[5 6 7 8 9]\n"
     ]
    }
   ],
   "source": [
    "# exemplo numpy-31\n",
    "# Os elementos depois do índice 5\n",
    "x5 = X[5:]\n",
    "print(x5)"
   ]
  },
  {
   "cell_type": "code",
   "execution_count": 35,
   "metadata": {
    "colab": {},
    "colab_type": "code",
    "id": "L4taS1M3m7_s"
   },
   "outputs": [
    {
     "name": "stdout",
     "output_type": "stream",
     "text": [
      "[3 4 5 6]\n"
     ]
    }
   ],
   "source": [
    "# exemplo numpy-32\n",
    "# subarray media\n",
    "med = X[3:7]\n",
    "print(med)"
   ]
  },
  {
   "cell_type": "code",
   "execution_count": 36,
   "metadata": {
    "colab": {},
    "colab_type": "code",
    "id": "6AvHSn3Em79p"
   },
   "outputs": [
    {
     "name": "stdout",
     "output_type": "stream",
     "text": [
      "[0 2 4 6 8]\n"
     ]
    }
   ],
   "source": [
    "# exemplo numpy-33\n",
    "# Qualquer outro elemento\n",
    "Q1 = X[::2]\n",
    "print(Q1)"
   ]
  },
  {
   "cell_type": "code",
   "execution_count": 37,
   "metadata": {
    "colab": {},
    "colab_type": "code",
    "id": "zod-e0nim75v"
   },
   "outputs": [
    {
     "name": "stdout",
     "output_type": "stream",
     "text": [
      "[1 3 5 7 9]\n"
     ]
    }
   ],
   "source": [
    "# exemplo numpy-34\n",
    "# Qualquer outro elemento, iniciando em 1\n",
    "Q2 = X[1::2]\n",
    "print(Q2)"
   ]
  },
  {
   "cell_type": "code",
   "execution_count": 38,
   "metadata": {
    "colab": {},
    "colab_type": "code",
    "id": "-VOdttV7m724"
   },
   "outputs": [
    {
     "name": "stdout",
     "output_type": "stream",
     "text": [
      "[9 8 7 6 5 4 3 2 1 0]\n"
     ]
    }
   ],
   "source": [
    "# exemplo numpy-35\n",
    "# step = paso = negativo = -1: reverso\n",
    "N1 = X[::-1]\n",
    "print(N1)"
   ]
  },
  {
   "cell_type": "code",
   "execution_count": 39,
   "metadata": {
    "colab": {},
    "colab_type": "code",
    "id": "Jkq2ETRAm7zn"
   },
   "outputs": [
    {
     "name": "stdout",
     "output_type": "stream",
     "text": [
      "[5 3 1]\n"
     ]
    }
   ],
   "source": [
    "# exemplo numpy-36\n",
    "# reversa cada elemento a partir do indice 5\n",
    "N2 = X[5::-2]\n",
    "print(N2)"
   ]
  },
  {
   "cell_type": "markdown",
   "metadata": {
    "colab_type": "text",
    "id": "u4T4vp35u1dx"
   },
   "source": [
    "### SubMatrizes Multidimensionais"
   ]
  },
  {
   "cell_type": "code",
   "execution_count": 40,
   "metadata": {
    "colab": {},
    "colab_type": "code",
    "id": "BVBFxGv4m7wh"
   },
   "outputs": [
    {
     "data": {
      "text/plain": [
       "array([[12,  8,  4,  0],\n",
       "       [ 5,  4,  3,  2],\n",
       "       [ 3,  3,  2,  1]])"
      ]
     },
     "execution_count": 40,
     "metadata": {},
     "output_type": "execute_result"
    }
   ],
   "source": [
    "# exemplo numpy-37\n",
    "# Matriz multidimensional\n",
    "Mul = np.array([[12, 8, 4, 0],[5, 4, 3, 2],[3, 3, 2, 1]])\n",
    "Mul"
   ]
  },
  {
   "cell_type": "code",
   "execution_count": 41,
   "metadata": {
    "colab": {},
    "colab_type": "code",
    "id": "YnvF2xMPm7tY"
   },
   "outputs": [
    {
     "data": {
      "text/plain": [
       "array([[12,  8,  4],\n",
       "       [ 5,  4,  3]])"
      ]
     },
     "execution_count": 41,
     "metadata": {},
     "output_type": "execute_result"
    }
   ],
   "source": [
    "# exemplo numpy-38\n",
    "# dois linhas (filas) e três colunas\n",
    "S1 = Mul[:2, :3]\n",
    "S1"
   ]
  },
  {
   "cell_type": "code",
   "execution_count": 42,
   "metadata": {
    "colab": {},
    "colab_type": "code",
    "id": "WA_WdvJTm7p9"
   },
   "outputs": [
    {
     "data": {
      "text/plain": [
       "array([[12,  4],\n",
       "       [ 5,  3],\n",
       "       [ 3,  2]])"
      ]
     },
     "execution_count": 42,
     "metadata": {},
     "output_type": "execute_result"
    }
   ],
   "source": [
    "# exemplo numpy-39\n",
    "# todas linhas, as outras colunas ***\n",
    "S2 = Mul[:3, ::2]\n",
    "S2"
   ]
  },
  {
   "cell_type": "code",
   "execution_count": 43,
   "metadata": {
    "colab": {},
    "colab_type": "code",
    "id": "lbRphGThm7mt"
   },
   "outputs": [
    {
     "data": {
      "text/plain": [
       "array([[ 1,  2,  3,  3],\n",
       "       [ 2,  3,  4,  5],\n",
       "       [ 0,  4,  8, 12]])"
      ]
     },
     "execution_count": 43,
     "metadata": {},
     "output_type": "execute_result"
    }
   ],
   "source": [
    "# exemplo numpy-40\n",
    "# submatriz reversa\n",
    "R1 = Mul[::-1, ::-1]\n",
    "R1"
   ]
  },
  {
   "cell_type": "code",
   "execution_count": 44,
   "metadata": {
    "colab": {},
    "colab_type": "code",
    "id": "j4G_hlAXm7je"
   },
   "outputs": [
    {
     "name": "stdout",
     "output_type": "stream",
     "text": [
      "[12  5  3]\n"
     ]
    }
   ],
   "source": [
    "# exemplo numpy-41\n",
    "# 1a coluna da matriz Mul\n",
    "print(Mul[:,0])"
   ]
  },
  {
   "cell_type": "code",
   "execution_count": 45,
   "metadata": {
    "colab": {},
    "colab_type": "code",
    "id": "AjfJLWXm35Fh"
   },
   "outputs": [
    {
     "name": "stdout",
     "output_type": "stream",
     "text": [
      "[[12  8  4  0]\n",
      " [ 5  4  3  2]\n",
      " [ 3  3  2  1]]\n"
     ]
    },
    {
     "data": {
      "text/plain": [
       "array([[12,  8],\n",
       "       [ 5,  4]])"
      ]
     },
     "execution_count": 45,
     "metadata": {},
     "output_type": "execute_result"
    }
   ],
   "source": [
    "# exemplo numpy-42\n",
    "# submatriz 2x2\n",
    "print(Mul)\n",
    "sub_M = Mul[:2, :2]\n",
    "sub_M"
   ]
  },
  {
   "cell_type": "code",
   "execution_count": 46,
   "metadata": {
    "colab": {},
    "colab_type": "code",
    "id": "VPs_ZjMV35d9"
   },
   "outputs": [
    {
     "name": "stdout",
     "output_type": "stream",
     "text": [
      "[[-9  8]\n",
      " [ 5  4]]\n",
      "[[-9  8  4  0]\n",
      " [ 5  4  3  2]\n",
      " [ 3  3  2  1]]\n"
     ]
    }
   ],
   "source": [
    "# exemplo numpy-43\n",
    "# Modificar elementos da submatriz\n",
    "sub_M[0,0]= -9\n",
    "print(sub_M)\n",
    "# modifica elemento da matriz\n",
    "print(Mul)"
   ]
  },
  {
   "cell_type": "markdown",
   "metadata": {
    "colab_type": "text",
    "id": "Ce3PEFPD6kCs"
   },
   "source": [
    "### Redimensionamento de Matrizes"
   ]
  },
  {
   "cell_type": "code",
   "execution_count": 47,
   "metadata": {
    "colab": {},
    "colab_type": "code",
    "id": "4mUShNX835qY"
   },
   "outputs": [
    {
     "name": "stdout",
     "output_type": "stream",
     "text": [
      "G = [1 2 3 4 5 6 7 8 9]\n",
      " \n",
      "G =  [[1 2 3]\n",
      " [4 5 6]\n",
      " [7 8 9]]\n"
     ]
    }
   ],
   "source": [
    "# exemplo numpy-44\n",
    "# redimensionar uma matriz\n",
    "G = np.arange(1,10)\n",
    "print('G =',G)\n",
    "print(' ')\n",
    "RS = G.reshape((3,3))\n",
    "print('G = ',RS)"
   ]
  },
  {
   "cell_type": "markdown",
   "metadata": {
    "colab_type": "text",
    "id": "pg_39-jT81Ds"
   },
   "source": [
    "### Concatenação e Divisão de Matrizes"
   ]
  },
  {
   "cell_type": "code",
   "execution_count": 48,
   "metadata": {
    "colab": {},
    "colab_type": "code",
    "id": "8CmvbiOZ35ny"
   },
   "outputs": [
    {
     "data": {
      "text/plain": [
       "array([ 3,  2,  1,  1,  0, -1])"
      ]
     },
     "execution_count": 48,
     "metadata": {},
     "output_type": "execute_result"
    }
   ],
   "source": [
    "# exemplo numpy-45\n",
    "# concatenação\n",
    "A = np.array([3, 2, 1])\n",
    "B = np.array([1, 0, -1])\n",
    "C = np.concatenate([A,B])\n",
    "C"
   ]
  },
  {
   "cell_type": "code",
   "execution_count": 49,
   "metadata": {
    "colab": {},
    "colab_type": "code",
    "id": "0KRGCtDa35kK"
   },
   "outputs": [
    {
     "data": {
      "text/plain": [
       "array([ 3,  2,  1,  1,  0, -1, -9, -9, -9])"
      ]
     },
     "execution_count": 49,
     "metadata": {},
     "output_type": "execute_result"
    }
   ],
   "source": [
    "# exemplo numpy-46\n",
    "# + Concatenação \n",
    "Z = np.array([-9, -9, -9])\n",
    "z = np.concatenate([A, B, Z])\n",
    "z"
   ]
  },
  {
   "cell_type": "code",
   "execution_count": 50,
   "metadata": {
    "colab": {},
    "colab_type": "code",
    "id": "WbVEYkMt35Ch"
   },
   "outputs": [
    {
     "name": "stdout",
     "output_type": "stream",
     "text": [
      "[1 2 3] [99 99] [3 2 1]\n"
     ]
    }
   ],
   "source": [
    "# exemplo numpy-47\n",
    "# split = corte = fatia\n",
    "xx = [1, 2, 3, 99, 99, 3, 2, 1]\n",
    "xa, xb, xc = np.split(xx,[3, 5])\n",
    "print(xa, xb, xc)"
   ]
  },
  {
   "cell_type": "markdown",
   "metadata": {
    "colab_type": "text",
    "id": "VXnhCtEFAoSQ"
   },
   "source": [
    "## Funções NumPy"
   ]
  },
  {
   "cell_type": "markdown",
   "metadata": {
    "colab_type": "text",
    "id": "SaZxsxZJA58v"
   },
   "source": [
    "### Expoentes e Logaritmos"
   ]
  },
  {
   "cell_type": "code",
   "execution_count": 51,
   "metadata": {
    "colab": {},
    "colab_type": "code",
    "id": "l4Bh_P1_348W"
   },
   "outputs": [
    {
     "name": "stdout",
     "output_type": "stream",
     "text": [
      "V = [1, 2, 3]\n",
      "e^V = [ 2.71828183  7.3890561  20.08553692]\n",
      "2^V = [2. 4. 8.]\n",
      "3^V = [ 3  9 27]\n"
     ]
    }
   ],
   "source": [
    "# exemplo numpy-48\n",
    "# expoentes\n",
    "V = [1, 2, 3]\n",
    "print(\"V =\", V)\n",
    "print(\"e^V =\", np.exp(V))\n",
    "print(\"2^V =\", np.exp2(V))\n",
    "print(\"3^V =\", np.power(3, V))"
   ]
  },
  {
   "cell_type": "code",
   "execution_count": 52,
   "metadata": {
    "colab": {
     "base_uri": "https://localhost:8080/",
     "height": 85
    },
    "colab_type": "code",
    "executionInfo": {
     "elapsed": 669,
     "status": "ok",
     "timestamp": 1581639065869,
     "user": {
      "displayName": "Jorge Zavaleta",
      "photoUrl": "https://lh3.googleusercontent.com/a-/AAuE7mCdm255Tti-EW4t2kfnEJl5ADtcWN1Y32-thP_XyA=s64",
      "userId": "14164610708032436409"
     },
     "user_tz": 180
    },
    "id": "X_lszV3Y4N0V",
    "outputId": "06d987bc-3158-4f06-998a-13443592c592"
   },
   "outputs": [
    {
     "name": "stdout",
     "output_type": "stream",
     "text": [
      "l = [1, 2, 4, 10]\n",
      "ln(l) = [0.         0.69314718 1.38629436 2.30258509]\n",
      "log2(l) = [0.         1.         2.         3.32192809]\n",
      "log10(l) = [0.         0.30103    0.60205999 1.        ]\n"
     ]
    }
   ],
   "source": [
    "# exemplo numpy-49\n",
    "# logaritmos\n",
    "l = [1, 2, 4, 10]\n",
    "print(\"l =\", l)\n",
    "print(\"ln(l) =\", np.log(l))\n",
    "print(\"log2(l) =\", np.log2(l))\n",
    "print(\"log10(l) =\", np.log10(l))"
   ]
  },
  {
   "cell_type": "code",
   "execution_count": 53,
   "metadata": {
    "colab": {},
    "colab_type": "code",
    "id": "O53ixGMv4QWx"
   },
   "outputs": [
    {
     "name": "stdout",
     "output_type": "stream",
     "text": [
      "exp(y) - 1 = [0.         0.0010005  0.01005017 0.10517092]\n",
      "log(1 + y) = [0.         0.0009995  0.00995033 0.09531018]\n"
     ]
    }
   ],
   "source": [
    "# exemplo numpy-50\n",
    "# funções especializadas\n",
    "y = [0, 0.001, 0.01, 0.1]\n",
    "print(\"exp(y) - 1 =\", np.expm1(y))\n",
    "print(\"log(1 + y) =\", np.log1p(y))"
   ]
  },
  {
   "cell_type": "markdown",
   "metadata": {
    "colab_type": "text",
    "id": "ihAd-QNeEGKo"
   },
   "source": [
    "## Agregações: Min e Max"
   ]
  },
  {
   "cell_type": "code",
   "execution_count": 54,
   "metadata": {
    "colab": {},
    "colab_type": "code",
    "id": "ttTcjPpw344o"
   },
   "outputs": [
    {
     "data": {
      "text/plain": [
       "49.39628180998353"
      ]
     },
     "execution_count": 54,
     "metadata": {},
     "output_type": "execute_result"
    }
   ],
   "source": [
    "# exemplo numpy-51\n",
    "#  Soma de todos os valores\n",
    "L = np.random.random(100)\n",
    "S = sum(L)\n",
    "S"
   ]
  },
  {
   "cell_type": "code",
   "execution_count": 55,
   "metadata": {
    "colab": {},
    "colab_type": "code",
    "id": "FVZrdgxtEQ0y"
   },
   "outputs": [
    {
     "name": "stdout",
     "output_type": "stream",
     "text": [
      "312 ms ± 88 ms per loop (mean ± std. dev. of 7 runs, 1 loop each)\n",
      "1.37 ms ± 197 µs per loop (mean ± std. dev. of 7 runs, 1000 loops each)\n"
     ]
    }
   ],
   "source": [
    "# exemplo numpy-52\n",
    "#  tempo de compilação\n",
    "big_matriz = np.random.rand(1000000)\n",
    "%timeit sum(big_matriz)\n",
    "%timeit np.sum(big_matriz)"
   ]
  },
  {
   "cell_type": "code",
   "execution_count": 56,
   "metadata": {
    "colab": {},
    "colab_type": "code",
    "id": "4meAzo2TEROE"
   },
   "outputs": [
    {
     "data": {
      "text/plain": [
       "(7.74663314495605e-07, 0.9999985792356085)"
      ]
     },
     "execution_count": 56,
     "metadata": {},
     "output_type": "execute_result"
    }
   ],
   "source": [
    "# exemplo numpy-53\n",
    "# mínimo e máximo\n",
    "min(big_matriz), max(big_matriz)"
   ]
  },
  {
   "cell_type": "code",
   "execution_count": 57,
   "metadata": {
    "colab": {},
    "colab_type": "code",
    "id": "40iEna2TERyM"
   },
   "outputs": [
    {
     "data": {
      "text/plain": [
       "(7.74663314495605e-07, 0.9999985792356085)"
      ]
     },
     "execution_count": 57,
     "metadata": {},
     "output_type": "execute_result"
    }
   ],
   "source": [
    "# exemplo numpy-54\n",
    "# mínimo e máximo\n",
    "np.min(big_matriz), np.max(big_matriz)"
   ]
  },
  {
   "cell_type": "code",
   "execution_count": 58,
   "metadata": {
    "colab": {},
    "colab_type": "code",
    "id": "0g5WJAUeERuk"
   },
   "outputs": [
    {
     "name": "stdout",
     "output_type": "stream",
     "text": [
      "169 ms ± 7.9 ms per loop (mean ± std. dev. of 7 runs, 10 loops each)\n",
      "840 µs ± 35.6 µs per loop (mean ± std. dev. of 7 runs, 1000 loops each)\n"
     ]
    }
   ],
   "source": [
    "# exemplo numpy-55\n",
    "# mínimo e máximo\n",
    "%timeit min(big_matriz)\n",
    "%timeit np.min(big_matriz)"
   ]
  },
  {
   "cell_type": "markdown",
   "metadata": {
    "colab_type": "text",
    "id": "xEAqnnWaBws2"
   },
   "source": [
    "### Funções de Agregação"
   ]
  },
  {
   "cell_type": "markdown",
   "metadata": {
    "colab_type": "text",
    "id": "JMvbReQ9AFCi"
   },
   "source": [
    "| Função  |  NaN Versão| Descrição  | \n",
    "|:---     |:----------|:-----------|\n",
    "|  np.sum | np.nansum | Compute sum of elements |\n",
    "| np.prod | np.nanprod | Compute product of elements |\n",
    "| np.mean | np.nanmean | Compute median of elements |\n",
    "| np.std | np.nanstd | Compute standard deviation |\n",
    "| np.var | np.nanvar | Compute variance |\n",
    "| np.min | np.nanmin | Find minimum value |\n",
    "| np.max | np.nanmax | Find maximum value |\n",
    "| np.argmin | np.nanargmin | Find index of minimum value |\n",
    "| np.argmax | np.nanargmax | Find index of maximum value |\n",
    "| np.median | np.nanmedian | Compute median of elements |\n",
    "| np.percentile | np.nanpercentile | Compute rank-based statistics of elements |\n",
    "| np.any | N/A | Evaluate whether any elements are true |\n",
    "| np.all | N/A | Evaluate whether all elements are true |\n"
   ]
  },
  {
   "cell_type": "code",
   "execution_count": 59,
   "metadata": {
    "colab": {},
    "colab_type": "code",
    "id": "R_X6rP4CERrI"
   },
   "outputs": [
    {
     "data": {
      "text/plain": [
       "array([ 1,  2,  3,  4,  5,  6,  7,  8,  9, 10, 11, 12, 13, 14, 15, 16, 17,\n",
       "       18, 19, 20, 21, 22, 23, 24, 25, 26, 27, 28, 29, 30, 31, 32, 33, 34,\n",
       "       35, 36, 37, 38, 39, 40, 41, 42, 43, 44, 45, 46, 47, 48, 49, 50, 51,\n",
       "       52, 53, 54, 55, 56, 57, 58, 59, 60, 61, 62, 63, 64, 65, 66, 67, 68,\n",
       "       69, 70, 71, 72, 73, 74, 75, 76, 77, 78, 79, 80, 81, 82, 83, 84, 85,\n",
       "       86, 87, 88, 89, 90, 91, 92, 93, 94, 95, 96, 97, 98, 99])"
      ]
     },
     "execution_count": 59,
     "metadata": {},
     "output_type": "execute_result"
    }
   ],
   "source": [
    "# exemplo numpy-56\n",
    "# criando um vetor\n",
    "vet = np.arange(1,100)\n",
    "vet"
   ]
  },
  {
   "cell_type": "code",
   "execution_count": 60,
   "metadata": {
    "colab": {},
    "colab_type": "code",
    "id": "lgEXt-6jERLo"
   },
   "outputs": [
    {
     "name": "stdout",
     "output_type": "stream",
     "text": [
      "soma =  4950\n",
      "Média =  50.0\n",
      "Desvio =  28.577380332470412\n",
      "Mínimo =  1\n",
      "Máximo =  99\n",
      "Mediana =  50.0\n"
     ]
    }
   ],
   "source": [
    "# exemplo numpy-57\n",
    "# Alguns agragados\n",
    "vs = vet.sum()\n",
    "vm = vet.mean()\n",
    "vd = vet.std()\n",
    "vmin = vet.min()\n",
    "vmax = vet.max()\n",
    "print('soma = ',vs)\n",
    "print('Média = ',vm)\n",
    "print('Desvio = ',vd)\n",
    "print('Mínimo = ',vmin)\n",
    "print('Máximo = ',vmax)\n",
    "print('Mediana = ',np.median(vet))"
   ]
  },
  {
   "cell_type": "markdown",
   "metadata": {
    "colab_type": "text",
    "id": "-ElCgQLFHVXc"
   },
   "source": [
    "**Exercício**: Os pesos (kg) dos alunos de curso são: 50, 55.5, 60.5, 60.8, 63.7, 68.9, 70.3, 80.5, 90. Usando essa informação fazer os cálculos para todas as funções de agregação."
   ]
  },
  {
   "cell_type": "code",
   "execution_count": 61,
   "metadata": {
    "colab": {},
    "colab_type": "code",
    "id": "WV7i-tOQERJS"
   },
   "outputs": [
    {
     "name": "stdout",
     "output_type": "stream",
     "text": [
      "[50.         50.6122449  51.2244898  51.83673469 52.44897959 53.06122449\n",
      " 53.67346939 54.28571429 54.89795918 55.51020408 56.12244898 56.73469388\n",
      " 57.34693878 57.95918367 58.57142857 59.18367347 59.79591837 60.40816327\n",
      " 61.02040816 61.63265306 62.24489796 62.85714286 63.46938776 64.08163265\n",
      " 64.69387755 65.30612245 65.91836735 66.53061224 67.14285714 67.75510204\n",
      " 68.36734694 68.97959184 69.59183673 70.20408163 70.81632653 71.42857143\n",
      " 72.04081633 72.65306122 73.26530612 73.87755102 74.48979592 75.10204082\n",
      " 75.71428571 76.32653061 76.93877551 77.55102041 78.16326531 78.7755102\n",
      " 79.3877551  80.        ]\n",
      "[ 1.          1.59183673  2.18367347  2.7755102   3.36734694  3.95918367\n",
      "  4.55102041  5.14285714  5.73469388  6.32653061  6.91836735  7.51020408\n",
      "  8.10204082  8.69387755  9.28571429  9.87755102 10.46938776 11.06122449\n",
      " 11.65306122 12.24489796 12.83673469 13.42857143 14.02040816 14.6122449\n",
      " 15.20408163 15.79591837 16.3877551  16.97959184 17.57142857 18.16326531\n",
      " 18.75510204 19.34693878 19.93877551 20.53061224 21.12244898 21.71428571\n",
      " 22.30612245 22.89795918 23.48979592 24.08163265 24.67346939 25.26530612\n",
      " 25.85714286 26.44897959 27.04081633 27.63265306 28.2244898  28.81632653\n",
      " 29.40816327 30.        ]\n",
      "[  50.           80.56643065  111.85755935  143.87338609  176.61391087\n",
      "  210.07913369  244.26905456  279.18367347  314.82299042  351.18700541\n",
      "  388.27571845  426.08912953  464.62723865  503.89004581  543.87755102\n",
      "  584.58975427  626.02665556  668.18825489  711.07455227  754.68554769\n",
      "  799.02124115  844.08163265  889.8667222   936.37650979  983.61099542\n",
      " 1031.57017909 1080.25406081 1129.66264057 1179.79591837 1230.65389421\n",
      " 1282.2365681  1334.54394002 1387.57601    1441.33277801 1495.81424406\n",
      " 1551.02040816 1606.9512703  1663.60683049 1720.98708871 1779.09204498\n",
      " 1837.92169929 1897.47605165 1957.75510204 2018.75885048 2080.48729696\n",
      " 2142.94044148 2206.11828405 2270.02082466 2334.64806331 2400.        ]\n"
     ]
    }
   ],
   "source": [
    "# exemplo numpy-58\n",
    "# Exemplo de uso de agregados\n",
    "pesos = np.linspace(50, 80, num=50)\n",
    "print(pesos)\n",
    "valores = np.linspace(1, 30, num=50)\n",
    "print(valores)\n",
    "# * / -= / += / *=\n",
    "print(pesos * valores) "
   ]
  },
  {
   "cell_type": "code",
   "execution_count": 62,
   "metadata": {
    "colab": {},
    "colab_type": "code",
    "id": "umDE1an3ERE3"
   },
   "outputs": [
    {
     "name": "stdout",
     "output_type": "stream",
     "text": [
      "[49.         49.02040816 49.04081633 49.06122449 49.08163265 49.10204082\n",
      " 49.12244898 49.14285714 49.16326531 49.18367347 49.20408163 49.2244898\n",
      " 49.24489796 49.26530612 49.28571429 49.30612245 49.32653061 49.34693878\n",
      " 49.36734694 49.3877551  49.40816327 49.42857143 49.44897959 49.46938776\n",
      " 49.48979592 49.51020408 49.53061224 49.55102041 49.57142857 49.59183673\n",
      " 49.6122449  49.63265306 49.65306122 49.67346939 49.69387755 49.71428571\n",
      " 49.73469388 49.75510204 49.7755102  49.79591837 49.81632653 49.83673469\n",
      " 49.85714286 49.87755102 49.89795918 49.91836735 49.93877551 49.95918367\n",
      " 49.97959184 50.        ]\n"
     ]
    }
   ],
   "source": [
    "# exemplo numpy-59\n",
    "#  uso de -=\n",
    "pesos -= valores\n",
    "print(pesos)"
   ]
  },
  {
   "cell_type": "code",
   "execution_count": 63,
   "metadata": {
    "colab": {},
    "colab_type": "code",
    "id": "NOkYyhw7EQ_7"
   },
   "outputs": [
    {
     "name": "stdout",
     "output_type": "stream",
     "text": [
      "[50.         50.6122449  51.2244898  51.83673469 52.44897959 53.06122449\n",
      " 53.67346939 54.28571429 54.89795918 55.51020408 56.12244898 56.73469388\n",
      " 57.34693878 57.95918367 58.57142857 59.18367347 59.79591837 60.40816327\n",
      " 61.02040816 61.63265306 62.24489796 62.85714286 63.46938776 64.08163265\n",
      " 64.69387755 65.30612245 65.91836735 66.53061224 67.14285714 67.75510204\n",
      " 68.36734694 68.97959184 69.59183673 70.20408163 70.81632653 71.42857143\n",
      " 72.04081633 72.65306122 73.26530612 73.87755102 74.48979592 75.10204082\n",
      " 75.71428571 76.32653061 76.93877551 77.55102041 78.16326531 78.7755102\n",
      " 79.3877551  80.        ]\n"
     ]
    }
   ],
   "source": [
    "# exemplo numpy-60\n",
    "# soma = +\n",
    "nova = pesos + valores\n",
    "print(nova)"
   ]
  },
  {
   "cell_type": "markdown",
   "metadata": {},
   "source": [
    "### Matrizes Multidimensionais"
   ]
  },
  {
   "cell_type": "code",
   "execution_count": 64,
   "metadata": {},
   "outputs": [],
   "source": [
    "# exemplo numpy-61\n",
    "# definição de uma função\n",
    "def f(x,y):\n",
    "    return x*y*10"
   ]
  },
  {
   "cell_type": "code",
   "execution_count": 65,
   "metadata": {},
   "outputs": [
    {
     "data": {
      "text/plain": [
       "array([[  0,   0,   0,   0],\n",
       "       [  0,  10,  20,  30],\n",
       "       [  0,  20,  40,  60],\n",
       "       [  0,  30,  60,  90],\n",
       "       [  0,  40,  80, 120]])"
      ]
     },
     "execution_count": 65,
     "metadata": {},
     "output_type": "execute_result"
    }
   ],
   "source": [
    "# exemplo numpy-62\n",
    "# informação pasada por tuplas separados por comas\n",
    "b = np.fromfunction(f,(5,4),dtype=int)\n",
    "b"
   ]
  },
  {
   "cell_type": "code",
   "execution_count": 66,
   "metadata": {},
   "outputs": [
    {
     "data": {
      "text/plain": [
       "90"
      ]
     },
     "execution_count": 66,
     "metadata": {},
     "output_type": "execute_result"
    }
   ],
   "source": [
    "# exemplo numpy-63\n",
    "# chamar diretamente a função\n",
    "c = f(3,3)\n",
    "c"
   ]
  },
  {
   "cell_type": "code",
   "execution_count": 67,
   "metadata": {},
   "outputs": [
    {
     "data": {
      "text/plain": [
       "array([ 0, 10, 20, 30])"
      ]
     },
     "execution_count": 67,
     "metadata": {},
     "output_type": "execute_result"
    }
   ],
   "source": [
    "# exemplo numpy-64\n",
    "# Mostra os elementos da linha 0 ao 4 da coluna 1\n",
    "b[0:4,1]"
   ]
  },
  {
   "cell_type": "code",
   "execution_count": 68,
   "metadata": {},
   "outputs": [
    {
     "name": "stdout",
     "output_type": "stream",
     "text": [
      "[0 0 0 0]\n",
      "[ 0 10 20 30]\n",
      "[ 0 20 40 60]\n",
      "[ 0 30 60 90]\n",
      "[  0  40  80 120]\n"
     ]
    }
   ],
   "source": [
    "# exemplo numpy-65\n",
    "# acessando linhas de uma matriz\n",
    "for fila in b:\n",
    "    print(fila)"
   ]
  },
  {
   "cell_type": "markdown",
   "metadata": {},
   "source": [
    "### Funções"
   ]
  },
  {
   "cell_type": "code",
   "execution_count": 69,
   "metadata": {},
   "outputs": [],
   "source": [
    "# exemplo numpy-66\n",
    "# definição de uma função\n",
    "def nome_f(parametro_a,parametro_b):\n",
    "    # corpo da função\n",
    "    soma = parametro_a + parametro_b\n",
    "    return soma"
   ]
  },
  {
   "cell_type": "code",
   "execution_count": 70,
   "metadata": {},
   "outputs": [
    {
     "name": "stdout",
     "output_type": "stream",
     "text": [
      "Variável =  18\n"
     ]
    }
   ],
   "source": [
    "# exemplo numpy-67\n",
    "# chamando uma função\n",
    "variavel = nome_f(9,9)\n",
    "print('Variável = ',variavel)"
   ]
  },
  {
   "cell_type": "code",
   "execution_count": 71,
   "metadata": {},
   "outputs": [],
   "source": [
    "# exemplo numpy-68\n",
    "# definir a função raiz quadrada\n",
    "def RQ(n):\n",
    "    v = np.sqrt(n)\n",
    "    return v"
   ]
  },
  {
   "cell_type": "code",
   "execution_count": 72,
   "metadata": {},
   "outputs": [
    {
     "data": {
      "text/plain": [
       "2.0"
      ]
     },
     "execution_count": 72,
     "metadata": {},
     "output_type": "execute_result"
    }
   ],
   "source": [
    "# exemplo numpy-69\n",
    "# chamando a função RQ\n",
    "rq = RQ(4)\n",
    "rq"
   ]
  },
  {
   "cell_type": "code",
   "execution_count": 73,
   "metadata": {},
   "outputs": [],
   "source": [
    "# exemplo numpy-70\n",
    "# definição da função signo\n",
    "def sign(x):\n",
    "    if x > 0:\n",
    "        return 'Positivo'\n",
    "    elif x < 0:\n",
    "        return 'Negativo'\n",
    "    else:\n",
    "        return 'Nulo'"
   ]
  },
  {
   "cell_type": "code",
   "execution_count": 74,
   "metadata": {},
   "outputs": [
    {
     "name": "stdout",
     "output_type": "stream",
     "text": [
      "Sinal:  Negativo\n",
      "Sinal:  Nulo\n",
      "Sinal:  Positivo\n"
     ]
    }
   ],
   "source": [
    "# exemplo numpy-71\n",
    "# chamando a função sign\n",
    "for x in [-1, 0, 1]:\n",
    "    print('Sinal: ',sign(x))"
   ]
  },
  {
   "cell_type": "markdown",
   "metadata": {
    "colab_type": "text",
    "id": "423XYJfVi469"
   },
   "source": [
    "------\n",
    "Marcelo Lisboa &copy; 2021. mlisboa@uft.edu.br"
   ]
  },
  {
   "cell_type": "code",
   "execution_count": null,
   "metadata": {},
   "outputs": [],
   "source": []
  }
 ],
 "metadata": {
  "colab": {
   "authorship_tag": "ABX9TyMKz4YO0JNMnD2q5R3Yf6Tz",
   "collapsed_sections": [],
   "name": "Python_Data_Science_UFF_2020_M2.ipynb",
   "provenance": []
  },
  "kernelspec": {
   "display_name": "Python 3",
   "language": "python",
   "name": "python3"
  },
  "language_info": {
   "codemirror_mode": {
    "name": "ipython",
    "version": 3
   },
   "file_extension": ".py",
   "mimetype": "text/x-python",
   "name": "python",
   "nbconvert_exporter": "python",
   "pygments_lexer": "ipython3",
   "version": "3.8.6"
  }
 },
 "nbformat": 4,
 "nbformat_minor": 4
}
