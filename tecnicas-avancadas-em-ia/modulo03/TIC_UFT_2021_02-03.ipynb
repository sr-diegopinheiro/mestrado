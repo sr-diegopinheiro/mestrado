{
 "cells": [
  {
   "cell_type": "markdown",
   "metadata": {},
   "source": [
    "TÓPICOS EM INTELIGÊNCIA COMPUTACIONAL - PROGRAMA DE PÓS-GRADUAÇÃO EM MODELAGEM COMPUTACIONAL DE SISTEMAS - 2021-2"
   ]
  },
  {
   "cell_type": "markdown",
   "metadata": {},
   "source": [
    "<img src=\"imagens/ppgmcs.png\" alt=\"tic\">"
   ]
  },
  {
   "cell_type": "markdown",
   "metadata": {},
   "source": [
    "---\n",
    "# Univerisdade Federal do Tocantins - UFT\n",
    "## Programa de Pós-graduação em Modelagem Computacional de Sistemas - PPGMCS"
   ]
  },
  {
   "cell_type": "markdown",
   "metadata": {},
   "source": [
    "---\n",
    "# Tópicos em Inteligência Computacional 2021-2\n",
    "### Professor: Marcelo Lisboa. <mlisboa@uft.edu.br>"
   ]
  },
  {
   "cell_type": "markdown",
   "metadata": {
    "colab_type": "text",
    "id": "6vkS9X3S6jYW"
   },
   "source": [
    "---"
   ]
  },
  {
   "cell_type": "markdown",
   "metadata": {
    "colab_type": "text",
    "id": "utzyz_i553D5"
   },
   "source": [
    "# Módulo 03 - Pandas\n",
    "\n",
    ">A biblioteca **Pandas** do Python permite Visualizar Dados ou fazer Análise de Dados. O **Pandas** fornece uma implementação eficiente de *DataFrames*. Os DataFrames são matrizes essencialmente multidimensionais com rótulos de linha e coluna anexados e geralmente com métodos de tipos heterogêneos e/ou dados ausentes.\n",
    "\n",
    ">Tipos de  Estrutura de Dados no Pandas:\n",
    "> * Serie: **Vetor** unidimensional homogêneo.\n",
    "> * DataFrame: **Tabela** (bidimensional) rotulada.\n",
    "> * Panel: **Matriz** tridimensional."
   ]
  },
  {
   "cell_type": "code",
   "execution_count": 1,
   "metadata": {
    "colab": {},
    "colab_type": "code",
    "id": "MzKO3EjN5wEw"
   },
   "outputs": [
    {
     "data": {
      "text/plain": [
       "'1.1.5'"
      ]
     },
     "execution_count": 1,
     "metadata": {},
     "output_type": "execute_result"
    }
   ],
   "source": [
    "# pandas-exemplo-01\n",
    "# importar biblioteca numpy e pandas\n",
    "import numpy as np\n",
    "import pandas as pd\n",
    "pd.__version__"
   ]
  },
  {
   "cell_type": "markdown",
   "metadata": {
    "colab_type": "text",
    "id": "XnZd0g8yC1rr"
   },
   "source": [
    "## Pandas Series"
   ]
  },
  {
   "cell_type": "code",
   "execution_count": 2,
   "metadata": {
    "colab": {},
    "colab_type": "code",
    "id": "MInoEKOP9xpF"
   },
   "outputs": [
    {
     "data": {
      "text/plain": [
       "0    0.25\n",
       "1    0.50\n",
       "2    0.75\n",
       "3    1.00\n",
       "dtype: float64"
      ]
     },
     "execution_count": 2,
     "metadata": {},
     "output_type": "execute_result"
    }
   ],
   "source": [
    "# pandas-exemplo-02\n",
    "# importando as bibliotecas***\n",
    "# import numpy as np\n",
    "# import pandas as pd\n",
    "dados = pd.Series([0.25, 0.5, 0.75, 1.0])\n",
    "dados"
   ]
  },
  {
   "cell_type": "code",
   "execution_count": 3,
   "metadata": {
    "colab": {},
    "colab_type": "code",
    "id": "Hh9CIRRsBBqs"
   },
   "outputs": [
    {
     "data": {
      "text/plain": [
       "array([0.25, 0.5 , 0.75, 1.  ])"
      ]
     },
     "execution_count": 3,
     "metadata": {},
     "output_type": "execute_result"
    }
   ],
   "source": [
    "# pandas-exemplo-03\n",
    "# mostra valores\n",
    "dados.values"
   ]
  },
  {
   "cell_type": "code",
   "execution_count": 4,
   "metadata": {
    "colab": {},
    "colab_type": "code",
    "id": "eUdDwXirBB1P"
   },
   "outputs": [
    {
     "data": {
      "text/plain": [
       "RangeIndex(start=0, stop=4, step=1)"
      ]
     },
     "execution_count": 4,
     "metadata": {},
     "output_type": "execute_result"
    }
   ],
   "source": [
    "# pandas-exemplo-04\n",
    "# mostrando os indices\n",
    "dados.index"
   ]
  },
  {
   "cell_type": "markdown",
   "metadata": {
    "colab_type": "text",
    "id": "2NYZSjDAEBER"
   },
   "source": [
    "### Series como Array NumPy"
   ]
  },
  {
   "cell_type": "code",
   "execution_count": 5,
   "metadata": {
    "colab": {},
    "colab_type": "code",
    "id": "5xHiwr_gBByQ"
   },
   "outputs": [
    {
     "data": {
      "text/plain": [
       "a    0.25\n",
       "b    0.50\n",
       "c    0.75\n",
       "d    1.00\n",
       "e   -1.00\n",
       "dtype: float64"
      ]
     },
     "execution_count": 5,
     "metadata": {},
     "output_type": "execute_result"
    }
   ],
   "source": [
    "# pandas-exemplo-05\n",
    "# dados de uma serie com indice\n",
    "data = pd.Series([0.25, 0.5, 0.75, 1.0, -1.0],\n",
    "                 index=['a', 'b', 'c', 'd','e'])\n",
    "data"
   ]
  },
  {
   "cell_type": "code",
   "execution_count": 6,
   "metadata": {
    "colab": {},
    "colab_type": "code",
    "id": "uerEBAKdBBvp"
   },
   "outputs": [
    {
     "data": {
      "text/plain": [
       "3.5"
      ]
     },
     "execution_count": 6,
     "metadata": {},
     "output_type": "execute_result"
    }
   ],
   "source": [
    "# pandas-exemplo-06\n",
    "# acessar dados da serie usando o indice\n",
    "data['c']\n",
    "data['c']=3.5\n",
    "data['c']"
   ]
  },
  {
   "cell_type": "code",
   "execution_count": 7,
   "metadata": {
    "colab": {},
    "colab_type": "code",
    "id": "buP2v4WNBBn3"
   },
   "outputs": [
    {
     "data": {
      "text/plain": [
       "0.5"
      ]
     },
     "execution_count": 7,
     "metadata": {},
     "output_type": "execute_result"
    }
   ],
   "source": [
    "# pandas-exemplo-07\n",
    "# serie com indice não-sequencial\n",
    "sn = pd.Series([0.25, 0.5, 0.75, 1.0],\n",
    "                  index=[2, 5, 3, 7])\n",
    "sn[5]"
   ]
  },
  {
   "cell_type": "markdown",
   "metadata": {
    "colab_type": "text",
    "id": "23POWRO308TX"
   },
   "source": [
    "### Series como Dicionários Especializados"
   ]
  },
  {
   "cell_type": "code",
   "execution_count": 8,
   "metadata": {
    "colab": {},
    "colab_type": "code",
    "id": "vTlkCgj9BBmc",
    "scrolled": true
   },
   "outputs": [
    {
     "name": "stdout",
     "output_type": "stream",
     "text": [
      "RJ     Rio de Janeiro\n",
      "SP          São Paulo\n",
      "POA      Porto Alegre\n",
      "SC     Santa Catarina\n",
      "ES            Vitória\n",
      "dtype: object\n",
      "RJ     1\n",
      "SP     2\n",
      "POA    3\n",
      "SC     4\n",
      "ES     5\n",
      "dtype: int64\n",
      "1\n"
     ]
    }
   ],
   "source": [
    "# pandas-exemplo-08\n",
    "# serie com dicionario\n",
    "estados_dict = {'RJ': 'Rio de Janeiro','SP': 'São Paulo','POA': 'Porto Alegre',\n",
    "                   'SC': 'Santa Catarina','ES': 'Vitória'}\n",
    "estados_br = pd.Series(estados_dict)\n",
    "print(estados_br)\n",
    "s1 = pd.Series([1,2,3,4,5],index=estados_dict)\n",
    "print(s1)\n",
    "print(s1['RJ'])"
   ]
  },
  {
   "cell_type": "code",
   "execution_count": 9,
   "metadata": {
    "colab": {},
    "colab_type": "code",
    "id": "K9eLei0SBBkK"
   },
   "outputs": [
    {
     "data": {
      "text/plain": [
       "'Rio de Janeiro'"
      ]
     },
     "execution_count": 9,
     "metadata": {},
     "output_type": "execute_result"
    }
   ],
   "source": [
    "# pandas-exemplo-09\n",
    "# acessar um elemento da serie usando um indice do dic\n",
    "estados_br['RJ']"
   ]
  },
  {
   "cell_type": "code",
   "execution_count": 10,
   "metadata": {
    "colab": {},
    "colab_type": "code",
    "id": "W2Tc3TELBBfo"
   },
   "outputs": [
    {
     "data": {
      "text/plain": [
       "RJ     Rio de Janeiro\n",
       "SP          São Paulo\n",
       "POA      Porto Alegre\n",
       "SC     Santa Catarina\n",
       "dtype: object"
      ]
     },
     "execution_count": 10,
     "metadata": {},
     "output_type": "execute_result"
    }
   ],
   "source": [
    "# pandas-exemplo-10\n",
    "# acessar elementos com subindices do dicionario\n",
    "estados_br['RJ':'SC']"
   ]
  },
  {
   "cell_type": "code",
   "execution_count": 11,
   "metadata": {
    "colab": {},
    "colab_type": "code",
    "id": "f2ZPVEFoBBao"
   },
   "outputs": [
    {
     "name": "stdout",
     "output_type": "stream",
     "text": [
      "0     0\n",
      "1     2\n",
      "2     4\n",
      "3     6\n",
      "4     8\n",
      "5    10\n",
      "6    12\n",
      "dtype: int64\n"
     ]
    }
   ],
   "source": [
    "# pandas-exemplo-11\n",
    "# definir: pd.Series(data, index=index). Index = opcional\n",
    "s = pd.Series([0,2,4,6,8,10,12])\n",
    "print(s)"
   ]
  },
  {
   "cell_type": "code",
   "execution_count": 12,
   "metadata": {
    "colab": {},
    "colab_type": "code",
    "id": "5H1rumEt4pZ0"
   },
   "outputs": [
    {
     "name": "stdout",
     "output_type": "stream",
     "text": [
      "100     0\n",
      "110     2\n",
      "120     4\n",
      "130     6\n",
      "140     8\n",
      "150    10\n",
      "160    12\n",
      "dtype: int64\n"
     ]
    }
   ],
   "source": [
    "# pandas-exemplo-12\n",
    "# serie com indice modificado\n",
    "s1 = pd.Series([0,2,4,6,8,10,12],index=[100,110,120,130,140,150,160])\n",
    "print(s1)"
   ]
  },
  {
   "cell_type": "code",
   "execution_count": 13,
   "metadata": {
    "colab": {},
    "colab_type": "code",
    "id": "XYCfWdAP4pht"
   },
   "outputs": [
    {
     "name": "stdout",
     "output_type": "stream",
     "text": [
      "2    a\n",
      "1    b\n",
      "3    c\n",
      "dtype: object\n"
     ]
    }
   ],
   "source": [
    "# pandas-exemplo-13\n",
    "# indices não-sequenciais\n",
    "s2 = pd.Series({2:'a', 1:'b', 3:'c'})\n",
    "print(s2)"
   ]
  },
  {
   "cell_type": "code",
   "execution_count": 14,
   "metadata": {
    "colab": {},
    "colab_type": "code",
    "id": "elZvVve94pfE"
   },
   "outputs": [
    {
     "name": "stdout",
     "output_type": "stream",
     "text": [
      "3    c\n",
      "2    a\n",
      "dtype: object\n"
     ]
    }
   ],
   "source": [
    "# pandas-exemplo-14\n",
    "# sub-indice de uma serie\n",
    "s3 = pd.Series({2:'a', 1:'b', 3:'c'}, index=[3, 2])\n",
    "print(s3)"
   ]
  },
  {
   "cell_type": "code",
   "execution_count": 15,
   "metadata": {
    "colab": {},
    "colab_type": "code",
    "id": "gcZSmmGL4pWf"
   },
   "outputs": [
    {
     "name": "stdout",
     "output_type": "stream",
     "text": [
      "serie :  0    [-0.7621011509035696, -0.9114717827645775, -0....\n",
      "dtype: object\n"
     ]
    }
   ],
   "source": [
    "# pandas-exemplo-15\n",
    "# criar serie aleatoria\n",
    "serie = pd.Series([np.random.randn(50)])\n",
    "print('serie : ',serie)"
   ]
  },
  {
   "cell_type": "code",
   "execution_count": 16,
   "metadata": {},
   "outputs": [
    {
     "name": "stderr",
     "output_type": "stream",
     "text": [
      "C:\\Users\\Marcelo\\anaconda3\\lib\\site-packages\\numpy\\core\\fromnumeric.py:3372: RuntimeWarning: Mean of empty slice.\n",
      "  return _methods._mean(a, axis=axis, dtype=dtype,\n",
      "C:\\Users\\Marcelo\\anaconda3\\lib\\site-packages\\numpy\\core\\_methods.py:170: RuntimeWarning: invalid value encountered in double_scalars\n",
      "  ret = ret.dtype.type(ret / rcount)\n"
     ]
    },
    {
     "data": {
      "image/png": "[encoded data removed]",
      "text/plain": [
       "<Figure size 1296x288 with 1 Axes>"
      ]
     },
     "metadata": {
      "needs_background": "light"
     },
     "output_type": "display_data"
    }
   ],
   "source": [
    "# pandas-exemplo-15.0\n",
    "# Média constante e gráfico\n",
    "import matplotlib.pyplot as plt # biblioteca para os gráficos\n",
    "np.random.seed(2)\n",
    "serie = [5] * 50 + np.random.randn(50) * 0.2 # serie de 50 valores\n",
    "# calcula a média até cada dia anterior\n",
    "media = [np.mean(serie[:x]) for x in range(len(serie))]\n",
    "plt.figure(figsize=(18,4))\n",
    "plt.plot(serie, label='Valor')\n",
    "plt.plot(media, label='Média')\n",
    "plt.xlabel('Valores da Série')\n",
    "plt.ylabel('Valor da Média')\n",
    "plt.title('Série com Média constante')\n",
    "plt.legend()\n",
    "plt.show()"
   ]
  },
  {
   "cell_type": "markdown",
   "metadata": {},
   "source": [
    "**Questão**: Porque acontece a mensagem do pandas-exemplo-15.0"
   ]
  },
  {
   "cell_type": "code",
   "execution_count": 17,
   "metadata": {},
   "outputs": [
    {
     "name": "stdout",
     "output_type": "stream",
     "text": [
      "     Month  #Passengers\n",
      "0  1949-01          112\n",
      "1  1949-02          118\n",
      "2  1949-03          132\n",
      "3  1949-04          129\n",
      "4  1949-05          121\n"
     ]
    }
   ],
   "source": [
    "# pandas-exemplo-15.1\n",
    "# leitura de dados de uma serie em formato csv\n",
    "data_air = pd.read_csv('data/AirPassengers.csv')\n",
    "print(data_air.head())"
   ]
  },
  {
   "cell_type": "code",
   "execution_count": 18,
   "metadata": {},
   "outputs": [
    {
     "name": "stdout",
     "output_type": "stream",
     "text": [
      "Mês : \n",
      " 0      1949-01\n",
      "1      1949-02\n",
      "2      1949-03\n",
      "3      1949-04\n",
      "4      1949-05\n",
      "        ...   \n",
      "139    1960-08\n",
      "140    1960-09\n",
      "141    1960-10\n",
      "142    1960-11\n",
      "143    1960-12\n",
      "Name: Month, Length: 144, dtype: object\n",
      "Pasageiros :\n",
      "  0      112\n",
      "1      118\n",
      "2      132\n",
      "3      129\n",
      "4      121\n",
      "      ... \n",
      "139    606\n",
      "140    508\n",
      "141    461\n",
      "142    390\n",
      "143    432\n",
      "Name: #Passengers, Length: 144, dtype: int64\n"
     ]
    },
    {
     "data": {
      "text/plain": [
       "''"
      ]
     },
     "execution_count": 18,
     "metadata": {},
     "output_type": "execute_result"
    },
    {
     "data": {
      "image/png": "[encoded data removed]",
      "text/plain": [
       "<Figure size 432x288 with 1 Axes>"
      ]
     },
     "metadata": {
      "needs_background": "light"
     },
     "output_type": "display_data"
    }
   ],
   "source": [
    "# pandas-exemplo-15.2\n",
    "# acessa uma coluna com o indece ='Month'\n",
    "mes = data_air['Month']\n",
    "print('Mês : \\n',mes)\n",
    "pas = data_air['#Passengers']\n",
    "print('Pasageiros :\\n ',pas)\n",
    "plt.plot(mes,pas)\n",
    ";"
   ]
  },
  {
   "cell_type": "markdown",
   "metadata": {
    "colab_type": "text",
    "id": "N0Df1zN9tS6K"
   },
   "source": [
    "### DataFrame"
   ]
  },
  {
   "cell_type": "code",
   "execution_count": 19,
   "metadata": {
    "colab": {},
    "colab_type": "code",
    "id": "uIOZ9RyC4pTi"
   },
   "outputs": [
    {
     "name": "stdout",
     "output_type": "stream",
     "text": [
      "df1=        Month  #Passengers\n",
      "0    1949-01          112\n",
      "1    1949-02          118\n",
      "2    1949-03          132\n",
      "3    1949-04          129\n",
      "4    1949-05          121\n",
      "..       ...          ...\n",
      "139  1960-08          606\n",
      "140  1960-09          508\n",
      "141  1960-10          461\n",
      "142  1960-11          390\n",
      "143  1960-12          432\n",
      "\n",
      "[144 rows x 2 columns]\n",
      "0      112\n",
      "1      118\n",
      "2      132\n",
      "3      129\n",
      "4      121\n",
      "      ... \n",
      "139    606\n",
      "140    508\n",
      "141    461\n",
      "142    390\n",
      "143    432\n",
      "Name: #Passengers, Length: 144, dtype: int64\n"
     ]
    }
   ],
   "source": [
    "# pandas-exemplo-16\n",
    "# dataFrame\n",
    "df = pd.DataFrame({'Idade': np.random.randint(20,high=60,size=100), \n",
    "                   'Altura':1+np.random.rand(100),'Peso':(np.random.rand(100))*10+50})\n",
    "df\n",
    "df1 = pd.DataFrame(data_air)\n",
    "print(\"df1=\",df1)\n",
    "print(df1['#Passengers'])"
   ]
  },
  {
   "cell_type": "markdown",
   "metadata": {},
   "source": [
    "Podemos extrair varias informações diferentes de um **DataFrame**."
   ]
  },
  {
   "cell_type": "code",
   "execution_count": 20,
   "metadata": {
    "colab": {},
    "colab_type": "code",
    "id": "AnH6JesI4pQP"
   },
   "outputs": [
    {
     "data": {
      "text/html": [
       "<div>\n",
       "<style scoped>\n",
       "    .dataframe tbody tr th:only-of-type {\n",
       "        vertical-align: middle;\n",
       "    }\n",
       "\n",
       "    .dataframe tbody tr th {\n",
       "        vertical-align: top;\n",
       "    }\n",
       "\n",
       "    .dataframe thead th {\n",
       "        text-align: right;\n",
       "    }\n",
       "</style>\n",
       "<table border=\"1\" class=\"dataframe\">\n",
       "  <thead>\n",
       "    <tr style=\"text-align: right;\">\n",
       "      <th></th>\n",
       "      <th>Idade</th>\n",
       "      <th>Altura</th>\n",
       "      <th>Peso</th>\n",
       "    </tr>\n",
       "  </thead>\n",
       "  <tbody>\n",
       "    <tr>\n",
       "      <th>0</th>\n",
       "      <td>21</td>\n",
       "      <td>1.549497</td>\n",
       "      <td>54.144792</td>\n",
       "    </tr>\n",
       "    <tr>\n",
       "      <th>1</th>\n",
       "      <td>24</td>\n",
       "      <td>1.845113</td>\n",
       "      <td>59.367811</td>\n",
       "    </tr>\n",
       "    <tr>\n",
       "      <th>2</th>\n",
       "      <td>37</td>\n",
       "      <td>1.988510</td>\n",
       "      <td>56.424524</td>\n",
       "    </tr>\n",
       "    <tr>\n",
       "      <th>3</th>\n",
       "      <td>26</td>\n",
       "      <td>1.048868</td>\n",
       "      <td>53.869003</td>\n",
       "    </tr>\n",
       "    <tr>\n",
       "      <th>4</th>\n",
       "      <td>57</td>\n",
       "      <td>1.232118</td>\n",
       "      <td>58.551197</td>\n",
       "    </tr>\n",
       "  </tbody>\n",
       "</table>\n",
       "</div>"
      ],
      "text/plain": [
       "   Idade    Altura       Peso\n",
       "0     21  1.549497  54.144792\n",
       "1     24  1.845113  59.367811\n",
       "2     37  1.988510  56.424524\n",
       "3     26  1.048868  53.869003\n",
       "4     57  1.232118  58.551197"
      ]
     },
     "execution_count": 20,
     "metadata": {},
     "output_type": "execute_result"
    }
   ],
   "source": [
    "# pandas-exemplo-17\n",
    "# Mostrando o cabeçalho (head), mostra só 10 linhas\n",
    "df.head()"
   ]
  },
  {
   "cell_type": "code",
   "execution_count": 21,
   "metadata": {
    "colab": {},
    "colab_type": "code",
    "id": "2xHK7Iij4pNw"
   },
   "outputs": [
    {
     "data": {
      "text/plain": [
       "Index(['Idade', 'Altura', 'Peso'], dtype='object')"
      ]
     },
     "execution_count": 21,
     "metadata": {},
     "output_type": "execute_result"
    }
   ],
   "source": [
    "# pandas-exemplo-18\n",
    "# mostra as colunas do dataFrame\n",
    "df.columns"
   ]
  },
  {
   "cell_type": "code",
   "execution_count": 22,
   "metadata": {
    "colab": {},
    "colab_type": "code",
    "id": "hsana6lr4pJp"
   },
   "outputs": [
    {
     "data": {
      "text/plain": [
       "0     21\n",
       "1     24\n",
       "2     37\n",
       "3     26\n",
       "4     57\n",
       "      ..\n",
       "95    35\n",
       "96    22\n",
       "97    42\n",
       "98    25\n",
       "99    25\n",
       "Name: Idade, Length: 100, dtype: int32"
      ]
     },
     "execution_count": 22,
     "metadata": {},
     "output_type": "execute_result"
    }
   ],
   "source": [
    "# pandas-exemplo-19\n",
    "# acessando uma coluna\n",
    "df['Idade']"
   ]
  },
  {
   "cell_type": "code",
   "execution_count": 23,
   "metadata": {
    "colab": {},
    "colab_type": "code",
    "id": "86rlw66148vh"
   },
   "outputs": [
    {
     "data": {
      "text/html": [
       "<div>\n",
       "<style scoped>\n",
       "    .dataframe tbody tr th:only-of-type {\n",
       "        vertical-align: middle;\n",
       "    }\n",
       "\n",
       "    .dataframe tbody tr th {\n",
       "        vertical-align: top;\n",
       "    }\n",
       "\n",
       "    .dataframe thead th {\n",
       "        text-align: right;\n",
       "    }\n",
       "</style>\n",
       "<table border=\"1\" class=\"dataframe\">\n",
       "  <thead>\n",
       "    <tr style=\"text-align: right;\">\n",
       "      <th></th>\n",
       "      <th>Idade</th>\n",
       "      <th>Altura</th>\n",
       "      <th>Peso</th>\n",
       "    </tr>\n",
       "  </thead>\n",
       "  <tbody>\n",
       "    <tr>\n",
       "      <th>count</th>\n",
       "      <td>100.000000</td>\n",
       "      <td>100.000000</td>\n",
       "      <td>100.000000</td>\n",
       "    </tr>\n",
       "    <tr>\n",
       "      <th>mean</th>\n",
       "      <td>40.980000</td>\n",
       "      <td>1.505072</td>\n",
       "      <td>54.889516</td>\n",
       "    </tr>\n",
       "    <tr>\n",
       "      <th>std</th>\n",
       "      <td>11.198827</td>\n",
       "      <td>0.294504</td>\n",
       "      <td>3.009948</td>\n",
       "    </tr>\n",
       "    <tr>\n",
       "      <th>min</th>\n",
       "      <td>20.000000</td>\n",
       "      <td>1.004664</td>\n",
       "      <td>50.094504</td>\n",
       "    </tr>\n",
       "    <tr>\n",
       "      <th>25%</th>\n",
       "      <td>32.500000</td>\n",
       "      <td>1.226678</td>\n",
       "      <td>52.353525</td>\n",
       "    </tr>\n",
       "    <tr>\n",
       "      <th>50%</th>\n",
       "      <td>41.000000</td>\n",
       "      <td>1.506852</td>\n",
       "      <td>54.678289</td>\n",
       "    </tr>\n",
       "    <tr>\n",
       "      <th>75%</th>\n",
       "      <td>51.000000</td>\n",
       "      <td>1.771670</td>\n",
       "      <td>57.408362</td>\n",
       "    </tr>\n",
       "    <tr>\n",
       "      <th>max</th>\n",
       "      <td>59.000000</td>\n",
       "      <td>1.988510</td>\n",
       "      <td>59.949503</td>\n",
       "    </tr>\n",
       "  </tbody>\n",
       "</table>\n",
       "</div>"
      ],
      "text/plain": [
       "            Idade      Altura        Peso\n",
       "count  100.000000  100.000000  100.000000\n",
       "mean    40.980000    1.505072   54.889516\n",
       "std     11.198827    0.294504    3.009948\n",
       "min     20.000000    1.004664   50.094504\n",
       "25%     32.500000    1.226678   52.353525\n",
       "50%     41.000000    1.506852   54.678289\n",
       "75%     51.000000    1.771670   57.408362\n",
       "max     59.000000    1.988510   59.949503"
      ]
     },
     "execution_count": 23,
     "metadata": {},
     "output_type": "execute_result"
    }
   ],
   "source": [
    "# pandas-exemplo-20\n",
    "# Métrica sobre a serie/dataframe\n",
    "df.describe()"
   ]
  },
  {
   "cell_type": "markdown",
   "metadata": {},
   "source": [
    "O métodos **describe** mostra os percentis que são a divisão de uma amostra em percentuais. Por exemplo, na tabela anterior (pandas-exemplo-20) diz que:\n",
    "* 25% dos elementos são inferiores a 30.7 anos, a 1.26 m e 52.5 kg (pode variar por ser aleatório a geração)\n",
    "* 50% dos elementos são inferioes a 39.0 anos, a 1.53 m e 55.3 kg\n",
    "* 75%  dos elementos são inferiores a 49.0 anos, a 1.81 m e 57.2 kg\n"
   ]
  },
  {
   "cell_type": "code",
   "execution_count": 24,
   "metadata": {
    "colab": {},
    "colab_type": "code",
    "id": "KXnxxc2gBBWj"
   },
   "outputs": [
    {
     "data": {
      "text/plain": [
       "array([[21.        ,  1.54949682, 54.1447925 ],\n",
       "       [24.        ,  1.84511312, 59.36781072],\n",
       "       [37.        ,  1.9885097 , 56.42452419],\n",
       "       [26.        ,  1.04886809, 53.86900343],\n",
       "       [57.        ,  1.23211825, 58.55119661],\n",
       "       [53.        ,  1.64331143, 53.80792584],\n",
       "       [38.        ,  1.16146656, 51.78309828],\n",
       "       [40.        ,  1.87014589, 57.81659426],\n",
       "       [46.        ,  1.21740243, 54.72208587],\n",
       "       [43.        ,  1.74175504, 52.59480404],\n",
       "       [42.        ,  1.65302051, 56.92399246],\n",
       "       [57.        ,  1.79888551, 59.80485079],\n",
       "       [30.        ,  1.03124756, 52.46253589],\n",
       "       [28.        ,  1.22957403, 57.90243803],\n",
       "       [46.        ,  1.7046275 , 57.62335244],\n",
       "       [55.        ,  1.08756251, 51.20039792],\n",
       "       [47.        ,  1.03058948, 58.38902595],\n",
       "       [52.        ,  1.35713493, 54.61738905],\n",
       "       [36.        ,  1.58978199, 51.25781383],\n",
       "       [41.        ,  1.05222273, 55.36343473],\n",
       "       [49.        ,  1.06566367, 52.96512751],\n",
       "       [36.        ,  1.04350119, 51.75724193],\n",
       "       [26.        ,  1.39515076, 50.79238171],\n",
       "       [30.        ,  1.66842705, 51.98899092],\n",
       "       [57.        ,  1.19802711, 54.29588619],\n",
       "       [37.        ,  1.87626645, 56.41811764],\n",
       "       [35.        ,  1.4323891 , 50.87379179],\n",
       "       [50.        ,  1.61964146, 57.15730588],\n",
       "       [33.        ,  1.29042674, 51.01744811],\n",
       "       [46.        ,  1.61525457, 51.75599071],\n",
       "       [59.        ,  1.95365996, 57.13321562],\n",
       "       [40.        ,  1.44801472, 58.85263674],\n",
       "       [42.        ,  1.20704984, 59.83138361],\n",
       "       [56.        ,  1.42536729, 56.52906951],\n",
       "       [47.        ,  1.44457426, 54.77736353],\n",
       "       [20.        ,  1.50761749, 50.87787555],\n",
       "       [48.        ,  1.52573325, 55.58950795],\n",
       "       [56.        ,  1.04242919, 51.81150229],\n",
       "       [31.        ,  1.16441909, 55.1440206 ],\n",
       "       [29.        ,  1.45022718, 56.08930149],\n",
       "       [27.        ,  1.70797117, 58.3321249 ],\n",
       "       [38.        ,  1.77758791, 53.23750582],\n",
       "       [21.        ,  1.777103  , 59.88862093],\n",
       "       [35.        ,  1.50277875, 59.9495026 ],\n",
       "       [47.        ,  1.95674759, 58.26150819],\n",
       "       [52.        ,  1.33187371, 56.94152545],\n",
       "       [59.        ,  1.48145816, 57.33669798],\n",
       "       [29.        ,  1.748374  , 58.7526881 ],\n",
       "       [34.        ,  1.85783952, 59.51510148],\n",
       "       [50.        ,  1.41446006, 58.52262927],\n",
       "       [51.        ,  1.84868451, 56.4093864 ],\n",
       "       [52.        ,  1.44457094, 50.73498385],\n",
       "       [36.        ,  1.71574708, 56.23384714],\n",
       "       [41.        ,  1.00844836, 53.53213892],\n",
       "       [54.        ,  1.02520142, 51.64778623],\n",
       "       [41.        ,  1.94045049, 58.93166187],\n",
       "       [39.        ,  1.10213795, 58.24890481],\n",
       "       [48.        ,  1.66196779, 55.26638424],\n",
       "       [53.        ,  1.28325874, 54.63449256],\n",
       "       [28.        ,  1.20084234, 54.89301288],\n",
       "       [42.        ,  1.38833418, 52.6072002 ],\n",
       "       [44.        ,  1.9259016 , 54.02637923],\n",
       "       [31.        ,  1.57027421, 54.3666988 ],\n",
       "       [21.        ,  1.91671461, 50.15056134],\n",
       "       [25.        ,  1.70226424, 58.92905883],\n",
       "       [27.        ,  1.50121645, 50.29149318],\n",
       "       [36.        ,  1.50608683, 53.72892884],\n",
       "       [48.        ,  1.21882079, 50.95873315],\n",
       "       [35.        ,  1.00466352, 51.9696432 ],\n",
       "       [37.        ,  1.41783624, 59.42420612],\n",
       "       [57.        ,  1.56337611, 53.71271172],\n",
       "       [51.        ,  1.87656187, 57.29000802],\n",
       "       [54.        ,  1.67758484, 51.26160109],\n",
       "       [36.        ,  1.84233305, 52.51282922],\n",
       "       [56.        ,  1.92616129, 58.81235297],\n",
       "       [42.        ,  1.94111587, 59.0329615 ],\n",
       "       [39.        ,  1.81601915, 52.87635258],\n",
       "       [51.        ,  1.13139461, 59.67113132],\n",
       "       [37.        ,  1.34663001, 56.68099336],\n",
       "       [28.        ,  1.20850249, 55.03006774],\n",
       "       [57.        ,  1.86738154, 53.78002409],\n",
       "       [29.        ,  1.79233022, 53.37368294],\n",
       "       [41.        ,  1.34900164, 59.52010705],\n",
       "       [56.        ,  1.56914053, 56.93333829],\n",
       "       [59.        ,  1.80513154, 55.341017  ],\n",
       "       [59.        ,  1.83316124, 50.43489698],\n",
       "       [39.        ,  1.20579368, 52.47550876],\n",
       "       [46.        ,  1.7306802 , 59.43170723],\n",
       "       [56.        ,  1.80341416, 55.56860166],\n",
       "       [58.        ,  1.04312904, 53.57518232],\n",
       "       [39.        ,  1.1071874 , 50.09450374],\n",
       "       [28.        ,  1.43508365, 52.53548267],\n",
       "       [34.        ,  1.22088122, 52.5422669 ],\n",
       "       [47.        ,  1.88062207, 51.70685526],\n",
       "       [23.        ,  1.71968754, 53.4497996 ],\n",
       "       [35.        ,  1.71300729, 52.02649051],\n",
       "       [22.        ,  1.76985966, 50.6290154 ],\n",
       "       [42.        ,  1.33074703, 50.97960396],\n",
       "       [25.        ,  1.22861025, 54.96727502],\n",
       "       [25.        ,  1.62634396, 50.6966059 ]])"
      ]
     },
     "execution_count": 24,
     "metadata": {},
     "output_type": "execute_result"
    }
   ],
   "source": [
    "# pandas-exemplo-21\n",
    "# Mostrando os valores do DataFrame\n",
    "df.values"
   ]
  },
  {
   "cell_type": "code",
   "execution_count": 25,
   "metadata": {
    "colab": {},
    "colab_type": "code",
    "id": "O6UpmpYD5h71"
   },
   "outputs": [
    {
     "data": {
      "text/html": [
       "<div>\n",
       "<style scoped>\n",
       "    .dataframe tbody tr th:only-of-type {\n",
       "        vertical-align: middle;\n",
       "    }\n",
       "\n",
       "    .dataframe tbody tr th {\n",
       "        vertical-align: top;\n",
       "    }\n",
       "\n",
       "    .dataframe thead th {\n",
       "        text-align: right;\n",
       "    }\n",
       "</style>\n",
       "<table border=\"1\" class=\"dataframe\">\n",
       "  <thead>\n",
       "    <tr style=\"text-align: right;\">\n",
       "      <th></th>\n",
       "      <th>0</th>\n",
       "      <th>1</th>\n",
       "      <th>2</th>\n",
       "      <th>3</th>\n",
       "      <th>4</th>\n",
       "      <th>5</th>\n",
       "      <th>6</th>\n",
       "      <th>7</th>\n",
       "      <th>8</th>\n",
       "      <th>9</th>\n",
       "      <th>...</th>\n",
       "      <th>90</th>\n",
       "      <th>91</th>\n",
       "      <th>92</th>\n",
       "      <th>93</th>\n",
       "      <th>94</th>\n",
       "      <th>95</th>\n",
       "      <th>96</th>\n",
       "      <th>97</th>\n",
       "      <th>98</th>\n",
       "      <th>99</th>\n",
       "    </tr>\n",
       "  </thead>\n",
       "  <tbody>\n",
       "    <tr>\n",
       "      <th>Idade</th>\n",
       "      <td>21.000000</td>\n",
       "      <td>24.000000</td>\n",
       "      <td>37.000000</td>\n",
       "      <td>26.000000</td>\n",
       "      <td>57.000000</td>\n",
       "      <td>53.000000</td>\n",
       "      <td>38.000000</td>\n",
       "      <td>40.000000</td>\n",
       "      <td>46.000000</td>\n",
       "      <td>43.000000</td>\n",
       "      <td>...</td>\n",
       "      <td>39.000000</td>\n",
       "      <td>28.000000</td>\n",
       "      <td>34.000000</td>\n",
       "      <td>47.000000</td>\n",
       "      <td>23.000000</td>\n",
       "      <td>35.000000</td>\n",
       "      <td>22.000000</td>\n",
       "      <td>42.000000</td>\n",
       "      <td>25.000000</td>\n",
       "      <td>25.000000</td>\n",
       "    </tr>\n",
       "    <tr>\n",
       "      <th>Altura</th>\n",
       "      <td>1.549497</td>\n",
       "      <td>1.845113</td>\n",
       "      <td>1.988510</td>\n",
       "      <td>1.048868</td>\n",
       "      <td>1.232118</td>\n",
       "      <td>1.643311</td>\n",
       "      <td>1.161467</td>\n",
       "      <td>1.870146</td>\n",
       "      <td>1.217402</td>\n",
       "      <td>1.741755</td>\n",
       "      <td>...</td>\n",
       "      <td>1.107187</td>\n",
       "      <td>1.435084</td>\n",
       "      <td>1.220881</td>\n",
       "      <td>1.880622</td>\n",
       "      <td>1.719688</td>\n",
       "      <td>1.713007</td>\n",
       "      <td>1.769860</td>\n",
       "      <td>1.330747</td>\n",
       "      <td>1.228610</td>\n",
       "      <td>1.626344</td>\n",
       "    </tr>\n",
       "    <tr>\n",
       "      <th>Peso</th>\n",
       "      <td>54.144792</td>\n",
       "      <td>59.367811</td>\n",
       "      <td>56.424524</td>\n",
       "      <td>53.869003</td>\n",
       "      <td>58.551197</td>\n",
       "      <td>53.807926</td>\n",
       "      <td>51.783098</td>\n",
       "      <td>57.816594</td>\n",
       "      <td>54.722086</td>\n",
       "      <td>52.594804</td>\n",
       "      <td>...</td>\n",
       "      <td>50.094504</td>\n",
       "      <td>52.535483</td>\n",
       "      <td>52.542267</td>\n",
       "      <td>51.706855</td>\n",
       "      <td>53.449800</td>\n",
       "      <td>52.026491</td>\n",
       "      <td>50.629015</td>\n",
       "      <td>50.979604</td>\n",
       "      <td>54.967275</td>\n",
       "      <td>50.696606</td>\n",
       "    </tr>\n",
       "  </tbody>\n",
       "</table>\n",
       "<p>3 rows × 100 columns</p>\n",
       "</div>"
      ],
      "text/plain": [
       "               0          1          2          3          4          5   \\\n",
       "Idade   21.000000  24.000000  37.000000  26.000000  57.000000  53.000000   \n",
       "Altura   1.549497   1.845113   1.988510   1.048868   1.232118   1.643311   \n",
       "Peso    54.144792  59.367811  56.424524  53.869003  58.551197  53.807926   \n",
       "\n",
       "               6          7          8          9   ...         90         91  \\\n",
       "Idade   38.000000  40.000000  46.000000  43.000000  ...  39.000000  28.000000   \n",
       "Altura   1.161467   1.870146   1.217402   1.741755  ...   1.107187   1.435084   \n",
       "Peso    51.783098  57.816594  54.722086  52.594804  ...  50.094504  52.535483   \n",
       "\n",
       "               92         93         94         95         96         97  \\\n",
       "Idade   34.000000  47.000000  23.000000  35.000000  22.000000  42.000000   \n",
       "Altura   1.220881   1.880622   1.719688   1.713007   1.769860   1.330747   \n",
       "Peso    52.542267  51.706855  53.449800  52.026491  50.629015  50.979604   \n",
       "\n",
       "               98         99  \n",
       "Idade   25.000000  25.000000  \n",
       "Altura   1.228610   1.626344  \n",
       "Peso    54.967275  50.696606  \n",
       "\n",
       "[3 rows x 100 columns]"
      ]
     },
     "execution_count": 25,
     "metadata": {},
     "output_type": "execute_result"
    }
   ],
   "source": [
    "# pandas-exemplo-22\n",
    "# Transpor uma dataFrame como se for uma matriz\n",
    "df.T"
   ]
  },
  {
   "cell_type": "code",
   "execution_count": 26,
   "metadata": {
    "colab": {},
    "colab_type": "code",
    "id": "A7trF3dh5h57"
   },
   "outputs": [
    {
     "name": "stdout",
     "output_type": "stream",
     "text": [
      "<class 'pandas.core.series.Series'>\n"
     ]
    },
    {
     "data": {
      "text/plain": [
       "0    21\n",
       "1    24\n",
       "2    37\n",
       "3    26\n",
       "4    57\n",
       "Name: Idade, dtype: int32"
      ]
     },
     "execution_count": 26,
     "metadata": {},
     "output_type": "execute_result"
    }
   ],
   "source": [
    "# pandas-exemplo-23\n",
    "# \"fatiar\" um dataframe\n",
    "serie1 = df['Idade']\n",
    "print(type(serie1))\n",
    "serie1.head()"
   ]
  },
  {
   "cell_type": "code",
   "execution_count": 27,
   "metadata": {
    "colab": {},
    "colab_type": "code",
    "id": "666t0Xxh5h1z"
   },
   "outputs": [
    {
     "data": {
      "text/html": [
       "<div>\n",
       "<style scoped>\n",
       "    .dataframe tbody tr th:only-of-type {\n",
       "        vertical-align: middle;\n",
       "    }\n",
       "\n",
       "    .dataframe tbody tr th {\n",
       "        vertical-align: top;\n",
       "    }\n",
       "\n",
       "    .dataframe thead th {\n",
       "        text-align: right;\n",
       "    }\n",
       "</style>\n",
       "<table border=\"1\" class=\"dataframe\">\n",
       "  <thead>\n",
       "    <tr style=\"text-align: right;\">\n",
       "      <th></th>\n",
       "      <th>Idade</th>\n",
       "      <th>Altura</th>\n",
       "      <th>Peso</th>\n",
       "    </tr>\n",
       "  </thead>\n",
       "  <tbody>\n",
       "    <tr>\n",
       "      <th>2</th>\n",
       "      <td>37</td>\n",
       "      <td>1.988510</td>\n",
       "      <td>56.424524</td>\n",
       "    </tr>\n",
       "    <tr>\n",
       "      <th>6</th>\n",
       "      <td>38</td>\n",
       "      <td>1.161467</td>\n",
       "      <td>51.783098</td>\n",
       "    </tr>\n",
       "    <tr>\n",
       "      <th>7</th>\n",
       "      <td>40</td>\n",
       "      <td>1.870146</td>\n",
       "      <td>57.816594</td>\n",
       "    </tr>\n",
       "    <tr>\n",
       "      <th>18</th>\n",
       "      <td>36</td>\n",
       "      <td>1.589782</td>\n",
       "      <td>51.257814</td>\n",
       "    </tr>\n",
       "    <tr>\n",
       "      <th>21</th>\n",
       "      <td>36</td>\n",
       "      <td>1.043501</td>\n",
       "      <td>51.757242</td>\n",
       "    </tr>\n",
       "    <tr>\n",
       "      <th>25</th>\n",
       "      <td>37</td>\n",
       "      <td>1.876266</td>\n",
       "      <td>56.418118</td>\n",
       "    </tr>\n",
       "    <tr>\n",
       "      <th>26</th>\n",
       "      <td>35</td>\n",
       "      <td>1.432389</td>\n",
       "      <td>50.873792</td>\n",
       "    </tr>\n",
       "    <tr>\n",
       "      <th>28</th>\n",
       "      <td>33</td>\n",
       "      <td>1.290427</td>\n",
       "      <td>51.017448</td>\n",
       "    </tr>\n",
       "    <tr>\n",
       "      <th>31</th>\n",
       "      <td>40</td>\n",
       "      <td>1.448015</td>\n",
       "      <td>58.852637</td>\n",
       "    </tr>\n",
       "    <tr>\n",
       "      <th>38</th>\n",
       "      <td>31</td>\n",
       "      <td>1.164419</td>\n",
       "      <td>55.144021</td>\n",
       "    </tr>\n",
       "    <tr>\n",
       "      <th>41</th>\n",
       "      <td>38</td>\n",
       "      <td>1.777588</td>\n",
       "      <td>53.237506</td>\n",
       "    </tr>\n",
       "    <tr>\n",
       "      <th>43</th>\n",
       "      <td>35</td>\n",
       "      <td>1.502779</td>\n",
       "      <td>59.949503</td>\n",
       "    </tr>\n",
       "    <tr>\n",
       "      <th>48</th>\n",
       "      <td>34</td>\n",
       "      <td>1.857840</td>\n",
       "      <td>59.515101</td>\n",
       "    </tr>\n",
       "    <tr>\n",
       "      <th>52</th>\n",
       "      <td>36</td>\n",
       "      <td>1.715747</td>\n",
       "      <td>56.233847</td>\n",
       "    </tr>\n",
       "    <tr>\n",
       "      <th>56</th>\n",
       "      <td>39</td>\n",
       "      <td>1.102138</td>\n",
       "      <td>58.248905</td>\n",
       "    </tr>\n",
       "    <tr>\n",
       "      <th>62</th>\n",
       "      <td>31</td>\n",
       "      <td>1.570274</td>\n",
       "      <td>54.366699</td>\n",
       "    </tr>\n",
       "    <tr>\n",
       "      <th>66</th>\n",
       "      <td>36</td>\n",
       "      <td>1.506087</td>\n",
       "      <td>53.728929</td>\n",
       "    </tr>\n",
       "    <tr>\n",
       "      <th>68</th>\n",
       "      <td>35</td>\n",
       "      <td>1.004664</td>\n",
       "      <td>51.969643</td>\n",
       "    </tr>\n",
       "    <tr>\n",
       "      <th>69</th>\n",
       "      <td>37</td>\n",
       "      <td>1.417836</td>\n",
       "      <td>59.424206</td>\n",
       "    </tr>\n",
       "    <tr>\n",
       "      <th>73</th>\n",
       "      <td>36</td>\n",
       "      <td>1.842333</td>\n",
       "      <td>52.512829</td>\n",
       "    </tr>\n",
       "    <tr>\n",
       "      <th>76</th>\n",
       "      <td>39</td>\n",
       "      <td>1.816019</td>\n",
       "      <td>52.876353</td>\n",
       "    </tr>\n",
       "    <tr>\n",
       "      <th>78</th>\n",
       "      <td>37</td>\n",
       "      <td>1.346630</td>\n",
       "      <td>56.680993</td>\n",
       "    </tr>\n",
       "    <tr>\n",
       "      <th>86</th>\n",
       "      <td>39</td>\n",
       "      <td>1.205794</td>\n",
       "      <td>52.475509</td>\n",
       "    </tr>\n",
       "    <tr>\n",
       "      <th>90</th>\n",
       "      <td>39</td>\n",
       "      <td>1.107187</td>\n",
       "      <td>50.094504</td>\n",
       "    </tr>\n",
       "    <tr>\n",
       "      <th>92</th>\n",
       "      <td>34</td>\n",
       "      <td>1.220881</td>\n",
       "      <td>52.542267</td>\n",
       "    </tr>\n",
       "    <tr>\n",
       "      <th>95</th>\n",
       "      <td>35</td>\n",
       "      <td>1.713007</td>\n",
       "      <td>52.026491</td>\n",
       "    </tr>\n",
       "  </tbody>\n",
       "</table>\n",
       "</div>"
      ],
      "text/plain": [
       "    Idade    Altura       Peso\n",
       "2      37  1.988510  56.424524\n",
       "6      38  1.161467  51.783098\n",
       "7      40  1.870146  57.816594\n",
       "18     36  1.589782  51.257814\n",
       "21     36  1.043501  51.757242\n",
       "25     37  1.876266  56.418118\n",
       "26     35  1.432389  50.873792\n",
       "28     33  1.290427  51.017448\n",
       "31     40  1.448015  58.852637\n",
       "38     31  1.164419  55.144021\n",
       "41     38  1.777588  53.237506\n",
       "43     35  1.502779  59.949503\n",
       "48     34  1.857840  59.515101\n",
       "52     36  1.715747  56.233847\n",
       "56     39  1.102138  58.248905\n",
       "62     31  1.570274  54.366699\n",
       "66     36  1.506087  53.728929\n",
       "68     35  1.004664  51.969643\n",
       "69     37  1.417836  59.424206\n",
       "73     36  1.842333  52.512829\n",
       "76     39  1.816019  52.876353\n",
       "78     37  1.346630  56.680993\n",
       "86     39  1.205794  52.475509\n",
       "90     39  1.107187  50.094504\n",
       "92     34  1.220881  52.542267\n",
       "95     35  1.713007  52.026491"
      ]
     },
     "execution_count": 27,
     "metadata": {},
     "output_type": "execute_result"
    }
   ],
   "source": [
    "# pandas-exemplo-24\n",
    "# \"fatiar\" um dataframe selecionando linhas\n",
    "df[(df.Idade > 30) & (df.Idade <= 40)]"
   ]
  },
  {
   "cell_type": "markdown",
   "metadata": {},
   "source": [
    "### Combinação de Datasets"
   ]
  },
  {
   "cell_type": "code",
   "execution_count": 28,
   "metadata": {},
   "outputs": [
    {
     "name": "stdout",
     "output_type": "stream",
     "text": [
      "       aluno universidade\n",
      "0  Ana Luiza        UFRRJ\n",
      "1   Anderson          UFF\n",
      "2      Breno          UFF\n",
      "3    Vanessa         UFRJ\n",
      "\n",
      "        aluno  ano_ingresso\n",
      "0      Breno          2016\n",
      "1  Ana Luiza          2017\n",
      "2   Anderson          2018\n",
      "3    Vanessa          2020\n"
     ]
    }
   ],
   "source": [
    "# pandas-exemplo-24\n",
    "# DataFrames sobre alunos do curso de PGEB\n",
    "df1 = pd.DataFrame({'aluno': ['Ana Luiza', 'Anderson', 'Breno', 'Vanessa'],'universidade': ['UFRRJ', 'UFF', 'UFF', 'UFRJ']})\n",
    "df2 = pd.DataFrame({'aluno': ['Breno', 'Ana Luiza', 'Anderson', 'Vanessa'],'ano_ingresso': [2016, 2017, 2018, 2020]})\n",
    "print(df1); print('\\n',df2)"
   ]
  },
  {
   "cell_type": "code",
   "execution_count": 29,
   "metadata": {},
   "outputs": [
    {
     "data": {
      "text/html": [
       "<div>\n",
       "<style scoped>\n",
       "    .dataframe tbody tr th:only-of-type {\n",
       "        vertical-align: middle;\n",
       "    }\n",
       "\n",
       "    .dataframe tbody tr th {\n",
       "        vertical-align: top;\n",
       "    }\n",
       "\n",
       "    .dataframe thead th {\n",
       "        text-align: right;\n",
       "    }\n",
       "</style>\n",
       "<table border=\"1\" class=\"dataframe\">\n",
       "  <thead>\n",
       "    <tr style=\"text-align: right;\">\n",
       "      <th></th>\n",
       "      <th>aluno</th>\n",
       "      <th>universidade</th>\n",
       "      <th>ano_ingresso</th>\n",
       "    </tr>\n",
       "  </thead>\n",
       "  <tbody>\n",
       "    <tr>\n",
       "      <th>0</th>\n",
       "      <td>Ana Luiza</td>\n",
       "      <td>UFRRJ</td>\n",
       "      <td>2017</td>\n",
       "    </tr>\n",
       "    <tr>\n",
       "      <th>1</th>\n",
       "      <td>Anderson</td>\n",
       "      <td>UFF</td>\n",
       "      <td>2018</td>\n",
       "    </tr>\n",
       "    <tr>\n",
       "      <th>2</th>\n",
       "      <td>Breno</td>\n",
       "      <td>UFF</td>\n",
       "      <td>2016</td>\n",
       "    </tr>\n",
       "    <tr>\n",
       "      <th>3</th>\n",
       "      <td>Vanessa</td>\n",
       "      <td>UFRJ</td>\n",
       "      <td>2020</td>\n",
       "    </tr>\n",
       "  </tbody>\n",
       "</table>\n",
       "</div>"
      ],
      "text/plain": [
       "       aluno universidade  ano_ingresso\n",
       "0  Ana Luiza        UFRRJ          2017\n",
       "1   Anderson          UFF          2018\n",
       "2      Breno          UFF          2016\n",
       "3    Vanessa         UFRJ          2020"
      ]
     },
     "execution_count": 29,
     "metadata": {},
     "output_type": "execute_result"
    }
   ],
   "source": [
    "# pandas-exemplo-25\n",
    "# combinda dois dataframes: MERGE() (one-to-one)\n",
    "df3 = pd.merge(df1,df2)\n",
    "df3.head()"
   ]
  },
  {
   "cell_type": "code",
   "execution_count": 30,
   "metadata": {},
   "outputs": [
    {
     "data": {
      "text/html": [
       "<div>\n",
       "<style scoped>\n",
       "    .dataframe tbody tr th:only-of-type {\n",
       "        vertical-align: middle;\n",
       "    }\n",
       "\n",
       "    .dataframe tbody tr th {\n",
       "        vertical-align: top;\n",
       "    }\n",
       "\n",
       "    .dataframe thead th {\n",
       "        text-align: right;\n",
       "    }\n",
       "</style>\n",
       "<table border=\"1\" class=\"dataframe\">\n",
       "  <thead>\n",
       "    <tr style=\"text-align: right;\">\n",
       "      <th></th>\n",
       "      <th>aluno</th>\n",
       "      <th>ano_ingresso</th>\n",
       "    </tr>\n",
       "  </thead>\n",
       "  <tbody>\n",
       "    <tr>\n",
       "      <th>0</th>\n",
       "      <td>Breno</td>\n",
       "      <td>2016</td>\n",
       "    </tr>\n",
       "    <tr>\n",
       "      <th>1</th>\n",
       "      <td>Ana Luiza</td>\n",
       "      <td>2017</td>\n",
       "    </tr>\n",
       "    <tr>\n",
       "      <th>2</th>\n",
       "      <td>Anderson</td>\n",
       "      <td>2018</td>\n",
       "    </tr>\n",
       "  </tbody>\n",
       "</table>\n",
       "</div>"
      ],
      "text/plain": [
       "       aluno  ano_ingresso\n",
       "0      Breno          2016\n",
       "1  Ana Luiza          2017\n",
       "2   Anderson          2018"
      ]
     },
     "execution_count": 30,
     "metadata": {},
     "output_type": "execute_result"
    }
   ],
   "source": [
    "# pandas-exemplo-26\n",
    "#  combina 2 DataFrmes de dimensões distintas: MERGE() (one-to-one)\n",
    "df4 = pd.DataFrame({'aluno': ['Breno', 'Ana Luiza', 'Anderson'],'ano_ingresso': [2016, 2017, 2018]})\n",
    "df5 = pd.merge(df2,df4)\n",
    "df5.head()"
   ]
  },
  {
   "cell_type": "markdown",
   "metadata": {},
   "source": [
    "A função **pd.merge()** reconhece que cada DataFrame possui uma coluna \"aluno\" e se junta automaticamente usando essa coluna como chave (key)"
   ]
  },
  {
   "cell_type": "code",
   "execution_count": 31,
   "metadata": {},
   "outputs": [
    {
     "name": "stdout",
     "output_type": "stream",
     "text": [
      "       aluno universidade  ano_ingresso\n",
      "0  Ana Luiza        UFRRJ          2017\n",
      "1   Anderson          UFF          2018\n",
      "2      Breno          UFF          2016\n",
      "3    Vanessa         UFRJ          2020\n",
      "\n",
      "   universidade orientador\n",
      "0        UFRRJ      Fabio\n",
      "1          UFF     Helder\n",
      "2          UFF    Gustavo\n",
      "3         UFRJ       José\n",
      "\n",
      "        aluno universidade  ano_ingresso orientador\n",
      "0  Ana Luiza        UFRRJ          2017      Fabio\n",
      "1   Anderson          UFF          2018     Helder\n",
      "2   Anderson          UFF          2018    Gustavo\n",
      "3      Breno          UFF          2016     Helder\n",
      "4      Breno          UFF          2016    Gustavo\n",
      "5    Vanessa         UFRJ          2020       José\n"
     ]
    }
   ],
   "source": [
    "# pandas-exemplo-27\n",
    "# combinação muitos-para-um: many-to-one\n",
    "df6 = pd.DataFrame({'universidade': ['UFRRJ', 'UFF', 'UFF', 'UFRJ'],'orientador': ['Fabio', 'Helder', 'Gustavo','José']})\n",
    "print(df3); print('\\n',df6); print('\\n',pd.merge(df3, df6))"
   ]
  },
  {
   "cell_type": "markdown",
   "metadata": {},
   "source": [
    "As combinações (**Joins**) muitos-para-um (*many-to-one*) são *joins* nas quais uma das duas colunas principais contém **entradas duplicadas**. No caso de muitos-para-um, o DataFrame resultante preservará essas entradas duplicadas conforme seja o caso."
   ]
  },
  {
   "cell_type": "code",
   "execution_count": 32,
   "metadata": {},
   "outputs": [
    {
     "name": "stdout",
     "output_type": "stream",
     "text": [
      "DF1: \n",
      "        aluno universidade\n",
      "0  Ana Luiza        UFRRJ\n",
      "1   Anderson          UFF\n",
      "2      Breno          UFF\n",
      "3    Vanessa         UFRJ\n",
      "DF7: \n",
      "   universidade  disciplinas\n",
      "0        UFRRJ   matemática\n",
      "1        UFRRJ  programação\n",
      "2          UFF     pesquisa\n",
      "3          UFF       python\n",
      "4         UFRJ     pesquisa\n",
      "5         UFRJ    filosofia\n",
      "DF8: \n",
      "        aluno universidade  disciplinas\n",
      "0  Ana Luiza        UFRRJ   matemática\n",
      "1  Ana Luiza        UFRRJ  programação\n",
      "2   Anderson          UFF     pesquisa\n",
      "3   Anderson          UFF       python\n",
      "4      Breno          UFF     pesquisa\n",
      "5      Breno          UFF       python\n",
      "6    Vanessa         UFRJ     pesquisa\n",
      "7    Vanessa         UFRJ    filosofia\n"
     ]
    }
   ],
   "source": [
    "# pandas-exemplo-28\n",
    "# combinação muitos-para-muitos\n",
    "df7 = pd.DataFrame({'universidade': ['UFRRJ', 'UFRRJ', 'UFF','UFF', 'UFRJ','UFRJ'],\n",
    "                    'disciplinas': ['matemática', 'programação', 'pesquisa', 'python', 'pesquisa','filosofia']})\n",
    "df8 = pd.merge(df1, df7)\n",
    "\n",
    "print('DF1: \\n',df1)\n",
    "print('DF7: \\n',df7)\n",
    "print('DF8: \\n',df8)"
   ]
  },
  {
   "cell_type": "markdown",
   "metadata": {},
   "source": [
    "### Especificação da chave para fazer a Combinação"
   ]
  },
  {
   "cell_type": "code",
   "execution_count": 33,
   "metadata": {},
   "outputs": [
    {
     "name": "stdout",
     "output_type": "stream",
     "text": [
      "df1 : \n",
      "        aluno universidade\n",
      "0  Ana Luiza        UFRRJ\n",
      "1   Anderson          UFF\n",
      "2      Breno          UFF\n",
      "3    Vanessa         UFRJ\n",
      "df2 : \n",
      "        aluno  ano_ingresso\n",
      "0      Breno          2016\n",
      "1  Ana Luiza          2017\n",
      "2   Anderson          2018\n",
      "3    Vanessa          2020\n",
      "df9 : \n",
      "        aluno universidade  ano_ingresso\n",
      "0  Ana Luiza        UFRRJ          2017\n",
      "1   Anderson          UFF          2018\n",
      "2      Breno          UFF          2016\n",
      "3    Vanessa         UFRJ          2020\n"
     ]
    }
   ],
   "source": [
    "# pandas-exemplo-29\n",
    "#  merge suando chave(key) = 'aluno'\n",
    "# a chave deve ser unica!!!\n",
    "print('df1 : \\n',df1)\n",
    "print('df2 : \\n',df2)\n",
    "df9 = pd.merge(df1, df2, on='aluno')\n",
    "print('df9 : \\n', df9)"
   ]
  },
  {
   "cell_type": "code",
   "execution_count": 34,
   "metadata": {},
   "outputs": [
    {
     "name": "stdout",
     "output_type": "stream",
     "text": [
      "df1 : \n",
      "        aluno universidade\n",
      "0  Ana Luiza        UFRRJ\n",
      "1   Anderson          UFF\n",
      "2      Breno          UFF\n",
      "3    Vanessa         UFRJ\n",
      "\n",
      "\n",
      "df10 : \n",
      "         nome  salario\n",
      "0  Ana Luiza     7000\n",
      "1   Anderson     8000\n",
      "2      Breno    12000\n",
      "3    Vanessa     9000\n",
      "\n",
      "\n",
      "df11 : \n",
      "        aluno universidade       nome  salario\n",
      "0  Ana Luiza        UFRRJ  Ana Luiza     7000\n",
      "1   Anderson          UFF   Anderson     8000\n",
      "2      Breno          UFF      Breno    12000\n",
      "3    Vanessa         UFRJ    Vanessa     9000\n"
     ]
    }
   ],
   "source": [
    "# pandas-exemplo-30\n",
    "#  merge left_on e right_on\n",
    "df10 = pd.DataFrame({'nome': ['Ana Luiza', 'Anderson','Breno','Vanessa'],'salario': [7000, 8000, 12000, 9000]})\n",
    "print('df1 : \\n',df1)\n",
    "print('\\n')\n",
    "print('df10 : \\n',df10)\n",
    "df11 = pd.merge(df1, df10,left_on='aluno',right_on='nome')\n",
    "print('\\n')\n",
    "print('df11 : \\n', df11)"
   ]
  },
  {
   "cell_type": "code",
   "execution_count": 35,
   "metadata": {},
   "outputs": [
    {
     "name": "stdout",
     "output_type": "stream",
     "text": [
      "df12 : \n",
      "        aluno universidade  salario\n",
      "0  Ana Luiza        UFRRJ     7000\n",
      "1   Anderson          UFF     8000\n",
      "2      Breno          UFF    12000\n",
      "3    Vanessa         UFRJ     9000\n"
     ]
    }
   ],
   "source": [
    "# pandas-exemplo-31\n",
    "# elimina uma coluna = axis=1\n",
    "df12 = pd.merge(df1, df10,left_on='aluno',right_on='nome').drop('nome',axis=1)\n",
    "print('df12 : \\n', df12)"
   ]
  },
  {
   "cell_type": "markdown",
   "metadata": {},
   "source": [
    "### Leitura de arquivos em Pandas"
   ]
  },
  {
   "cell_type": "markdown",
   "metadata": {},
   "source": [
    "> ### CSV"
   ]
  },
  {
   "cell_type": "code",
   "execution_count": 36,
   "metadata": {
    "colab": {},
    "colab_type": "code",
    "id": "7fqBUqyw5hx7"
   },
   "outputs": [
    {
     "data": {
      "text/html": [
       "<div>\n",
       "<style scoped>\n",
       "    .dataframe tbody tr th:only-of-type {\n",
       "        vertical-align: middle;\n",
       "    }\n",
       "\n",
       "    .dataframe tbody tr th {\n",
       "        vertical-align: top;\n",
       "    }\n",
       "\n",
       "    .dataframe thead th {\n",
       "        text-align: right;\n",
       "    }\n",
       "</style>\n",
       "<table border=\"1\" class=\"dataframe\">\n",
       "  <thead>\n",
       "    <tr style=\"text-align: right;\">\n",
       "      <th></th>\n",
       "      <th>151</th>\n",
       "      <th>0.038076</th>\n",
       "      <th>0.05068</th>\n",
       "      <th>0.061696</th>\n",
       "      <th>0.021872</th>\n",
       "      <th>-0.044223</th>\n",
       "      <th>-0.034821</th>\n",
       "      <th>-0.043401</th>\n",
       "      <th>-0.002592</th>\n",
       "      <th>0.019908</th>\n",
       "      <th>-0.017646</th>\n",
       "    </tr>\n",
       "  </thead>\n",
       "  <tbody>\n",
       "    <tr>\n",
       "      <th>0</th>\n",
       "      <td>75</td>\n",
       "      <td>-0.001882</td>\n",
       "      <td>-0.044642</td>\n",
       "      <td>-0.051474</td>\n",
       "      <td>-0.026328</td>\n",
       "      <td>-0.008449</td>\n",
       "      <td>-0.019163</td>\n",
       "      <td>0.074412</td>\n",
       "      <td>-0.039493</td>\n",
       "      <td>-0.068330</td>\n",
       "      <td>-0.092204</td>\n",
       "    </tr>\n",
       "    <tr>\n",
       "      <th>1</th>\n",
       "      <td>141</td>\n",
       "      <td>0.085299</td>\n",
       "      <td>0.050680</td>\n",
       "      <td>0.044451</td>\n",
       "      <td>-0.005671</td>\n",
       "      <td>-0.045599</td>\n",
       "      <td>-0.034194</td>\n",
       "      <td>-0.032356</td>\n",
       "      <td>-0.002592</td>\n",
       "      <td>0.002864</td>\n",
       "      <td>-0.025930</td>\n",
       "    </tr>\n",
       "    <tr>\n",
       "      <th>2</th>\n",
       "      <td>206</td>\n",
       "      <td>-0.089063</td>\n",
       "      <td>-0.044642</td>\n",
       "      <td>-0.011595</td>\n",
       "      <td>-0.036656</td>\n",
       "      <td>0.012191</td>\n",
       "      <td>0.024991</td>\n",
       "      <td>-0.036038</td>\n",
       "      <td>0.034309</td>\n",
       "      <td>0.022692</td>\n",
       "      <td>-0.009362</td>\n",
       "    </tr>\n",
       "    <tr>\n",
       "      <th>3</th>\n",
       "      <td>135</td>\n",
       "      <td>0.005383</td>\n",
       "      <td>-0.044642</td>\n",
       "      <td>-0.036385</td>\n",
       "      <td>0.021872</td>\n",
       "      <td>0.003935</td>\n",
       "      <td>0.015596</td>\n",
       "      <td>0.008142</td>\n",
       "      <td>-0.002592</td>\n",
       "      <td>-0.031991</td>\n",
       "      <td>-0.046641</td>\n",
       "    </tr>\n",
       "    <tr>\n",
       "      <th>4</th>\n",
       "      <td>97</td>\n",
       "      <td>-0.092695</td>\n",
       "      <td>-0.044642</td>\n",
       "      <td>-0.040696</td>\n",
       "      <td>-0.019442</td>\n",
       "      <td>-0.068991</td>\n",
       "      <td>-0.079288</td>\n",
       "      <td>0.041277</td>\n",
       "      <td>-0.076395</td>\n",
       "      <td>-0.041180</td>\n",
       "      <td>-0.096346</td>\n",
       "    </tr>\n",
       "    <tr>\n",
       "      <th>...</th>\n",
       "      <td>...</td>\n",
       "      <td>...</td>\n",
       "      <td>...</td>\n",
       "      <td>...</td>\n",
       "      <td>...</td>\n",
       "      <td>...</td>\n",
       "      <td>...</td>\n",
       "      <td>...</td>\n",
       "      <td>...</td>\n",
       "      <td>...</td>\n",
       "      <td>...</td>\n",
       "    </tr>\n",
       "    <tr>\n",
       "      <th>436</th>\n",
       "      <td>178</td>\n",
       "      <td>0.041708</td>\n",
       "      <td>0.050680</td>\n",
       "      <td>0.019662</td>\n",
       "      <td>0.059744</td>\n",
       "      <td>-0.005697</td>\n",
       "      <td>-0.002566</td>\n",
       "      <td>-0.028674</td>\n",
       "      <td>-0.002592</td>\n",
       "      <td>0.031193</td>\n",
       "      <td>0.007207</td>\n",
       "    </tr>\n",
       "    <tr>\n",
       "      <th>437</th>\n",
       "      <td>104</td>\n",
       "      <td>-0.005515</td>\n",
       "      <td>0.050680</td>\n",
       "      <td>-0.015906</td>\n",
       "      <td>-0.067642</td>\n",
       "      <td>0.049341</td>\n",
       "      <td>0.079165</td>\n",
       "      <td>-0.028674</td>\n",
       "      <td>0.034309</td>\n",
       "      <td>-0.018118</td>\n",
       "      <td>0.044485</td>\n",
       "    </tr>\n",
       "    <tr>\n",
       "      <th>438</th>\n",
       "      <td>132</td>\n",
       "      <td>0.041708</td>\n",
       "      <td>0.050680</td>\n",
       "      <td>-0.015906</td>\n",
       "      <td>0.017282</td>\n",
       "      <td>-0.037344</td>\n",
       "      <td>-0.013840</td>\n",
       "      <td>-0.024993</td>\n",
       "      <td>-0.011080</td>\n",
       "      <td>-0.046879</td>\n",
       "      <td>0.015491</td>\n",
       "    </tr>\n",
       "    <tr>\n",
       "      <th>439</th>\n",
       "      <td>220</td>\n",
       "      <td>-0.045472</td>\n",
       "      <td>-0.044642</td>\n",
       "      <td>0.039062</td>\n",
       "      <td>0.001215</td>\n",
       "      <td>0.016318</td>\n",
       "      <td>0.015283</td>\n",
       "      <td>-0.028674</td>\n",
       "      <td>0.026560</td>\n",
       "      <td>0.044528</td>\n",
       "      <td>-0.025930</td>\n",
       "    </tr>\n",
       "    <tr>\n",
       "      <th>440</th>\n",
       "      <td>57</td>\n",
       "      <td>-0.045472</td>\n",
       "      <td>-0.044642</td>\n",
       "      <td>-0.073030</td>\n",
       "      <td>-0.081414</td>\n",
       "      <td>0.083740</td>\n",
       "      <td>0.027809</td>\n",
       "      <td>0.173816</td>\n",
       "      <td>-0.039493</td>\n",
       "      <td>-0.004220</td>\n",
       "      <td>0.003064</td>\n",
       "    </tr>\n",
       "  </tbody>\n",
       "</table>\n",
       "<p>441 rows × 11 columns</p>\n",
       "</div>"
      ],
      "text/plain": [
       "     151  0.038076   0.05068  0.061696  0.021872  -0.044223  -0.034821  \\\n",
       "0     75 -0.001882 -0.044642 -0.051474 -0.026328  -0.008449  -0.019163   \n",
       "1    141  0.085299  0.050680  0.044451 -0.005671  -0.045599  -0.034194   \n",
       "2    206 -0.089063 -0.044642 -0.011595 -0.036656   0.012191   0.024991   \n",
       "3    135  0.005383 -0.044642 -0.036385  0.021872   0.003935   0.015596   \n",
       "4     97 -0.092695 -0.044642 -0.040696 -0.019442  -0.068991  -0.079288   \n",
       "..   ...       ...       ...       ...       ...        ...        ...   \n",
       "436  178  0.041708  0.050680  0.019662  0.059744  -0.005697  -0.002566   \n",
       "437  104 -0.005515  0.050680 -0.015906 -0.067642   0.049341   0.079165   \n",
       "438  132  0.041708  0.050680 -0.015906  0.017282  -0.037344  -0.013840   \n",
       "439  220 -0.045472 -0.044642  0.039062  0.001215   0.016318   0.015283   \n",
       "440   57 -0.045472 -0.044642 -0.073030 -0.081414   0.083740   0.027809   \n",
       "\n",
       "     -0.043401  -0.002592  0.019908  -0.017646  \n",
       "0     0.074412  -0.039493 -0.068330  -0.092204  \n",
       "1    -0.032356  -0.002592  0.002864  -0.025930  \n",
       "2    -0.036038   0.034309  0.022692  -0.009362  \n",
       "3     0.008142  -0.002592 -0.031991  -0.046641  \n",
       "4     0.041277  -0.076395 -0.041180  -0.096346  \n",
       "..         ...        ...       ...        ...  \n",
       "436  -0.028674  -0.002592  0.031193   0.007207  \n",
       "437  -0.028674   0.034309 -0.018118   0.044485  \n",
       "438  -0.024993  -0.011080 -0.046879   0.015491  \n",
       "439  -0.028674   0.026560  0.044528  -0.025930  \n",
       "440   0.173816  -0.039493 -0.004220   0.003064  \n",
       "\n",
       "[441 rows x 11 columns]"
      ]
     },
     "execution_count": 36,
     "metadata": {},
     "output_type": "execute_result"
    }
   ],
   "source": [
    "# pandas-exemplo-32\n",
    "#  carregar arquivos externos: CSV, JSON, XLS, etc.\n",
    "dataset = pd.read_csv(\"data/diabetes.csv\")\n",
    "dataset"
   ]
  },
  {
   "cell_type": "code",
   "execution_count": 37,
   "metadata": {
    "colab": {},
    "colab_type": "code",
    "id": "ByhtyX-U5hvB"
   },
   "outputs": [
    {
     "data": {
      "text/html": [
       "<div>\n",
       "<style scoped>\n",
       "    .dataframe tbody tr th:only-of-type {\n",
       "        vertical-align: middle;\n",
       "    }\n",
       "\n",
       "    .dataframe tbody tr th {\n",
       "        vertical-align: top;\n",
       "    }\n",
       "\n",
       "    .dataframe thead th {\n",
       "        text-align: right;\n",
       "    }\n",
       "</style>\n",
       "<table border=\"1\" class=\"dataframe\">\n",
       "  <thead>\n",
       "    <tr style=\"text-align: right;\">\n",
       "      <th></th>\n",
       "      <th>151</th>\n",
       "      <th>0.038076</th>\n",
       "      <th>0.05068</th>\n",
       "      <th>0.061696</th>\n",
       "      <th>0.021872</th>\n",
       "      <th>-0.044223</th>\n",
       "      <th>-0.034821</th>\n",
       "      <th>-0.043401</th>\n",
       "      <th>-0.002592</th>\n",
       "      <th>0.019908</th>\n",
       "      <th>-0.017646</th>\n",
       "    </tr>\n",
       "  </thead>\n",
       "  <tbody>\n",
       "    <tr>\n",
       "      <th>count</th>\n",
       "      <td>441.000000</td>\n",
       "      <td>441.000000</td>\n",
       "      <td>441.000000</td>\n",
       "      <td>441.000000</td>\n",
       "      <td>441.000000</td>\n",
       "      <td>441.000000</td>\n",
       "      <td>441.000000</td>\n",
       "      <td>441.000000</td>\n",
       "      <td>441.000000</td>\n",
       "      <td>441.000000</td>\n",
       "      <td>441.000000</td>\n",
       "    </tr>\n",
       "    <tr>\n",
       "      <th>mean</th>\n",
       "      <td>152.136054</td>\n",
       "      <td>-0.000086</td>\n",
       "      <td>-0.000115</td>\n",
       "      <td>-0.000140</td>\n",
       "      <td>-0.000050</td>\n",
       "      <td>0.000100</td>\n",
       "      <td>0.000079</td>\n",
       "      <td>0.000098</td>\n",
       "      <td>0.000006</td>\n",
       "      <td>-0.000045</td>\n",
       "      <td>0.000040</td>\n",
       "    </tr>\n",
       "    <tr>\n",
       "      <th>std</th>\n",
       "      <td>77.180542</td>\n",
       "      <td>0.047638</td>\n",
       "      <td>0.047612</td>\n",
       "      <td>0.047582</td>\n",
       "      <td>0.047662</td>\n",
       "      <td>0.047626</td>\n",
       "      <td>0.047644</td>\n",
       "      <td>0.047628</td>\n",
       "      <td>0.047673</td>\n",
       "      <td>0.047664</td>\n",
       "      <td>0.047666</td>\n",
       "    </tr>\n",
       "    <tr>\n",
       "      <th>min</th>\n",
       "      <td>25.000000</td>\n",
       "      <td>-0.107226</td>\n",
       "      <td>-0.044642</td>\n",
       "      <td>-0.090275</td>\n",
       "      <td>-0.112400</td>\n",
       "      <td>-0.126781</td>\n",
       "      <td>-0.115613</td>\n",
       "      <td>-0.102307</td>\n",
       "      <td>-0.076395</td>\n",
       "      <td>-0.126097</td>\n",
       "      <td>-0.137767</td>\n",
       "    </tr>\n",
       "    <tr>\n",
       "      <th>25%</th>\n",
       "      <td>87.000000</td>\n",
       "      <td>-0.038207</td>\n",
       "      <td>-0.044642</td>\n",
       "      <td>-0.034229</td>\n",
       "      <td>-0.036656</td>\n",
       "      <td>-0.033216</td>\n",
       "      <td>-0.030124</td>\n",
       "      <td>-0.032356</td>\n",
       "      <td>-0.039493</td>\n",
       "      <td>-0.033249</td>\n",
       "      <td>-0.034215</td>\n",
       "    </tr>\n",
       "    <tr>\n",
       "      <th>50%</th>\n",
       "      <td>140.000000</td>\n",
       "      <td>0.005383</td>\n",
       "      <td>-0.044642</td>\n",
       "      <td>-0.007284</td>\n",
       "      <td>-0.005671</td>\n",
       "      <td>-0.004321</td>\n",
       "      <td>-0.003819</td>\n",
       "      <td>-0.006584</td>\n",
       "      <td>-0.002592</td>\n",
       "      <td>-0.002397</td>\n",
       "      <td>-0.001078</td>\n",
       "    </tr>\n",
       "    <tr>\n",
       "      <th>75%</th>\n",
       "      <td>212.000000</td>\n",
       "      <td>0.038076</td>\n",
       "      <td>0.050680</td>\n",
       "      <td>0.030440</td>\n",
       "      <td>0.035644</td>\n",
       "      <td>0.028702</td>\n",
       "      <td>0.030001</td>\n",
       "      <td>0.030232</td>\n",
       "      <td>0.034309</td>\n",
       "      <td>0.032433</td>\n",
       "      <td>0.027917</td>\n",
       "    </tr>\n",
       "    <tr>\n",
       "      <th>max</th>\n",
       "      <td>346.000000</td>\n",
       "      <td>0.110727</td>\n",
       "      <td>0.050680</td>\n",
       "      <td>0.170555</td>\n",
       "      <td>0.132044</td>\n",
       "      <td>0.153914</td>\n",
       "      <td>0.198788</td>\n",
       "      <td>0.181179</td>\n",
       "      <td>0.185234</td>\n",
       "      <td>0.133599</td>\n",
       "      <td>0.135612</td>\n",
       "    </tr>\n",
       "  </tbody>\n",
       "</table>\n",
       "</div>"
      ],
      "text/plain": [
       "              151    0.038076     0.05068    0.061696    0.021872   -0.044223  \\\n",
       "count  441.000000  441.000000  441.000000  441.000000  441.000000  441.000000   \n",
       "mean   152.136054   -0.000086   -0.000115   -0.000140   -0.000050    0.000100   \n",
       "std     77.180542    0.047638    0.047612    0.047582    0.047662    0.047626   \n",
       "min     25.000000   -0.107226   -0.044642   -0.090275   -0.112400   -0.126781   \n",
       "25%     87.000000   -0.038207   -0.044642   -0.034229   -0.036656   -0.033216   \n",
       "50%    140.000000    0.005383   -0.044642   -0.007284   -0.005671   -0.004321   \n",
       "75%    212.000000    0.038076    0.050680    0.030440    0.035644    0.028702   \n",
       "max    346.000000    0.110727    0.050680    0.170555    0.132044    0.153914   \n",
       "\n",
       "        -0.034821   -0.043401   -0.002592    0.019908   -0.017646  \n",
       "count  441.000000  441.000000  441.000000  441.000000  441.000000  \n",
       "mean     0.000079    0.000098    0.000006   -0.000045    0.000040  \n",
       "std      0.047644    0.047628    0.047673    0.047664    0.047666  \n",
       "min     -0.115613   -0.102307   -0.076395   -0.126097   -0.137767  \n",
       "25%     -0.030124   -0.032356   -0.039493   -0.033249   -0.034215  \n",
       "50%     -0.003819   -0.006584   -0.002592   -0.002397   -0.001078  \n",
       "75%      0.030001    0.030232    0.034309    0.032433    0.027917  \n",
       "max      0.198788    0.181179    0.185234    0.133599    0.135612  "
      ]
     },
     "execution_count": 37,
     "metadata": {},
     "output_type": "execute_result"
    }
   ],
   "source": [
    "# pandas-exemplo-33\n",
    "# métricas da diabetes\n",
    "dataset.describe()"
   ]
  },
  {
   "cell_type": "code",
   "execution_count": 38,
   "metadata": {
    "colab": {},
    "colab_type": "code",
    "id": "alDkuw-v5hsW"
   },
   "outputs": [
    {
     "data": {
      "text/html": [
       "<div>\n",
       "<style scoped>\n",
       "    .dataframe tbody tr th:only-of-type {\n",
       "        vertical-align: middle;\n",
       "    }\n",
       "\n",
       "    .dataframe tbody tr th {\n",
       "        vertical-align: top;\n",
       "    }\n",
       "\n",
       "    .dataframe thead th {\n",
       "        text-align: right;\n",
       "    }\n",
       "</style>\n",
       "<table border=\"1\" class=\"dataframe\">\n",
       "  <thead>\n",
       "    <tr style=\"text-align: right;\">\n",
       "      <th></th>\n",
       "      <th>Date</th>\n",
       "      <th>Temp</th>\n",
       "    </tr>\n",
       "  </thead>\n",
       "  <tbody>\n",
       "    <tr>\n",
       "      <th>0</th>\n",
       "      <td>1981-01-01</td>\n",
       "      <td>20.7</td>\n",
       "    </tr>\n",
       "    <tr>\n",
       "      <th>1</th>\n",
       "      <td>1981-01-02</td>\n",
       "      <td>17.9</td>\n",
       "    </tr>\n",
       "    <tr>\n",
       "      <th>2</th>\n",
       "      <td>1981-01-03</td>\n",
       "      <td>18.8</td>\n",
       "    </tr>\n",
       "    <tr>\n",
       "      <th>3</th>\n",
       "      <td>1981-01-04</td>\n",
       "      <td>14.6</td>\n",
       "    </tr>\n",
       "    <tr>\n",
       "      <th>4</th>\n",
       "      <td>1981-01-05</td>\n",
       "      <td>15.8</td>\n",
       "    </tr>\n",
       "  </tbody>\n",
       "</table>\n",
       "</div>"
      ],
      "text/plain": [
       "         Date  Temp\n",
       "0  1981-01-01  20.7\n",
       "1  1981-01-02  17.9\n",
       "2  1981-01-03  18.8\n",
       "3  1981-01-04  14.6\n",
       "4  1981-01-05  15.8"
      ]
     },
     "execution_count": 38,
     "metadata": {},
     "output_type": "execute_result"
    }
   ],
   "source": [
    "# pandas-exemplo-34\n",
    "# carregar arquivos externos: CSV, JSON, XLS, etc.\n",
    "data_temp = pd.read_csv(\"data/daily-min-temperatures.csv\")\n",
    "data_temp.head()"
   ]
  },
  {
   "cell_type": "code",
   "execution_count": 39,
   "metadata": {
    "colab": {},
    "colab_type": "code",
    "id": "2FLiAbf55hoU"
   },
   "outputs": [
    {
     "data": {
      "text/html": [
       "<div>\n",
       "<style scoped>\n",
       "    .dataframe tbody tr th:only-of-type {\n",
       "        vertical-align: middle;\n",
       "    }\n",
       "\n",
       "    .dataframe tbody tr th {\n",
       "        vertical-align: top;\n",
       "    }\n",
       "\n",
       "    .dataframe thead th {\n",
       "        text-align: right;\n",
       "    }\n",
       "</style>\n",
       "<table border=\"1\" class=\"dataframe\">\n",
       "  <thead>\n",
       "    <tr style=\"text-align: right;\">\n",
       "      <th></th>\n",
       "      <th>Temp</th>\n",
       "    </tr>\n",
       "  </thead>\n",
       "  <tbody>\n",
       "    <tr>\n",
       "      <th>count</th>\n",
       "      <td>3650.000000</td>\n",
       "    </tr>\n",
       "    <tr>\n",
       "      <th>mean</th>\n",
       "      <td>11.177753</td>\n",
       "    </tr>\n",
       "    <tr>\n",
       "      <th>std</th>\n",
       "      <td>4.071837</td>\n",
       "    </tr>\n",
       "    <tr>\n",
       "      <th>min</th>\n",
       "      <td>0.000000</td>\n",
       "    </tr>\n",
       "    <tr>\n",
       "      <th>25%</th>\n",
       "      <td>8.300000</td>\n",
       "    </tr>\n",
       "    <tr>\n",
       "      <th>50%</th>\n",
       "      <td>11.000000</td>\n",
       "    </tr>\n",
       "    <tr>\n",
       "      <th>75%</th>\n",
       "      <td>14.000000</td>\n",
       "    </tr>\n",
       "    <tr>\n",
       "      <th>max</th>\n",
       "      <td>26.300000</td>\n",
       "    </tr>\n",
       "  </tbody>\n",
       "</table>\n",
       "</div>"
      ],
      "text/plain": [
       "              Temp\n",
       "count  3650.000000\n",
       "mean     11.177753\n",
       "std       4.071837\n",
       "min       0.000000\n",
       "25%       8.300000\n",
       "50%      11.000000\n",
       "75%      14.000000\n",
       "max      26.300000"
      ]
     },
     "execution_count": 39,
     "metadata": {},
     "output_type": "execute_result"
    }
   ],
   "source": [
    "# pandas-exemplo-35\n",
    "# metricas da temperature\n",
    "data_temp.describe()"
   ]
  },
  {
   "cell_type": "code",
   "execution_count": 40,
   "metadata": {
    "colab": {},
    "colab_type": "code",
    "id": "Xv8lgRMe5w0r"
   },
   "outputs": [
    {
     "data": {
      "text/html": [
       "<div>\n",
       "<style scoped>\n",
       "    .dataframe tbody tr th:only-of-type {\n",
       "        vertical-align: middle;\n",
       "    }\n",
       "\n",
       "    .dataframe tbody tr th {\n",
       "        vertical-align: top;\n",
       "    }\n",
       "\n",
       "    .dataframe thead th {\n",
       "        text-align: right;\n",
       "    }\n",
       "</style>\n",
       "<table border=\"1\" class=\"dataframe\">\n",
       "  <thead>\n",
       "    <tr style=\"text-align: right;\">\n",
       "      <th></th>\n",
       "      <th>time</th>\n",
       "      <th>place</th>\n",
       "      <th>magType</th>\n",
       "      <th>mag</th>\n",
       "      <th>alert</th>\n",
       "      <th>tsunami</th>\n",
       "    </tr>\n",
       "  </thead>\n",
       "  <tbody>\n",
       "    <tr>\n",
       "      <th>0</th>\n",
       "      <td>2018-10-13 11:10:23.560</td>\n",
       "      <td>262km NW of Ozernovskiy, Russia</td>\n",
       "      <td>mww</td>\n",
       "      <td>6.7</td>\n",
       "      <td>green</td>\n",
       "      <td>1</td>\n",
       "    </tr>\n",
       "    <tr>\n",
       "      <th>1</th>\n",
       "      <td>2018-10-13 04:34:15.580</td>\n",
       "      <td>25km E of Bitung, Indonesia</td>\n",
       "      <td>mww</td>\n",
       "      <td>5.2</td>\n",
       "      <td>green</td>\n",
       "      <td>0</td>\n",
       "    </tr>\n",
       "    <tr>\n",
       "      <th>2</th>\n",
       "      <td>2018-10-13 00:13:46.220</td>\n",
       "      <td>42km WNW of Sola, Vanuatu</td>\n",
       "      <td>mww</td>\n",
       "      <td>5.7</td>\n",
       "      <td>green</td>\n",
       "      <td>0</td>\n",
       "    </tr>\n",
       "    <tr>\n",
       "      <th>3</th>\n",
       "      <td>2018-10-12 21:09:49.240</td>\n",
       "      <td>13km E of Nueva Concepcion, Guatemala</td>\n",
       "      <td>mww</td>\n",
       "      <td>5.7</td>\n",
       "      <td>green</td>\n",
       "      <td>0</td>\n",
       "    </tr>\n",
       "    <tr>\n",
       "      <th>4</th>\n",
       "      <td>2018-10-12 02:52:03.620</td>\n",
       "      <td>128km SE of Kimbe, Papua New Guinea</td>\n",
       "      <td>mww</td>\n",
       "      <td>5.6</td>\n",
       "      <td>green</td>\n",
       "      <td>1</td>\n",
       "    </tr>\n",
       "  </tbody>\n",
       "</table>\n",
       "</div>"
      ],
      "text/plain": [
       "                      time                                  place magType  \\\n",
       "0  2018-10-13 11:10:23.560        262km NW of Ozernovskiy, Russia     mww   \n",
       "1  2018-10-13 04:34:15.580            25km E of Bitung, Indonesia     mww   \n",
       "2  2018-10-13 00:13:46.220              42km WNW of Sola, Vanuatu     mww   \n",
       "3  2018-10-12 21:09:49.240  13km E of Nueva Concepcion, Guatemala     mww   \n",
       "4  2018-10-12 02:52:03.620    128km SE of Kimbe, Papua New Guinea     mww   \n",
       "\n",
       "   mag  alert  tsunami  \n",
       "0  6.7  green        1  \n",
       "1  5.2  green        0  \n",
       "2  5.7  green        0  \n",
       "3  5.7  green        0  \n",
       "4  5.6  green        1  "
      ]
     },
     "execution_count": 40,
     "metadata": {},
     "output_type": "execute_result"
    }
   ],
   "source": [
    "# pandas-exemplo-36\n",
    "# carregar arquivos externos: CSV, JSON, XLS, etc.\n",
    "data_ex = pd.read_csv(\"data/example_data.csv\", delimiter=';')\n",
    "data_ex.head()"
   ]
  },
  {
   "cell_type": "markdown",
   "metadata": {},
   "source": [
    "> ### TXT"
   ]
  },
  {
   "cell_type": "code",
   "execution_count": 41,
   "metadata": {
    "colab": {},
    "colab_type": "code",
    "id": "HPkVFi2y51N3"
   },
   "outputs": [
    {
     "data": {
      "text/html": [
       "<div>\n",
       "<style scoped>\n",
       "    .dataframe tbody tr th:only-of-type {\n",
       "        vertical-align: middle;\n",
       "    }\n",
       "\n",
       "    .dataframe tbody tr th {\n",
       "        vertical-align: top;\n",
       "    }\n",
       "\n",
       "    .dataframe thead th {\n",
       "        text-align: right;\n",
       "    }\n",
       "</style>\n",
       "<table border=\"1\" class=\"dataframe\">\n",
       "  <thead>\n",
       "    <tr style=\"text-align: right;\">\n",
       "      <th></th>\n",
       "      <th>5.50</th>\n",
       "      <th>0.33</th>\n",
       "      <th>4.20</th>\n",
       "      <th>0.91</th>\n",
       "      <th>1.40</th>\n",
       "      <th>0.06</th>\n",
       "      <th>0.20</th>\n",
       "      <th>0.04</th>\n",
       "      <th>setosa</th>\n",
       "    </tr>\n",
       "  </thead>\n",
       "  <tbody>\n",
       "    <tr>\n",
       "      <th>0</th>\n",
       "      <td>4.9</td>\n",
       "      <td>0.16</td>\n",
       "      <td>3.1</td>\n",
       "      <td>0.45</td>\n",
       "      <td>1.5</td>\n",
       "      <td>0.08</td>\n",
       "      <td>0.2</td>\n",
       "      <td>0.04</td>\n",
       "      <td>setosa</td>\n",
       "    </tr>\n",
       "    <tr>\n",
       "      <th>1</th>\n",
       "      <td>5.0</td>\n",
       "      <td>0.19</td>\n",
       "      <td>3.2</td>\n",
       "      <td>0.50</td>\n",
       "      <td>1.2</td>\n",
       "      <td>0.03</td>\n",
       "      <td>0.2</td>\n",
       "      <td>0.04</td>\n",
       "      <td>setosa</td>\n",
       "    </tr>\n",
       "    <tr>\n",
       "      <th>2</th>\n",
       "      <td>5.5</td>\n",
       "      <td>0.33</td>\n",
       "      <td>3.5</td>\n",
       "      <td>0.62</td>\n",
       "      <td>1.3</td>\n",
       "      <td>0.05</td>\n",
       "      <td>0.2</td>\n",
       "      <td>0.04</td>\n",
       "      <td>setosa</td>\n",
       "    </tr>\n",
       "    <tr>\n",
       "      <th>3</th>\n",
       "      <td>4.9</td>\n",
       "      <td>0.16</td>\n",
       "      <td>3.6</td>\n",
       "      <td>0.66</td>\n",
       "      <td>1.4</td>\n",
       "      <td>0.06</td>\n",
       "      <td>0.1</td>\n",
       "      <td>0.01</td>\n",
       "      <td>setosa</td>\n",
       "    </tr>\n",
       "    <tr>\n",
       "      <th>4</th>\n",
       "      <td>4.4</td>\n",
       "      <td>0.02</td>\n",
       "      <td>3.0</td>\n",
       "      <td>0.41</td>\n",
       "      <td>1.3</td>\n",
       "      <td>0.05</td>\n",
       "      <td>0.2</td>\n",
       "      <td>0.04</td>\n",
       "      <td>setosa</td>\n",
       "    </tr>\n",
       "  </tbody>\n",
       "</table>\n",
       "</div>"
      ],
      "text/plain": [
       "   5.50  0.33  4.20  0.91  1.40  0.06  0.20  0.04  setosa\n",
       "0   4.9  0.16   3.1  0.45   1.5  0.08   0.2  0.04  setosa\n",
       "1   5.0  0.19   3.2  0.50   1.2  0.03   0.2  0.04  setosa\n",
       "2   5.5  0.33   3.5  0.62   1.3  0.05   0.2  0.04  setosa\n",
       "3   4.9  0.16   3.6  0.66   1.4  0.06   0.1  0.01  setosa\n",
       "4   4.4  0.02   3.0  0.41   1.3  0.05   0.2  0.04  setosa"
      ]
     },
     "execution_count": 41,
     "metadata": {},
     "output_type": "execute_result"
    }
   ],
   "source": [
    "# pandas-exemplo-37\n",
    "# carregar arquivos externos: CSV, JSON, XLS, etc.\n",
    "data_cod = pd.read_csv(\"data/IRIS.txt\", delimiter=';')\n",
    "data_cod.head()"
   ]
  },
  {
   "cell_type": "markdown",
   "metadata": {},
   "source": [
    "> ### SLSX"
   ]
  },
  {
   "cell_type": "code",
   "execution_count": 42,
   "metadata": {
    "colab": {},
    "colab_type": "code",
    "id": "zWyMLO1d5w7r"
   },
   "outputs": [
    {
     "data": {
      "text/html": [
       "<div>\n",
       "<style scoped>\n",
       "    .dataframe tbody tr th:only-of-type {\n",
       "        vertical-align: middle;\n",
       "    }\n",
       "\n",
       "    .dataframe tbody tr th {\n",
       "        vertical-align: top;\n",
       "    }\n",
       "\n",
       "    .dataframe thead th {\n",
       "        text-align: right;\n",
       "    }\n",
       "</style>\n",
       "<table border=\"1\" class=\"dataframe\">\n",
       "  <thead>\n",
       "    <tr style=\"text-align: right;\">\n",
       "      <th></th>\n",
       "      <th>sepal_len</th>\n",
       "      <th>sepal_wid</th>\n",
       "      <th>petal_len</th>\n",
       "      <th>petal_wid</th>\n",
       "      <th>class</th>\n",
       "    </tr>\n",
       "  </thead>\n",
       "  <tbody>\n",
       "    <tr>\n",
       "      <th>0</th>\n",
       "      <td>5.1</td>\n",
       "      <td>3.5</td>\n",
       "      <td>1.4</td>\n",
       "      <td>0.2</td>\n",
       "      <td>Iris-setosa</td>\n",
       "    </tr>\n",
       "    <tr>\n",
       "      <th>1</th>\n",
       "      <td>4.9</td>\n",
       "      <td>3.0</td>\n",
       "      <td>1.4</td>\n",
       "      <td>0.2</td>\n",
       "      <td>Iris-setosa</td>\n",
       "    </tr>\n",
       "    <tr>\n",
       "      <th>2</th>\n",
       "      <td>4.7</td>\n",
       "      <td>3.2</td>\n",
       "      <td>1.3</td>\n",
       "      <td>0.2</td>\n",
       "      <td>Iris-setosa</td>\n",
       "    </tr>\n",
       "    <tr>\n",
       "      <th>3</th>\n",
       "      <td>4.6</td>\n",
       "      <td>3.1</td>\n",
       "      <td>1.5</td>\n",
       "      <td>0.2</td>\n",
       "      <td>Iris-setosa</td>\n",
       "    </tr>\n",
       "    <tr>\n",
       "      <th>4</th>\n",
       "      <td>5.0</td>\n",
       "      <td>3.6</td>\n",
       "      <td>1.4</td>\n",
       "      <td>0.2</td>\n",
       "      <td>Iris-setosa</td>\n",
       "    </tr>\n",
       "  </tbody>\n",
       "</table>\n",
       "</div>"
      ],
      "text/plain": [
       "   sepal_len  sepal_wid  petal_len  petal_wid        class\n",
       "0        5.1        3.5        1.4        0.2  Iris-setosa\n",
       "1        4.9        3.0        1.4        0.2  Iris-setosa\n",
       "2        4.7        3.2        1.3        0.2  Iris-setosa\n",
       "3        4.6        3.1        1.5        0.2  Iris-setosa\n",
       "4        5.0        3.6        1.4        0.2  Iris-setosa"
      ]
     },
     "execution_count": 42,
     "metadata": {},
     "output_type": "execute_result"
    }
   ],
   "source": [
    "# pandas-exemplo-38\n",
    "# leitura de dados em Excel\n",
    "data_excel = pd.read_excel(\"data/iris.xlsx\")\n",
    "data_excel.head()"
   ]
  },
  {
   "cell_type": "code",
   "execution_count": 43,
   "metadata": {},
   "outputs": [
    {
     "data": {
      "text/html": [
       "<div>\n",
       "<style scoped>\n",
       "    .dataframe tbody tr th:only-of-type {\n",
       "        vertical-align: middle;\n",
       "    }\n",
       "\n",
       "    .dataframe tbody tr th {\n",
       "        vertical-align: top;\n",
       "    }\n",
       "\n",
       "    .dataframe thead th {\n",
       "        text-align: right;\n",
       "    }\n",
       "</style>\n",
       "<table border=\"1\" class=\"dataframe\">\n",
       "  <thead>\n",
       "    <tr style=\"text-align: right;\">\n",
       "      <th></th>\n",
       "      <th>sepal_len</th>\n",
       "      <th>sepal_wid</th>\n",
       "      <th>petal_len</th>\n",
       "      <th>petal_wid</th>\n",
       "    </tr>\n",
       "  </thead>\n",
       "  <tbody>\n",
       "    <tr>\n",
       "      <th>count</th>\n",
       "      <td>150.000000</td>\n",
       "      <td>150.000000</td>\n",
       "      <td>150.000000</td>\n",
       "      <td>150.000000</td>\n",
       "    </tr>\n",
       "    <tr>\n",
       "      <th>mean</th>\n",
       "      <td>5.843333</td>\n",
       "      <td>3.054000</td>\n",
       "      <td>3.758667</td>\n",
       "      <td>1.198667</td>\n",
       "    </tr>\n",
       "    <tr>\n",
       "      <th>std</th>\n",
       "      <td>0.828066</td>\n",
       "      <td>0.433594</td>\n",
       "      <td>1.764420</td>\n",
       "      <td>0.763161</td>\n",
       "    </tr>\n",
       "    <tr>\n",
       "      <th>min</th>\n",
       "      <td>4.300000</td>\n",
       "      <td>2.000000</td>\n",
       "      <td>1.000000</td>\n",
       "      <td>0.100000</td>\n",
       "    </tr>\n",
       "    <tr>\n",
       "      <th>25%</th>\n",
       "      <td>5.100000</td>\n",
       "      <td>2.800000</td>\n",
       "      <td>1.600000</td>\n",
       "      <td>0.300000</td>\n",
       "    </tr>\n",
       "    <tr>\n",
       "      <th>50%</th>\n",
       "      <td>5.800000</td>\n",
       "      <td>3.000000</td>\n",
       "      <td>4.350000</td>\n",
       "      <td>1.300000</td>\n",
       "    </tr>\n",
       "    <tr>\n",
       "      <th>75%</th>\n",
       "      <td>6.400000</td>\n",
       "      <td>3.300000</td>\n",
       "      <td>5.100000</td>\n",
       "      <td>1.800000</td>\n",
       "    </tr>\n",
       "    <tr>\n",
       "      <th>max</th>\n",
       "      <td>7.900000</td>\n",
       "      <td>4.400000</td>\n",
       "      <td>6.900000</td>\n",
       "      <td>2.500000</td>\n",
       "    </tr>\n",
       "  </tbody>\n",
       "</table>\n",
       "</div>"
      ],
      "text/plain": [
       "        sepal_len   sepal_wid   petal_len   petal_wid\n",
       "count  150.000000  150.000000  150.000000  150.000000\n",
       "mean     5.843333    3.054000    3.758667    1.198667\n",
       "std      0.828066    0.433594    1.764420    0.763161\n",
       "min      4.300000    2.000000    1.000000    0.100000\n",
       "25%      5.100000    2.800000    1.600000    0.300000\n",
       "50%      5.800000    3.000000    4.350000    1.300000\n",
       "75%      6.400000    3.300000    5.100000    1.800000\n",
       "max      7.900000    4.400000    6.900000    2.500000"
      ]
     },
     "execution_count": 43,
     "metadata": {},
     "output_type": "execute_result"
    }
   ],
   "source": [
    "# pandas-exemplo-39\n",
    "# Métricas dos dados em excel\n",
    "data_excel.describe()"
   ]
  },
  {
   "cell_type": "code",
   "execution_count": 44,
   "metadata": {},
   "outputs": [
    {
     "data": {
      "text/plain": [
       "sepal_len            4.9\n",
       "sepal_wid              3\n",
       "petal_len            1.4\n",
       "petal_wid            0.2\n",
       "class        Iris-setosa\n",
       "Name: 1, dtype: object"
      ]
     },
     "execution_count": 44,
     "metadata": {},
     "output_type": "execute_result"
    }
   ],
   "source": [
    "# pandas-exemplo-40\n",
    "# index: loc - localiza a linha = 1 \n",
    "data_excel.loc[1]"
   ]
  },
  {
   "cell_type": "code",
   "execution_count": 45,
   "metadata": {},
   "outputs": [
    {
     "data": {
      "text/html": [
       "<div>\n",
       "<style scoped>\n",
       "    .dataframe tbody tr th:only-of-type {\n",
       "        vertical-align: middle;\n",
       "    }\n",
       "\n",
       "    .dataframe tbody tr th {\n",
       "        vertical-align: top;\n",
       "    }\n",
       "\n",
       "    .dataframe thead th {\n",
       "        text-align: right;\n",
       "    }\n",
       "</style>\n",
       "<table border=\"1\" class=\"dataframe\">\n",
       "  <thead>\n",
       "    <tr style=\"text-align: right;\">\n",
       "      <th></th>\n",
       "      <th>sepal_len</th>\n",
       "      <th>sepal_wid</th>\n",
       "      <th>petal_len</th>\n",
       "      <th>petal_wid</th>\n",
       "      <th>class</th>\n",
       "    </tr>\n",
       "  </thead>\n",
       "  <tbody>\n",
       "    <tr>\n",
       "      <th>1</th>\n",
       "      <td>4.9</td>\n",
       "      <td>3.0</td>\n",
       "      <td>1.4</td>\n",
       "      <td>0.2</td>\n",
       "      <td>Iris-setosa</td>\n",
       "    </tr>\n",
       "    <tr>\n",
       "      <th>2</th>\n",
       "      <td>4.7</td>\n",
       "      <td>3.2</td>\n",
       "      <td>1.3</td>\n",
       "      <td>0.2</td>\n",
       "      <td>Iris-setosa</td>\n",
       "    </tr>\n",
       "    <tr>\n",
       "      <th>3</th>\n",
       "      <td>4.6</td>\n",
       "      <td>3.1</td>\n",
       "      <td>1.5</td>\n",
       "      <td>0.2</td>\n",
       "      <td>Iris-setosa</td>\n",
       "    </tr>\n",
       "    <tr>\n",
       "      <th>4</th>\n",
       "      <td>5.0</td>\n",
       "      <td>3.6</td>\n",
       "      <td>1.4</td>\n",
       "      <td>0.2</td>\n",
       "      <td>Iris-setosa</td>\n",
       "    </tr>\n",
       "  </tbody>\n",
       "</table>\n",
       "</div>"
      ],
      "text/plain": [
       "   sepal_len  sepal_wid  petal_len  petal_wid        class\n",
       "1        4.9        3.0        1.4        0.2  Iris-setosa\n",
       "2        4.7        3.2        1.3        0.2  Iris-setosa\n",
       "3        4.6        3.1        1.5        0.2  Iris-setosa\n",
       "4        5.0        3.6        1.4        0.2  Iris-setosa"
      ]
     },
     "execution_count": 45,
     "metadata": {},
     "output_type": "execute_result"
    }
   ],
   "source": [
    "# pandas-exemplo-41\n",
    "# loc[1:4] - localiza as linhas 1 a 4\n",
    "data_excel.loc[1:4]"
   ]
  },
  {
   "cell_type": "code",
   "execution_count": 46,
   "metadata": {},
   "outputs": [
    {
     "data": {
      "text/plain": [
       "sepal_len            4.9\n",
       "sepal_wid              3\n",
       "petal_len            1.4\n",
       "petal_wid            0.2\n",
       "class        Iris-setosa\n",
       "Name: 1, dtype: object"
      ]
     },
     "execution_count": 46,
     "metadata": {},
     "output_type": "execute_result"
    }
   ],
   "source": [
    "# pandas-exemplo-42\n",
    "# index: iloc\n",
    "data_excel.iloc[1]"
   ]
  },
  {
   "cell_type": "code",
   "execution_count": 47,
   "metadata": {},
   "outputs": [
    {
     "data": {
      "text/html": [
       "<div>\n",
       "<style scoped>\n",
       "    .dataframe tbody tr th:only-of-type {\n",
       "        vertical-align: middle;\n",
       "    }\n",
       "\n",
       "    .dataframe tbody tr th {\n",
       "        vertical-align: top;\n",
       "    }\n",
       "\n",
       "    .dataframe thead th {\n",
       "        text-align: right;\n",
       "    }\n",
       "</style>\n",
       "<table border=\"1\" class=\"dataframe\">\n",
       "  <thead>\n",
       "    <tr style=\"text-align: right;\">\n",
       "      <th></th>\n",
       "      <th>sepal_len</th>\n",
       "      <th>sepal_wid</th>\n",
       "      <th>petal_len</th>\n",
       "      <th>petal_wid</th>\n",
       "      <th>class</th>\n",
       "    </tr>\n",
       "  </thead>\n",
       "  <tbody>\n",
       "    <tr>\n",
       "      <th>1</th>\n",
       "      <td>4.9</td>\n",
       "      <td>3.0</td>\n",
       "      <td>1.4</td>\n",
       "      <td>0.2</td>\n",
       "      <td>Iris-setosa</td>\n",
       "    </tr>\n",
       "    <tr>\n",
       "      <th>2</th>\n",
       "      <td>4.7</td>\n",
       "      <td>3.2</td>\n",
       "      <td>1.3</td>\n",
       "      <td>0.2</td>\n",
       "      <td>Iris-setosa</td>\n",
       "    </tr>\n",
       "    <tr>\n",
       "      <th>3</th>\n",
       "      <td>4.6</td>\n",
       "      <td>3.1</td>\n",
       "      <td>1.5</td>\n",
       "      <td>0.2</td>\n",
       "      <td>Iris-setosa</td>\n",
       "    </tr>\n",
       "  </tbody>\n",
       "</table>\n",
       "</div>"
      ],
      "text/plain": [
       "   sepal_len  sepal_wid  petal_len  petal_wid        class\n",
       "1        4.9        3.0        1.4        0.2  Iris-setosa\n",
       "2        4.7        3.2        1.3        0.2  Iris-setosa\n",
       "3        4.6        3.1        1.5        0.2  Iris-setosa"
      ]
     },
     "execution_count": 47,
     "metadata": {},
     "output_type": "execute_result"
    }
   ],
   "source": [
    "# pandas-exemplo-43\n",
    "# index: iloc[1:4]- mostra linhas 1 até 3\n",
    "data_excel.iloc[1:4]"
   ]
  },
  {
   "cell_type": "code",
   "execution_count": 48,
   "metadata": {},
   "outputs": [
    {
     "data": {
      "text/plain": [
       "array([[5.1, 3.5, 1.4, 0.2, 'Iris-setosa'],\n",
       "       [4.9, 3.0, 1.4, 0.2, 'Iris-setosa'],\n",
       "       [4.7, 3.2, 1.3, 0.2, 'Iris-setosa'],\n",
       "       [4.6, 3.1, 1.5, 0.2, 'Iris-setosa'],\n",
       "       [5.0, 3.6, 1.4, 0.2, 'Iris-setosa'],\n",
       "       [5.4, 3.9, 1.7, 0.4, 'Iris-setosa'],\n",
       "       [4.6, 3.4, 1.4, 0.3, 'Iris-setosa'],\n",
       "       [5.0, 3.4, 1.5, 0.2, 'Iris-setosa'],\n",
       "       [4.4, 2.9, 1.4, 0.2, 'Iris-setosa'],\n",
       "       [4.9, 3.1, 1.5, 0.1, 'Iris-setosa'],\n",
       "       [5.4, 3.7, 1.5, 0.2, 'Iris-setosa'],\n",
       "       [4.8, 3.4, 1.6, 0.2, 'Iris-setosa'],\n",
       "       [4.8, 3.0, 1.4, 0.1, 'Iris-setosa'],\n",
       "       [4.3, 3.0, 1.1, 0.1, 'Iris-setosa'],\n",
       "       [5.8, 4.0, 1.2, 0.2, 'Iris-setosa'],\n",
       "       [5.7, 4.4, 1.5, 0.4, 'Iris-setosa'],\n",
       "       [5.4, 3.9, 1.3, 0.4, 'Iris-setosa'],\n",
       "       [5.1, 3.5, 1.4, 0.3, 'Iris-setosa'],\n",
       "       [5.7, 3.8, 1.7, 0.3, 'Iris-setosa'],\n",
       "       [5.1, 3.8, 1.5, 0.3, 'Iris-setosa'],\n",
       "       [5.4, 3.4, 1.7, 0.2, 'Iris-setosa'],\n",
       "       [5.1, 3.7, 1.5, 0.4, 'Iris-setosa'],\n",
       "       [4.6, 3.6, 1.0, 0.2, 'Iris-setosa'],\n",
       "       [5.1, 3.3, 1.7, 0.5, 'Iris-setosa'],\n",
       "       [4.8, 3.4, 1.9, 0.2, 'Iris-setosa'],\n",
       "       [5.0, 3.0, 1.6, 0.2, 'Iris-setosa'],\n",
       "       [5.0, 3.4, 1.6, 0.4, 'Iris-setosa'],\n",
       "       [5.2, 3.5, 1.5, 0.2, 'Iris-setosa'],\n",
       "       [5.2, 3.4, 1.4, 0.2, 'Iris-setosa'],\n",
       "       [4.7, 3.2, 1.6, 0.2, 'Iris-setosa'],\n",
       "       [4.8, 3.1, 1.6, 0.2, 'Iris-setosa'],\n",
       "       [5.4, 3.4, 1.5, 0.4, 'Iris-setosa'],\n",
       "       [5.2, 4.1, 1.5, 0.1, 'Iris-setosa'],\n",
       "       [5.5, 4.2, 1.4, 0.2, 'Iris-setosa'],\n",
       "       [4.9, 3.1, 1.5, 0.1, 'Iris-setosa'],\n",
       "       [5.0, 3.2, 1.2, 0.2, 'Iris-setosa'],\n",
       "       [5.5, 3.5, 1.3, 0.2, 'Iris-setosa'],\n",
       "       [4.9, 3.1, 1.5, 0.1, 'Iris-setosa'],\n",
       "       [4.4, 3.0, 1.3, 0.2, 'Iris-setosa'],\n",
       "       [5.1, 3.4, 1.5, 0.2, 'Iris-setosa'],\n",
       "       [5.0, 3.5, 1.3, 0.3, 'Iris-setosa'],\n",
       "       [4.5, 2.3, 1.3, 0.3, 'Iris-setosa'],\n",
       "       [4.4, 3.2, 1.3, 0.2, 'Iris-setosa'],\n",
       "       [5.0, 3.5, 1.6, 0.6, 'Iris-setosa'],\n",
       "       [5.1, 3.8, 1.9, 0.4, 'Iris-setosa'],\n",
       "       [4.8, 3.0, 1.4, 0.3, 'Iris-setosa'],\n",
       "       [5.1, 3.8, 1.6, 0.2, 'Iris-setosa'],\n",
       "       [4.6, 3.2, 1.4, 0.2, 'Iris-setosa'],\n",
       "       [5.3, 3.7, 1.5, 0.2, 'Iris-setosa'],\n",
       "       [5.0, 3.3, 1.4, 0.2, 'Iris-setosa'],\n",
       "       [7.0, 3.2, 4.7, 1.4, 'Iris-versicolor'],\n",
       "       [6.4, 3.2, 4.5, 1.5, 'Iris-versicolor'],\n",
       "       [6.9, 3.1, 4.9, 1.5, 'Iris-versicolor'],\n",
       "       [5.5, 2.3, 4.0, 1.3, 'Iris-versicolor'],\n",
       "       [6.5, 2.8, 4.6, 1.5, 'Iris-versicolor'],\n",
       "       [5.7, 2.8, 4.5, 1.3, 'Iris-versicolor'],\n",
       "       [6.3, 3.3, 4.7, 1.6, 'Iris-versicolor'],\n",
       "       [4.9, 2.4, 3.3, 1.0, 'Iris-versicolor'],\n",
       "       [6.6, 2.9, 4.6, 1.3, 'Iris-versicolor'],\n",
       "       [5.2, 2.7, 3.9, 1.4, 'Iris-versicolor'],\n",
       "       [5.0, 2.0, 3.5, 1.0, 'Iris-versicolor'],\n",
       "       [5.9, 3.0, 4.2, 1.5, 'Iris-versicolor'],\n",
       "       [6.0, 2.2, 4.0, 1.0, 'Iris-versicolor'],\n",
       "       [6.1, 2.9, 4.7, 1.4, 'Iris-versicolor'],\n",
       "       [5.6, 2.9, 3.6, 1.3, 'Iris-versicolor'],\n",
       "       [6.7, 3.1, 4.4, 1.4, 'Iris-versicolor'],\n",
       "       [5.6, 3.0, 4.5, 1.5, 'Iris-versicolor'],\n",
       "       [5.8, 2.7, 4.1, 1.0, 'Iris-versicolor'],\n",
       "       [6.2, 2.2, 4.5, 1.5, 'Iris-versicolor'],\n",
       "       [5.6, 2.5, 3.9, 1.1, 'Iris-versicolor'],\n",
       "       [5.9, 3.2, 4.8, 1.8, 'Iris-versicolor'],\n",
       "       [6.1, 2.8, 4.0, 1.3, 'Iris-versicolor'],\n",
       "       [6.3, 2.5, 4.9, 1.5, 'Iris-versicolor'],\n",
       "       [6.1, 2.8, 4.7, 1.2, 'Iris-versicolor'],\n",
       "       [6.4, 2.9, 4.3, 1.3, 'Iris-versicolor'],\n",
       "       [6.6, 3.0, 4.4, 1.4, 'Iris-versicolor'],\n",
       "       [6.8, 2.8, 4.8, 1.4, 'Iris-versicolor'],\n",
       "       [6.7, 3.0, 5.0, 1.7, 'Iris-versicolor'],\n",
       "       [6.0, 2.9, 4.5, 1.5, 'Iris-versicolor'],\n",
       "       [5.7, 2.6, 3.5, 1.0, 'Iris-versicolor'],\n",
       "       [5.5, 2.4, 3.8, 1.1, 'Iris-versicolor'],\n",
       "       [5.5, 2.4, 3.7, 1.0, 'Iris-versicolor'],\n",
       "       [5.8, 2.7, 3.9, 1.2, 'Iris-versicolor'],\n",
       "       [6.0, 2.7, 5.1, 1.6, 'Iris-versicolor'],\n",
       "       [5.4, 3.0, 4.5, 1.5, 'Iris-versicolor'],\n",
       "       [6.0, 3.4, 4.5, 1.6, 'Iris-versicolor'],\n",
       "       [6.7, 3.1, 4.7, 1.5, 'Iris-versicolor'],\n",
       "       [6.3, 2.3, 4.4, 1.3, 'Iris-versicolor'],\n",
       "       [5.6, 3.0, 4.1, 1.3, 'Iris-versicolor'],\n",
       "       [5.5, 2.5, 4.0, 1.3, 'Iris-versicolor'],\n",
       "       [5.5, 2.6, 4.4, 1.2, 'Iris-versicolor'],\n",
       "       [6.1, 3.0, 4.6, 1.4, 'Iris-versicolor'],\n",
       "       [5.8, 2.6, 4.0, 1.2, 'Iris-versicolor'],\n",
       "       [5.0, 2.3, 3.3, 1.0, 'Iris-versicolor'],\n",
       "       [5.6, 2.7, 4.2, 1.3, 'Iris-versicolor'],\n",
       "       [5.7, 3.0, 4.2, 1.2, 'Iris-versicolor'],\n",
       "       [5.7, 2.9, 4.2, 1.3, 'Iris-versicolor'],\n",
       "       [6.2, 2.9, 4.3, 1.3, 'Iris-versicolor'],\n",
       "       [5.1, 2.5, 3.0, 1.1, 'Iris-versicolor'],\n",
       "       [5.7, 2.8, 4.1, 1.3, 'Iris-versicolor'],\n",
       "       [6.3, 3.3, 6.0, 2.5, 'Iris-virginica'],\n",
       "       [5.8, 2.7, 5.1, 1.9, 'Iris-virginica'],\n",
       "       [7.1, 3.0, 5.9, 2.1, 'Iris-virginica'],\n",
       "       [6.3, 2.9, 5.6, 1.8, 'Iris-virginica'],\n",
       "       [6.5, 3.0, 5.8, 2.2, 'Iris-virginica'],\n",
       "       [7.6, 3.0, 6.6, 2.1, 'Iris-virginica'],\n",
       "       [4.9, 2.5, 4.5, 1.7, 'Iris-virginica'],\n",
       "       [7.3, 2.9, 6.3, 1.8, 'Iris-virginica'],\n",
       "       [6.7, 2.5, 5.8, 1.8, 'Iris-virginica'],\n",
       "       [7.2, 3.6, 6.1, 2.5, 'Iris-virginica'],\n",
       "       [6.5, 3.2, 5.1, 2.0, 'Iris-virginica'],\n",
       "       [6.4, 2.7, 5.3, 1.9, 'Iris-virginica'],\n",
       "       [6.8, 3.0, 5.5, 2.1, 'Iris-virginica'],\n",
       "       [5.7, 2.5, 5.0, 2.0, 'Iris-virginica'],\n",
       "       [5.8, 2.8, 5.1, 2.4, 'Iris-virginica'],\n",
       "       [6.4, 3.2, 5.3, 2.3, 'Iris-virginica'],\n",
       "       [6.5, 3.0, 5.5, 1.8, 'Iris-virginica'],\n",
       "       [7.7, 3.8, 6.7, 2.2, 'Iris-virginica'],\n",
       "       [7.7, 2.6, 6.9, 2.3, 'Iris-virginica'],\n",
       "       [6.0, 2.2, 5.0, 1.5, 'Iris-virginica'],\n",
       "       [6.9, 3.2, 5.7, 2.3, 'Iris-virginica'],\n",
       "       [5.6, 2.8, 4.9, 2.0, 'Iris-virginica'],\n",
       "       [7.7, 2.8, 6.7, 2.0, 'Iris-virginica'],\n",
       "       [6.3, 2.7, 4.9, 1.8, 'Iris-virginica'],\n",
       "       [6.7, 3.3, 5.7, 2.1, 'Iris-virginica'],\n",
       "       [7.2, 3.2, 6.0, 1.8, 'Iris-virginica'],\n",
       "       [6.2, 2.8, 4.8, 1.8, 'Iris-virginica'],\n",
       "       [6.1, 3.0, 4.9, 1.8, 'Iris-virginica'],\n",
       "       [6.4, 2.8, 5.6, 2.1, 'Iris-virginica'],\n",
       "       [7.2, 3.0, 5.8, 1.6, 'Iris-virginica'],\n",
       "       [7.4, 2.8, 6.1, 1.9, 'Iris-virginica'],\n",
       "       [7.9, 3.8, 6.4, 2.0, 'Iris-virginica'],\n",
       "       [6.4, 2.8, 5.6, 2.2, 'Iris-virginica'],\n",
       "       [6.3, 2.8, 5.1, 1.5, 'Iris-virginica'],\n",
       "       [6.1, 2.6, 5.6, 1.4, 'Iris-virginica'],\n",
       "       [7.7, 3.0, 6.1, 2.3, 'Iris-virginica'],\n",
       "       [6.3, 3.4, 5.6, 2.4, 'Iris-virginica'],\n",
       "       [6.4, 3.1, 5.5, 1.8, 'Iris-virginica'],\n",
       "       [6.0, 3.0, 4.8, 1.8, 'Iris-virginica'],\n",
       "       [6.9, 3.1, 5.4, 2.1, 'Iris-virginica'],\n",
       "       [6.7, 3.1, 5.6, 2.4, 'Iris-virginica'],\n",
       "       [6.9, 3.1, 5.1, 2.3, 'Iris-virginica'],\n",
       "       [5.8, 2.7, 5.1, 1.9, 'Iris-virginica'],\n",
       "       [6.8, 3.2, 5.9, 2.3, 'Iris-virginica'],\n",
       "       [6.7, 3.3, 5.7, 2.5, 'Iris-virginica'],\n",
       "       [6.7, 3.0, 5.2, 2.3, 'Iris-virginica'],\n",
       "       [6.3, 2.5, 5.0, 1.9, 'Iris-virginica'],\n",
       "       [6.5, 3.0, 5.2, 2.0, 'Iris-virginica'],\n",
       "       [6.2, 3.4, 5.4, 2.3, 'Iris-virginica'],\n",
       "       [5.9, 3.0, 5.1, 1.8, 'Iris-virginica']], dtype=object)"
      ]
     },
     "execution_count": 48,
     "metadata": {},
     "output_type": "execute_result"
    }
   ],
   "source": [
    "# pandas-exemplo-44\n",
    "# dados como matriz bidimensional\n",
    "data_excel.values"
   ]
  },
  {
   "cell_type": "code",
   "execution_count": 49,
   "metadata": {},
   "outputs": [
    {
     "data": {
      "text/html": [
       "<div>\n",
       "<style scoped>\n",
       "    .dataframe tbody tr th:only-of-type {\n",
       "        vertical-align: middle;\n",
       "    }\n",
       "\n",
       "    .dataframe tbody tr th {\n",
       "        vertical-align: top;\n",
       "    }\n",
       "\n",
       "    .dataframe thead th {\n",
       "        text-align: right;\n",
       "    }\n",
       "</style>\n",
       "<table border=\"1\" class=\"dataframe\">\n",
       "  <thead>\n",
       "    <tr style=\"text-align: right;\">\n",
       "      <th></th>\n",
       "      <th>0</th>\n",
       "      <th>1</th>\n",
       "      <th>2</th>\n",
       "      <th>3</th>\n",
       "      <th>4</th>\n",
       "      <th>5</th>\n",
       "      <th>6</th>\n",
       "      <th>7</th>\n",
       "      <th>8</th>\n",
       "      <th>9</th>\n",
       "      <th>...</th>\n",
       "      <th>140</th>\n",
       "      <th>141</th>\n",
       "      <th>142</th>\n",
       "      <th>143</th>\n",
       "      <th>144</th>\n",
       "      <th>145</th>\n",
       "      <th>146</th>\n",
       "      <th>147</th>\n",
       "      <th>148</th>\n",
       "      <th>149</th>\n",
       "    </tr>\n",
       "  </thead>\n",
       "  <tbody>\n",
       "    <tr>\n",
       "      <th>sepal_len</th>\n",
       "      <td>5.1</td>\n",
       "      <td>4.9</td>\n",
       "      <td>4.7</td>\n",
       "      <td>4.6</td>\n",
       "      <td>5</td>\n",
       "      <td>5.4</td>\n",
       "      <td>4.6</td>\n",
       "      <td>5</td>\n",
       "      <td>4.4</td>\n",
       "      <td>4.9</td>\n",
       "      <td>...</td>\n",
       "      <td>6.7</td>\n",
       "      <td>6.9</td>\n",
       "      <td>5.8</td>\n",
       "      <td>6.8</td>\n",
       "      <td>6.7</td>\n",
       "      <td>6.7</td>\n",
       "      <td>6.3</td>\n",
       "      <td>6.5</td>\n",
       "      <td>6.2</td>\n",
       "      <td>5.9</td>\n",
       "    </tr>\n",
       "    <tr>\n",
       "      <th>sepal_wid</th>\n",
       "      <td>3.5</td>\n",
       "      <td>3</td>\n",
       "      <td>3.2</td>\n",
       "      <td>3.1</td>\n",
       "      <td>3.6</td>\n",
       "      <td>3.9</td>\n",
       "      <td>3.4</td>\n",
       "      <td>3.4</td>\n",
       "      <td>2.9</td>\n",
       "      <td>3.1</td>\n",
       "      <td>...</td>\n",
       "      <td>3.1</td>\n",
       "      <td>3.1</td>\n",
       "      <td>2.7</td>\n",
       "      <td>3.2</td>\n",
       "      <td>3.3</td>\n",
       "      <td>3</td>\n",
       "      <td>2.5</td>\n",
       "      <td>3</td>\n",
       "      <td>3.4</td>\n",
       "      <td>3</td>\n",
       "    </tr>\n",
       "    <tr>\n",
       "      <th>petal_len</th>\n",
       "      <td>1.4</td>\n",
       "      <td>1.4</td>\n",
       "      <td>1.3</td>\n",
       "      <td>1.5</td>\n",
       "      <td>1.4</td>\n",
       "      <td>1.7</td>\n",
       "      <td>1.4</td>\n",
       "      <td>1.5</td>\n",
       "      <td>1.4</td>\n",
       "      <td>1.5</td>\n",
       "      <td>...</td>\n",
       "      <td>5.6</td>\n",
       "      <td>5.1</td>\n",
       "      <td>5.1</td>\n",
       "      <td>5.9</td>\n",
       "      <td>5.7</td>\n",
       "      <td>5.2</td>\n",
       "      <td>5</td>\n",
       "      <td>5.2</td>\n",
       "      <td>5.4</td>\n",
       "      <td>5.1</td>\n",
       "    </tr>\n",
       "    <tr>\n",
       "      <th>petal_wid</th>\n",
       "      <td>0.2</td>\n",
       "      <td>0.2</td>\n",
       "      <td>0.2</td>\n",
       "      <td>0.2</td>\n",
       "      <td>0.2</td>\n",
       "      <td>0.4</td>\n",
       "      <td>0.3</td>\n",
       "      <td>0.2</td>\n",
       "      <td>0.2</td>\n",
       "      <td>0.1</td>\n",
       "      <td>...</td>\n",
       "      <td>2.4</td>\n",
       "      <td>2.3</td>\n",
       "      <td>1.9</td>\n",
       "      <td>2.3</td>\n",
       "      <td>2.5</td>\n",
       "      <td>2.3</td>\n",
       "      <td>1.9</td>\n",
       "      <td>2</td>\n",
       "      <td>2.3</td>\n",
       "      <td>1.8</td>\n",
       "    </tr>\n",
       "    <tr>\n",
       "      <th>class</th>\n",
       "      <td>Iris-setosa</td>\n",
       "      <td>Iris-setosa</td>\n",
       "      <td>Iris-setosa</td>\n",
       "      <td>Iris-setosa</td>\n",
       "      <td>Iris-setosa</td>\n",
       "      <td>Iris-setosa</td>\n",
       "      <td>Iris-setosa</td>\n",
       "      <td>Iris-setosa</td>\n",
       "      <td>Iris-setosa</td>\n",
       "      <td>Iris-setosa</td>\n",
       "      <td>...</td>\n",
       "      <td>Iris-virginica</td>\n",
       "      <td>Iris-virginica</td>\n",
       "      <td>Iris-virginica</td>\n",
       "      <td>Iris-virginica</td>\n",
       "      <td>Iris-virginica</td>\n",
       "      <td>Iris-virginica</td>\n",
       "      <td>Iris-virginica</td>\n",
       "      <td>Iris-virginica</td>\n",
       "      <td>Iris-virginica</td>\n",
       "      <td>Iris-virginica</td>\n",
       "    </tr>\n",
       "  </tbody>\n",
       "</table>\n",
       "<p>5 rows × 150 columns</p>\n",
       "</div>"
      ],
      "text/plain": [
       "                   0            1            2            3            4    \\\n",
       "sepal_len          5.1          4.9          4.7          4.6            5   \n",
       "sepal_wid          3.5            3          3.2          3.1          3.6   \n",
       "petal_len          1.4          1.4          1.3          1.5          1.4   \n",
       "petal_wid          0.2          0.2          0.2          0.2          0.2   \n",
       "class      Iris-setosa  Iris-setosa  Iris-setosa  Iris-setosa  Iris-setosa   \n",
       "\n",
       "                   5            6            7            8            9    \\\n",
       "sepal_len          5.4          4.6            5          4.4          4.9   \n",
       "sepal_wid          3.9          3.4          3.4          2.9          3.1   \n",
       "petal_len          1.7          1.4          1.5          1.4          1.5   \n",
       "petal_wid          0.4          0.3          0.2          0.2          0.1   \n",
       "class      Iris-setosa  Iris-setosa  Iris-setosa  Iris-setosa  Iris-setosa   \n",
       "\n",
       "           ...             140             141             142  \\\n",
       "sepal_len  ...             6.7             6.9             5.8   \n",
       "sepal_wid  ...             3.1             3.1             2.7   \n",
       "petal_len  ...             5.6             5.1             5.1   \n",
       "petal_wid  ...             2.4             2.3             1.9   \n",
       "class      ...  Iris-virginica  Iris-virginica  Iris-virginica   \n",
       "\n",
       "                      143             144             145             146  \\\n",
       "sepal_len             6.8             6.7             6.7             6.3   \n",
       "sepal_wid             3.2             3.3               3             2.5   \n",
       "petal_len             5.9             5.7             5.2               5   \n",
       "petal_wid             2.3             2.5             2.3             1.9   \n",
       "class      Iris-virginica  Iris-virginica  Iris-virginica  Iris-virginica   \n",
       "\n",
       "                      147             148             149  \n",
       "sepal_len             6.5             6.2             5.9  \n",
       "sepal_wid               3             3.4               3  \n",
       "petal_len             5.2             5.4             5.1  \n",
       "petal_wid               2             2.3             1.8  \n",
       "class      Iris-virginica  Iris-virginica  Iris-virginica  \n",
       "\n",
       "[5 rows x 150 columns]"
      ]
     },
     "execution_count": 49,
     "metadata": {},
     "output_type": "execute_result"
    }
   ],
   "source": [
    "# pandas-exemplo-45\n",
    "# Transposta da matriz\n",
    "data_excel.T"
   ]
  },
  {
   "cell_type": "code",
   "execution_count": 50,
   "metadata": {},
   "outputs": [
    {
     "data": {
      "text/plain": [
       "array([5.1, 3.5, 1.4, 0.2, 'Iris-setosa'], dtype=object)"
      ]
     },
     "execution_count": 50,
     "metadata": {},
     "output_type": "execute_result"
    }
   ],
   "source": [
    "# pandas-exemplo-46\n",
    "# valores 0: primeira linha\n",
    "data_excel.values[0]"
   ]
  },
  {
   "cell_type": "code",
   "execution_count": 51,
   "metadata": {},
   "outputs": [
    {
     "data": {
      "text/html": [
       "<div>\n",
       "<style scoped>\n",
       "    .dataframe tbody tr th:only-of-type {\n",
       "        vertical-align: middle;\n",
       "    }\n",
       "\n",
       "    .dataframe tbody tr th {\n",
       "        vertical-align: top;\n",
       "    }\n",
       "\n",
       "    .dataframe thead th {\n",
       "        text-align: right;\n",
       "    }\n",
       "</style>\n",
       "<table border=\"1\" class=\"dataframe\">\n",
       "  <thead>\n",
       "    <tr style=\"text-align: right;\">\n",
       "      <th></th>\n",
       "      <th>sepal_len</th>\n",
       "      <th>sepal_wid</th>\n",
       "    </tr>\n",
       "  </thead>\n",
       "  <tbody>\n",
       "    <tr>\n",
       "      <th>0</th>\n",
       "      <td>5.1</td>\n",
       "      <td>3.5</td>\n",
       "    </tr>\n",
       "    <tr>\n",
       "      <th>1</th>\n",
       "      <td>4.9</td>\n",
       "      <td>3.0</td>\n",
       "    </tr>\n",
       "    <tr>\n",
       "      <th>2</th>\n",
       "      <td>4.7</td>\n",
       "      <td>3.2</td>\n",
       "    </tr>\n",
       "  </tbody>\n",
       "</table>\n",
       "</div>"
      ],
      "text/plain": [
       "   sepal_len  sepal_wid\n",
       "0        5.1        3.5\n",
       "1        4.9        3.0\n",
       "2        4.7        3.2"
      ]
     },
     "execution_count": 51,
     "metadata": {},
     "output_type": "execute_result"
    }
   ],
   "source": [
    "# pandas-exemplo-47\n",
    "# fatia até a linha 3 e até a coluna 2\n",
    "data_excel.iloc[:3,:2]"
   ]
  },
  {
   "cell_type": "markdown",
   "metadata": {},
   "source": [
    "### Exemplo"
   ]
  },
  {
   "cell_type": "code",
   "execution_count": 52,
   "metadata": {},
   "outputs": [
    {
     "name": "stdout",
     "output_type": "stream",
     "text": [
      "População: \n",
      "   state/region     ages  year  population\n",
      "0           AL  under18  2012   1117489.0\n",
      "1           AL    total  2012   4817528.0\n",
      "2           AL  under18  2010   1130966.0\n",
      "3           AL    total  2010   4785570.0\n",
      "4           AL  under18  2011   1125763.0\n",
      "\n",
      "\n",
      "        state  area (sq. mi)\n",
      "0     Alabama          52423\n",
      "1      Alaska         656425\n",
      "2     Arizona         114006\n",
      "3    Arkansas          53182\n",
      "4  California         163707\n",
      "\n",
      "\n",
      "        state abbreviation\n",
      "0     Alabama           AL\n",
      "1      Alaska           AK\n",
      "2     Arizona           AZ\n",
      "3    Arkansas           AR\n",
      "4  California           CA\n"
     ]
    }
   ],
   "source": [
    "# pandas-exemplo-48\n",
    "# Leitura de arquivos csv\n",
    "pop = pd.read_csv('data/state-population.csv')\n",
    "areas = pd.read_csv('data/state-areas.csv')\n",
    "uf = pd.read_csv('data/state-abbrevs.csv')\n",
    "print('População: \\n',pop.head())\n",
    "print('\\n')\n",
    "print(areas.head())\n",
    "print('\\n')\n",
    "print(uf.head())"
   ]
  },
  {
   "cell_type": "code",
   "execution_count": 53,
   "metadata": {},
   "outputs": [
    {
     "name": "stdout",
     "output_type": "stream",
     "text": [
      "     state/region     ages  year   population    state abbreviation\n",
      "0              AL  under18  2012    1117489.0  Alabama           AL\n",
      "1              AL    total  2012    4817528.0  Alabama           AL\n",
      "2              AL  under18  2010    1130966.0  Alabama           AL\n",
      "3              AL    total  2010    4785570.0  Alabama           AL\n",
      "4              AL  under18  2011    1125763.0  Alabama           AL\n",
      "...           ...      ...   ...          ...      ...          ...\n",
      "2539          USA    total  2010  309326295.0      NaN          NaN\n",
      "2540          USA  under18  2011   73902222.0      NaN          NaN\n",
      "2541          USA    total  2011  311582564.0      NaN          NaN\n",
      "2542          USA  under18  2012   73708179.0      NaN          NaN\n",
      "2543          USA    total  2012  313873685.0      NaN          NaN\n",
      "\n",
      "[2544 rows x 6 columns]\n"
     ]
    },
    {
     "data": {
      "text/html": [
       "<div>\n",
       "<style scoped>\n",
       "    .dataframe tbody tr th:only-of-type {\n",
       "        vertical-align: middle;\n",
       "    }\n",
       "\n",
       "    .dataframe tbody tr th {\n",
       "        vertical-align: top;\n",
       "    }\n",
       "\n",
       "    .dataframe thead th {\n",
       "        text-align: right;\n",
       "    }\n",
       "</style>\n",
       "<table border=\"1\" class=\"dataframe\">\n",
       "  <thead>\n",
       "    <tr style=\"text-align: right;\">\n",
       "      <th></th>\n",
       "      <th>state/region</th>\n",
       "      <th>ages</th>\n",
       "      <th>year</th>\n",
       "      <th>population</th>\n",
       "      <th>state</th>\n",
       "    </tr>\n",
       "  </thead>\n",
       "  <tbody>\n",
       "    <tr>\n",
       "      <th>0</th>\n",
       "      <td>AL</td>\n",
       "      <td>under18</td>\n",
       "      <td>2012</td>\n",
       "      <td>1117489.0</td>\n",
       "      <td>Alabama</td>\n",
       "    </tr>\n",
       "    <tr>\n",
       "      <th>1</th>\n",
       "      <td>AL</td>\n",
       "      <td>total</td>\n",
       "      <td>2012</td>\n",
       "      <td>4817528.0</td>\n",
       "      <td>Alabama</td>\n",
       "    </tr>\n",
       "    <tr>\n",
       "      <th>2</th>\n",
       "      <td>AL</td>\n",
       "      <td>under18</td>\n",
       "      <td>2010</td>\n",
       "      <td>1130966.0</td>\n",
       "      <td>Alabama</td>\n",
       "    </tr>\n",
       "    <tr>\n",
       "      <th>3</th>\n",
       "      <td>AL</td>\n",
       "      <td>total</td>\n",
       "      <td>2010</td>\n",
       "      <td>4785570.0</td>\n",
       "      <td>Alabama</td>\n",
       "    </tr>\n",
       "    <tr>\n",
       "      <th>4</th>\n",
       "      <td>AL</td>\n",
       "      <td>under18</td>\n",
       "      <td>2011</td>\n",
       "      <td>1125763.0</td>\n",
       "      <td>Alabama</td>\n",
       "    </tr>\n",
       "  </tbody>\n",
       "</table>\n",
       "</div>"
      ],
      "text/plain": [
       "  state/region     ages  year  population    state\n",
       "0           AL  under18  2012   1117489.0  Alabama\n",
       "1           AL    total  2012   4817528.0  Alabama\n",
       "2           AL  under18  2010   1130966.0  Alabama\n",
       "3           AL    total  2010   4785570.0  Alabama\n",
       "4           AL  under18  2011   1125763.0  Alabama"
      ]
     },
     "execution_count": 53,
     "metadata": {},
     "output_type": "execute_result"
    }
   ],
   "source": [
    "# pandas-exemplo-49\n",
    "# Combinando arquivos\n",
    "mistura = pd.merge(pop, uf, how='outer',left_on='state/region', right_on='abbreviation')\n",
    "print(mistura) \n",
    "# eliminando colunas\n",
    "ndf = mistura.drop('abbreviation', 1) # eliminando informação duplicada\n",
    "ndf.head()"
   ]
  },
  {
   "cell_type": "markdown",
   "metadata": {},
   "source": [
    "### NaN: Dados Númericos Ausentes"
   ]
  },
  {
   "cell_type": "code",
   "execution_count": 54,
   "metadata": {},
   "outputs": [
    {
     "data": {
      "text/plain": [
       "dtype('<U11')"
      ]
     },
     "execution_count": 54,
     "metadata": {},
     "output_type": "execute_result"
    }
   ],
   "source": [
    "# pandas-exemplo-50\n",
    "# vetor com falta de valores\n",
    "valores = np.array([-1, 0,'', 2, np.nan, 4, 5])\n",
    "valores.dtype"
   ]
  },
  {
   "cell_type": "code",
   "execution_count": 55,
   "metadata": {},
   "outputs": [
    {
     "name": "stdout",
     "output_type": "stream",
     "text": [
      "s:  nan\n",
      "p:  nan\n"
     ]
    }
   ],
   "source": [
    "# pandas-exemplo-51\n",
    "# soma de NaN\n",
    "print('s: ',1 + np.nan)\n",
    "print('p: ',0*np.nan)"
   ]
  },
  {
   "cell_type": "code",
   "execution_count": 62,
   "metadata": {},
   "outputs": [
    {
     "name": "stdout",
     "output_type": "stream",
     "text": [
      "5091816\n",
      "1990\n",
      "2013\n"
     ]
    }
   ],
   "source": [
    "# pandas-exemplo-52\n",
    "# operações basicas (agregadores) sempre são nulas\n",
    "valores=ndf[\"year\"] #recebeu todos os anos\n",
    "print(valores.sum()) #soma todos os valores\n",
    "print(valores.min()) #mínimo/menor de todos os valores\n",
    "print(valores.max()) #máximo/maior de todos os valores\n",
    "#para ver todos os métodos/funções aplicáveis, basta <TAB> após objeto.\n"
   ]
  },
  {
   "cell_type": "code",
   "execution_count": 64,
   "metadata": {},
   "outputs": [
    {
     "name": "stdout",
     "output_type": "stream",
     "text": [
      "10.0\n",
      "2.0\n"
     ]
    }
   ],
   "source": [
    "# pandas-exemplo-53\n",
    "# soma desconsiderando os valores de NaN\n",
    "valores = np.array([-1, 0, 2, np.nan, 4, 5])\n",
    "ss = np.nansum(valores)\n",
    "print(ss)\n",
    "# média desconsiderando os valores de NaN\n",
    "ss = np.nanmean(valores)\n",
    "print(ss)\n",
    "#para ver todos os métodos/funções aplicáveis, basta <TAB> após objeto."
   ]
  },
  {
   "cell_type": "code",
   "execution_count": 65,
   "metadata": {},
   "outputs": [
    {
     "data": {
      "text/plain": [
       "0    4.0\n",
       "1    NaN\n",
       "2    2.0\n",
       "3    3.0\n",
       "4    NaN\n",
       "dtype: float64"
      ]
     },
     "execution_count": 65,
     "metadata": {},
     "output_type": "execute_result"
    }
   ],
   "source": [
    "# pandas-exemplo-54\n",
    "# NaN e None\n",
    "serie_p = pd.Series([4, np.nan, 2, 3, None])\n",
    "serie_p.head()"
   ]
  },
  {
   "cell_type": "code",
   "execution_count": 66,
   "metadata": {},
   "outputs": [
    {
     "name": "stdout",
     "output_type": "stream",
     "text": [
      "0 4.0\n",
      "1 nan\n",
      "2 2.0\n",
      "3 3.0\n",
      "4 nan\n"
     ]
    }
   ],
   "source": [
    "# pandas-exemplo-55\n",
    "# usando while para NaN\n",
    "index = 0\n",
    "while index < len(serie_p): \n",
    "    print(index, serie_p[index])\n",
    "    index += 1\n",
    "    "
   ]
  },
  {
   "cell_type": "code",
   "execution_count": 67,
   "metadata": {},
   "outputs": [
    {
     "data": {
      "text/plain": [
       "0    False\n",
       "1     True\n",
       "2    False\n",
       "3    False\n",
       "4     True\n",
       "dtype: bool"
      ]
     },
     "execution_count": 67,
     "metadata": {},
     "output_type": "execute_result"
    }
   ],
   "source": [
    "# pandas-exemplo-56\n",
    "# detectanado valores nulos (true)\n",
    "serie_p.isnull()"
   ]
  },
  {
   "cell_type": "code",
   "execution_count": 68,
   "metadata": {},
   "outputs": [
    {
     "data": {
      "text/plain": [
       "0    4.0\n",
       "2    2.0\n",
       "3    3.0\n",
       "dtype: float64"
      ]
     },
     "execution_count": 68,
     "metadata": {},
     "output_type": "execute_result"
    }
   ],
   "source": [
    "# pandas-exemplo-57\n",
    "#\n",
    "serie0 = serie_p[serie_p.notnull()]\n",
    "serie0"
   ]
  },
  {
   "cell_type": "code",
   "execution_count": 69,
   "metadata": {},
   "outputs": [
    {
     "data": {
      "text/plain": [
       "0    4.0\n",
       "2    2.0\n",
       "3    3.0\n",
       "dtype: float64"
      ]
     },
     "execution_count": 69,
     "metadata": {},
     "output_type": "execute_result"
    }
   ],
   "source": [
    "# pandas-exemplo-58\n",
    "# dropna() descartará todas as linhas nas quais qualquer valor nulo estiver presente\n",
    "nserie = serie_p.dropna()\n",
    "nserie"
   ]
  },
  {
   "cell_type": "code",
   "execution_count": 70,
   "metadata": {},
   "outputs": [
    {
     "name": "stdout",
     "output_type": "stream",
     "text": [
      "     0    1  2\n",
      "0  1.0  NaN  2\n",
      "1  2.0  3.0  5\n",
      "2  NaN  4.0  6\n",
      "   2\n",
      "0  2\n",
      "1  5\n",
      "2  6\n",
      "     0    1  2\n",
      "0  1.0  0.0  2\n",
      "1  2.0  3.0  5\n",
      "2  0.0  4.0  6\n"
     ]
    }
   ],
   "source": [
    "# pandas-exemplo-59\n",
    "# mudando valores nulos\n",
    "serie_teste = pd.DataFrame([[1, np.nan, 2],[2, 3, 5],[np.nan, 4, 6]])\n",
    "print(serie_teste)\n",
    "nova_serie = serie_teste.dropna(axis='columns')\n",
    "print(nova_serie)\n",
    "# fill com 0=NaN\n",
    "serie_teste0 = serie_teste.fillna(0)\n",
    "print(serie_teste0)"
   ]
  },
  {
   "cell_type": "markdown",
   "metadata": {},
   "source": [
    "## Graficos em Pandas\n",
    "> O **dataframe** do pandas possui métodos de visualização como Matplotlib."
   ]
  },
  {
   "cell_type": "code",
   "execution_count": 71,
   "metadata": {},
   "outputs": [
    {
     "data": {
      "text/html": [
       "<div>\n",
       "<style scoped>\n",
       "    .dataframe tbody tr th:only-of-type {\n",
       "        vertical-align: middle;\n",
       "    }\n",
       "\n",
       "    .dataframe tbody tr th {\n",
       "        vertical-align: top;\n",
       "    }\n",
       "\n",
       "    .dataframe thead th {\n",
       "        text-align: right;\n",
       "    }\n",
       "</style>\n",
       "<table border=\"1\" class=\"dataframe\">\n",
       "  <thead>\n",
       "    <tr style=\"text-align: right;\">\n",
       "      <th></th>\n",
       "      <th>A</th>\n",
       "      <th>B</th>\n",
       "      <th>C</th>\n",
       "      <th>D</th>\n",
       "      <th>E</th>\n",
       "    </tr>\n",
       "  </thead>\n",
       "  <tbody>\n",
       "    <tr>\n",
       "      <th>0</th>\n",
       "      <td>-2.395577</td>\n",
       "      <td>-1.004691</td>\n",
       "      <td>-1.003816</td>\n",
       "      <td>-1.186926</td>\n",
       "      <td>-0.687137</td>\n",
       "    </tr>\n",
       "    <tr>\n",
       "      <th>1</th>\n",
       "      <td>-0.901881</td>\n",
       "      <td>0.351765</td>\n",
       "      <td>-0.711693</td>\n",
       "      <td>-1.369328</td>\n",
       "      <td>1.050051</td>\n",
       "    </tr>\n",
       "    <tr>\n",
       "      <th>2</th>\n",
       "      <td>-0.275118</td>\n",
       "      <td>0.920816</td>\n",
       "      <td>0.497271</td>\n",
       "      <td>2.384252</td>\n",
       "      <td>0.506143</td>\n",
       "    </tr>\n",
       "    <tr>\n",
       "      <th>3</th>\n",
       "      <td>-0.206022</td>\n",
       "      <td>0.223137</td>\n",
       "      <td>0.227767</td>\n",
       "      <td>0.727689</td>\n",
       "      <td>-0.013096</td>\n",
       "    </tr>\n",
       "    <tr>\n",
       "      <th>4</th>\n",
       "      <td>-0.387863</td>\n",
       "      <td>-0.556036</td>\n",
       "      <td>2.029018</td>\n",
       "      <td>0.057564</td>\n",
       "      <td>-1.238925</td>\n",
       "    </tr>\n",
       "  </tbody>\n",
       "</table>\n",
       "</div>"
      ],
      "text/plain": [
       "          A         B         C         D         E\n",
       "0 -2.395577 -1.004691 -1.003816 -1.186926 -0.687137\n",
       "1 -0.901881  0.351765 -0.711693 -1.369328  1.050051\n",
       "2 -0.275118  0.920816  0.497271  2.384252  0.506143\n",
       "3 -0.206022  0.223137  0.227767  0.727689 -0.013096\n",
       "4 -0.387863 -0.556036  2.029018  0.057564 -1.238925"
      ]
     },
     "execution_count": 71,
     "metadata": {},
     "output_type": "execute_result"
    }
   ],
   "source": [
    "# gerando os dados\n",
    "%matplotlib inline\n",
    "import matplotlib.pyplot as plt\n",
    "#\n",
    "df_vis = pd.DataFrame(np.random.randn(10, 5),columns=['A', 'B', 'C', 'D','E'])\n",
    "df_vis.head()"
   ]
  },
  {
   "cell_type": "code",
   "execution_count": 72,
   "metadata": {},
   "outputs": [
    {
     "data": {
      "image/png": "[encoded data removed]",
      "text/plain": [
       "<Figure size 432x288 with 1 Axes>"
      ]
     },
     "metadata": {
      "needs_background": "light"
     },
     "output_type": "display_data"
    }
   ],
   "source": [
    "# Exemplo barras verticais\n",
    "df_vis.plot.bar();\n",
    "#plt.grid(True)\n",
    "#plt.show()"
   ]
  },
  {
   "cell_type": "code",
   "execution_count": 73,
   "metadata": {},
   "outputs": [
    {
     "data": {
      "image/png": "[encoded data removed]",
      "text/plain": [
       "<Figure size 432x288 with 1 Axes>"
      ]
     },
     "metadata": {
      "needs_background": "light"
     },
     "output_type": "display_data"
    }
   ],
   "source": [
    "# barra horizontal\n",
    "df_vis.plot.barh();\n",
    "#plt.grid(True)\n",
    "#plt.show()"
   ]
  },
  {
   "cell_type": "code",
   "execution_count": 74,
   "metadata": {},
   "outputs": [
    {
     "data": {
      "text/html": [
       "<div>\n",
       "<style scoped>\n",
       "    .dataframe tbody tr th:only-of-type {\n",
       "        vertical-align: middle;\n",
       "    }\n",
       "\n",
       "    .dataframe tbody tr th {\n",
       "        vertical-align: top;\n",
       "    }\n",
       "\n",
       "    .dataframe thead th {\n",
       "        text-align: right;\n",
       "    }\n",
       "</style>\n",
       "<table border=\"1\" class=\"dataframe\">\n",
       "  <thead>\n",
       "    <tr style=\"text-align: right;\">\n",
       "      <th></th>\n",
       "      <th>A</th>\n",
       "      <th>B</th>\n",
       "      <th>C</th>\n",
       "      <th>D</th>\n",
       "      <th>E</th>\n",
       "    </tr>\n",
       "  </thead>\n",
       "  <tbody>\n",
       "    <tr>\n",
       "      <th>0</th>\n",
       "      <td>0.018758</td>\n",
       "      <td>0.091636</td>\n",
       "      <td>0.341210</td>\n",
       "      <td>0.220302</td>\n",
       "      <td>0.562857</td>\n",
       "    </tr>\n",
       "    <tr>\n",
       "      <th>1</th>\n",
       "      <td>0.539461</td>\n",
       "      <td>0.495362</td>\n",
       "      <td>0.300753</td>\n",
       "      <td>0.511449</td>\n",
       "      <td>0.786229</td>\n",
       "    </tr>\n",
       "    <tr>\n",
       "      <th>2</th>\n",
       "      <td>0.812506</td>\n",
       "      <td>0.532841</td>\n",
       "      <td>0.806335</td>\n",
       "      <td>0.034275</td>\n",
       "      <td>0.154066</td>\n",
       "    </tr>\n",
       "    <tr>\n",
       "      <th>3</th>\n",
       "      <td>0.748185</td>\n",
       "      <td>0.384870</td>\n",
       "      <td>0.317898</td>\n",
       "      <td>0.572009</td>\n",
       "      <td>0.372421</td>\n",
       "    </tr>\n",
       "    <tr>\n",
       "      <th>4</th>\n",
       "      <td>0.909530</td>\n",
       "      <td>0.386971</td>\n",
       "      <td>0.836249</td>\n",
       "      <td>0.601764</td>\n",
       "      <td>0.912019</td>\n",
       "    </tr>\n",
       "  </tbody>\n",
       "</table>\n",
       "</div>"
      ],
      "text/plain": [
       "          A         B         C         D         E\n",
       "0  0.018758  0.091636  0.341210  0.220302  0.562857\n",
       "1  0.539461  0.495362  0.300753  0.511449  0.786229\n",
       "2  0.812506  0.532841  0.806335  0.034275  0.154066\n",
       "3  0.748185  0.384870  0.317898  0.572009  0.372421\n",
       "4  0.909530  0.386971  0.836249  0.601764  0.912019"
      ]
     },
     "execution_count": 74,
     "metadata": {},
     "output_type": "execute_result"
    }
   ],
   "source": [
    "df_vis1 = pd.DataFrame(np.random.rand(10, 5),columns=['A', 'B', 'C', 'D','E'])\n",
    "df_vis1.head()"
   ]
  },
  {
   "cell_type": "code",
   "execution_count": 75,
   "metadata": {},
   "outputs": [
    {
     "data": {
      "image/png": "[encoded data removed]",
      "text/plain": [
       "<Figure size 432x288 with 1 Axes>"
      ]
     },
     "metadata": {
      "needs_background": "light"
     },
     "output_type": "display_data"
    }
   ],
   "source": [
    "# Exemplo barras verticais\n",
    "df_vis1.plot.bar(stacked=True);\n",
    "#plt.grid(True)\n",
    "#plt.show()"
   ]
  },
  {
   "cell_type": "code",
   "execution_count": 76,
   "metadata": {},
   "outputs": [
    {
     "data": {
      "image/png": "[encoded data removed]",
      "text/plain": [
       "<Figure size 432x288 with 1 Axes>"
      ]
     },
     "metadata": {
      "needs_background": "light"
     },
     "output_type": "display_data"
    }
   ],
   "source": [
    "# Exemplo barras horizontal\n",
    "df_vis1.plot.barh(stacked=True);\n",
    "#plt.grid(True)\n",
    "#plt.show()"
   ]
  },
  {
   "cell_type": "code",
   "execution_count": 84,
   "metadata": {},
   "outputs": [
    {
     "data": {
      "image/png": "[encoded data removed]",
      "text/plain": [
       "<Figure size 432x288 with 1 Axes>"
      ]
     },
     "metadata": {
      "needs_background": "light"
     },
     "output_type": "display_data"
    }
   ],
   "source": [
    "# Exemplo histograma\n",
    "df_vis1.plot.hist(bins=10);\n",
    "#plt.grid(True)\n",
    "#plt.show()"
   ]
  },
  {
   "cell_type": "code",
   "execution_count": 78,
   "metadata": {},
   "outputs": [
    {
     "data": {
      "image/png": "[encoded data removed]",
      "text/plain": [
       "<Figure size 432x288 with 1 Axes>"
      ]
     },
     "metadata": {
      "needs_background": "light"
     },
     "output_type": "display_data"
    }
   ],
   "source": [
    "df_vis1[['A','B']].plot.hist(bins=7, alpha=0.7);"
   ]
  },
  {
   "cell_type": "code",
   "execution_count": 79,
   "metadata": {},
   "outputs": [
    {
     "data": {
      "image/png": "[encoded data removed]",
      "text/plain": [
       "<Figure size 432x288 with 1 Axes>"
      ]
     },
     "metadata": {
      "needs_background": "light"
     },
     "output_type": "display_data"
    }
   ],
   "source": [
    "# Exemplo de area\n",
    "df_vis1.plot.area();\n",
    "#plt.grid(True)\n",
    "#plt.show()"
   ]
  },
  {
   "cell_type": "code",
   "execution_count": 80,
   "metadata": {},
   "outputs": [
    {
     "data": {
      "image/png": "[encoded data removed]",
      "text/plain": [
       "<Figure size 432x288 with 1 Axes>"
      ]
     },
     "metadata": {
      "needs_background": "light"
     },
     "output_type": "display_data"
    }
   ],
   "source": [
    "# Exemplo de area\n",
    "df_vis1.plot.area(stacked=False);\n",
    "#plt.grid(True)\n",
    "#plt.show()"
   ]
  },
  {
   "cell_type": "code",
   "execution_count": 81,
   "metadata": {},
   "outputs": [
    {
     "data": {
      "text/html": [
       "<div>\n",
       "<style scoped>\n",
       "    .dataframe tbody tr th:only-of-type {\n",
       "        vertical-align: middle;\n",
       "    }\n",
       "\n",
       "    .dataframe tbody tr th {\n",
       "        vertical-align: top;\n",
       "    }\n",
       "\n",
       "    .dataframe thead th {\n",
       "        text-align: right;\n",
       "    }\n",
       "</style>\n",
       "<table border=\"1\" class=\"dataframe\">\n",
       "  <thead>\n",
       "    <tr style=\"text-align: right;\">\n",
       "      <th></th>\n",
       "      <th>0</th>\n",
       "    </tr>\n",
       "  </thead>\n",
       "  <tbody>\n",
       "    <tr>\n",
       "      <th>a</th>\n",
       "      <td>0.475989</td>\n",
       "    </tr>\n",
       "    <tr>\n",
       "      <th>b</th>\n",
       "      <td>0.337720</td>\n",
       "    </tr>\n",
       "    <tr>\n",
       "      <th>c</th>\n",
       "      <td>0.662635</td>\n",
       "    </tr>\n",
       "    <tr>\n",
       "      <th>d</th>\n",
       "      <td>0.061154</td>\n",
       "    </tr>\n",
       "    <tr>\n",
       "      <th>e</th>\n",
       "      <td>0.372771</td>\n",
       "    </tr>\n",
       "  </tbody>\n",
       "</table>\n",
       "</div>"
      ],
      "text/plain": [
       "          0\n",
       "a  0.475989\n",
       "b  0.337720\n",
       "c  0.662635\n",
       "d  0.061154\n",
       "e  0.372771"
      ]
     },
     "execution_count": 81,
     "metadata": {},
     "output_type": "execute_result"
    }
   ],
   "source": [
    "pie = pd.DataFrame(np.random.rand(5), index=['a', 'b', 'c','d','e'])\n",
    "pie"
   ]
  },
  {
   "cell_type": "code",
   "execution_count": 82,
   "metadata": {},
   "outputs": [
    {
     "data": {
      "image/png": "[encoded data removed]",
      "text/plain": [
       "<Figure size 432x288 with 1 Axes>"
      ]
     },
     "metadata": {},
     "output_type": "display_data"
    }
   ],
   "source": [
    "# Exemplo pie -chart\n",
    "pie.plot.pie(subplots=True);\n",
    "#plt.show()"
   ]
  },
  {
   "cell_type": "markdown",
   "metadata": {
    "colab_type": "text",
    "id": "d1WJEKLB9vbc"
   },
   "source": [
    "------\n",
    "Marcelo Lisboa &copy; 2021. mlisboa@uft.edu.br"
   ]
  },
  {
   "cell_type": "code",
   "execution_count": null,
   "metadata": {},
   "outputs": [],
   "source": []
  }
 ],
 "metadata": {
  "colab": {
   "authorship_tag": "ABX9TyM2g7jZDJeaeD9kJu09PWec",
   "collapsed_sections": [],
   "name": "Python_Data_Science_UFF_2020_M3.ipynb",
   "provenance": []
  },
  "kernelspec": {
   "display_name": "Python 3",
   "language": "python",
   "name": "python3"
  },
  "language_info": {
   "codemirror_mode": {
    "name": "ipython",
    "version": 3
   },
   "file_extension": ".py",
   "mimetype": "text/x-python",
   "name": "python",
   "nbconvert_exporter": "python",
   "pygments_lexer": "ipython3",
   "version": "3.8.6"
  }
 },
 "nbformat": 4,
 "nbformat_minor": 4
}
